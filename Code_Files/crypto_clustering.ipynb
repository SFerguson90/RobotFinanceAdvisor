{
 "cells": [
  {
   "cell_type": "markdown",
   "metadata": {},
   "source": [
    "# Clustering Crypto"
   ]
  },
  {
   "cell_type": "code",
   "execution_count": 90,
   "metadata": {},
   "outputs": [],
   "source": [
    "# Initial imports\n",
    "import requests\n",
    "import pandas as pd\n",
    "import numpy as np\n",
    "import matplotlib.pyplot as plt\n",
    "import hvplot.pandas\n",
    "import plotly.express as px\n",
    "from sklearn.preprocessing import StandardScaler, MinMaxScaler\n",
    "from sklearn.decomposition import PCA\n",
    "from sklearn.cluster import KMeans\n",
    "import urllib, json, urllib.request\n",
    "\n",
    "%matplotlib inline"
   ]
  },
  {
   "cell_type": "markdown",
   "metadata": {},
   "source": [
    "### Fetching Cryptocurrency Data"
   ]
  },
  {
   "cell_type": "code",
   "execution_count": 91,
   "metadata": {},
   "outputs": [
    {
     "data": {
      "text/html": [
       "<div>\n",
       "<style scoped>\n",
       "    .dataframe tbody tr th:only-of-type {\n",
       "        vertical-align: middle;\n",
       "    }\n",
       "\n",
       "    .dataframe tbody tr th {\n",
       "        vertical-align: top;\n",
       "    }\n",
       "\n",
       "    .dataframe thead th {\n",
       "        text-align: right;\n",
       "    }\n",
       "</style>\n",
       "<table border=\"1\" class=\"dataframe\">\n",
       "  <thead>\n",
       "    <tr style=\"text-align: right;\">\n",
       "      <th></th>\n",
       "      <th>Id</th>\n",
       "      <th>Url</th>\n",
       "      <th>ImageUrl</th>\n",
       "      <th>ContentCreatedOn</th>\n",
       "      <th>Name</th>\n",
       "      <th>Symbol</th>\n",
       "      <th>CoinName</th>\n",
       "      <th>FullName</th>\n",
       "      <th>Description</th>\n",
       "      <th>AssetTokenStatus</th>\n",
       "      <th>...</th>\n",
       "      <th>SortOrder</th>\n",
       "      <th>Sponsored</th>\n",
       "      <th>Taxonomy</th>\n",
       "      <th>Rating</th>\n",
       "      <th>IsTrading</th>\n",
       "      <th>TotalCoinsMined</th>\n",
       "      <th>BlockNumber</th>\n",
       "      <th>NetHashesPerSecond</th>\n",
       "      <th>BlockReward</th>\n",
       "      <th>BlockTime</th>\n",
       "    </tr>\n",
       "  </thead>\n",
       "  <tbody>\n",
       "    <tr>\n",
       "      <th>42</th>\n",
       "      <td>4321</td>\n",
       "      <td>/coins/42/overview</td>\n",
       "      <td>/media/35650717/42.jpg</td>\n",
       "      <td>1427211129</td>\n",
       "      <td>42</td>\n",
       "      <td>42</td>\n",
       "      <td>42 Coin</td>\n",
       "      <td>42 Coin (42)</td>\n",
       "      <td>Everything about 42 coin is 42 - apart from th...</td>\n",
       "      <td>N/A</td>\n",
       "      <td>...</td>\n",
       "      <td>34</td>\n",
       "      <td>False</td>\n",
       "      <td>{'Access': '', 'FCA': '', 'FINMA': '', 'Indust...</td>\n",
       "      <td>{'Weiss': {'Rating': '', 'TechnologyAdoptionRa...</td>\n",
       "      <td>True</td>\n",
       "      <td>42</td>\n",
       "      <td>204348</td>\n",
       "      <td>0</td>\n",
       "      <td>0</td>\n",
       "      <td>0</td>\n",
       "    </tr>\n",
       "  </tbody>\n",
       "</table>\n",
       "<p>1 rows × 29 columns</p>\n",
       "</div>"
      ],
      "text/plain": [
       "      Id                 Url                ImageUrl ContentCreatedOn Name  \\\n",
       "42  4321  /coins/42/overview  /media/35650717/42.jpg       1427211129   42   \n",
       "\n",
       "   Symbol CoinName      FullName  \\\n",
       "42     42  42 Coin  42 Coin (42)   \n",
       "\n",
       "                                          Description AssetTokenStatus  ...  \\\n",
       "42  Everything about 42 coin is 42 - apart from th...              N/A  ...   \n",
       "\n",
       "   SortOrder Sponsored                                           Taxonomy  \\\n",
       "42        34     False  {'Access': '', 'FCA': '', 'FINMA': '', 'Indust...   \n",
       "\n",
       "                                               Rating IsTrading  \\\n",
       "42  {'Weiss': {'Rating': '', 'TechnologyAdoptionRa...      True   \n",
       "\n",
       "   TotalCoinsMined BlockNumber NetHashesPerSecond BlockReward BlockTime  \n",
       "42              42      204348                  0           0         0  \n",
       "\n",
       "[1 rows x 29 columns]"
      ]
     },
     "execution_count": 91,
     "metadata": {},
     "output_type": "execute_result"
    }
   ],
   "source": [
    "# Use the following endpoint to fetch json data\n",
    "url = \"https://min-api.cryptocompare.com/data/all/coinlist\"\n",
    "response = urllib.request.urlopen(url)\n",
    "data = json.loads(response.read())\n",
    "coin_data = data['Data']\n",
    "\n",
    "# Create a DataFrame \n",
    "coin_df = pd.DataFrame(coin_data)\n",
    "coin_df = coin_df.transpose()\n",
    "coin_df.head(1)"
   ]
  },
  {
   "cell_type": "code",
   "execution_count": 92,
   "metadata": {},
   "outputs": [],
   "source": [
    "# Alternatively, use the provided csv file:\n",
    "# file_path = Path(\"Resources/crypto_data.csv\")\n",
    "###Create a DataFrame"
   ]
  },
  {
   "cell_type": "markdown",
   "metadata": {},
   "source": [
    "### Data Preprocessing"
   ]
  },
  {
   "cell_type": "code",
   "execution_count": 93,
   "metadata": {
    "scrolled": true
   },
   "outputs": [
    {
     "data": {
      "text/html": [
       "<div>\n",
       "<style scoped>\n",
       "    .dataframe tbody tr th:only-of-type {\n",
       "        vertical-align: middle;\n",
       "    }\n",
       "\n",
       "    .dataframe tbody tr th {\n",
       "        vertical-align: top;\n",
       "    }\n",
       "\n",
       "    .dataframe thead th {\n",
       "        text-align: right;\n",
       "    }\n",
       "</style>\n",
       "<table border=\"1\" class=\"dataframe\">\n",
       "  <thead>\n",
       "    <tr style=\"text-align: right;\">\n",
       "      <th></th>\n",
       "      <th>CoinName</th>\n",
       "      <th>Algorithm</th>\n",
       "      <th>IsTrading</th>\n",
       "      <th>ProofType</th>\n",
       "      <th>TotalCoinsMined</th>\n",
       "      <th>TotalCoinSupply</th>\n",
       "    </tr>\n",
       "  </thead>\n",
       "  <tbody>\n",
       "    <tr>\n",
       "      <th>42</th>\n",
       "      <td>42 Coin</td>\n",
       "      <td>Scrypt</td>\n",
       "      <td>True</td>\n",
       "      <td>PoW/PoS</td>\n",
       "      <td>42</td>\n",
       "      <td>42</td>\n",
       "    </tr>\n",
       "    <tr>\n",
       "      <th>300</th>\n",
       "      <td>300 token</td>\n",
       "      <td>N/A</td>\n",
       "      <td>True</td>\n",
       "      <td>N/A</td>\n",
       "      <td>300</td>\n",
       "      <td>300</td>\n",
       "    </tr>\n",
       "    <tr>\n",
       "      <th>365</th>\n",
       "      <td>365Coin</td>\n",
       "      <td>X11</td>\n",
       "      <td>True</td>\n",
       "      <td>PoW/PoS</td>\n",
       "      <td>NaN</td>\n",
       "      <td>2300000000</td>\n",
       "    </tr>\n",
       "    <tr>\n",
       "      <th>404</th>\n",
       "      <td>404Coin</td>\n",
       "      <td>Scrypt</td>\n",
       "      <td>True</td>\n",
       "      <td>PoW/PoS</td>\n",
       "      <td>1.97105e+06</td>\n",
       "      <td>532000000</td>\n",
       "    </tr>\n",
       "    <tr>\n",
       "      <th>433</th>\n",
       "      <td>433 Token</td>\n",
       "      <td>N/A</td>\n",
       "      <td>False</td>\n",
       "      <td>N/A</td>\n",
       "      <td>1.12518e+08</td>\n",
       "      <td>1000000000</td>\n",
       "    </tr>\n",
       "  </tbody>\n",
       "</table>\n",
       "</div>"
      ],
      "text/plain": [
       "      CoinName Algorithm IsTrading ProofType TotalCoinsMined TotalCoinSupply\n",
       "42     42 Coin    Scrypt      True   PoW/PoS              42              42\n",
       "300  300 token       N/A      True       N/A             300             300\n",
       "365    365Coin       X11      True   PoW/PoS             NaN      2300000000\n",
       "404    404Coin    Scrypt      True   PoW/PoS     1.97105e+06       532000000\n",
       "433  433 Token       N/A     False       N/A     1.12518e+08      1000000000"
      ]
     },
     "execution_count": 93,
     "metadata": {},
     "output_type": "execute_result"
    }
   ],
   "source": [
    "# Keep only necessary columns:\n",
    "# 'CoinName','Algorithm','IsTrading','ProofType','TotalCoinsMined','TotalCoinSupply'\n",
    "coin_name = coin_df['CoinName']\n",
    "coin_algo = coin_df['Algorithm']\n",
    "coin_trade = coin_df['IsTrading']\n",
    "coin_proof = coin_df['ProofType']\n",
    "coin_mined = coin_df['TotalCoinsMined']\n",
    "coin_supply = coin_df['TotalCoinSupply']\n",
    "coin_df = pd.DataFrame(data=[coin_name, coin_algo, coin_trade,\n",
    "                            coin_proof, coin_mined, coin_supply])\n",
    "coin_df = coin_df.transpose()\n",
    "coin_df.head()"
   ]
  },
  {
   "cell_type": "code",
   "execution_count": 94,
   "metadata": {},
   "outputs": [
    {
     "data": {
      "text/plain": [
       "(5628, 6)"
      ]
     },
     "execution_count": 94,
     "metadata": {},
     "output_type": "execute_result"
    }
   ],
   "source": [
    "coin_df.shape"
   ]
  },
  {
   "cell_type": "code",
   "execution_count": 95,
   "metadata": {},
   "outputs": [],
   "source": [
    "# Keep only cryptocurrencies that are trading\n",
    "coin_df = coin_df[coin_df['IsTrading'] == True]"
   ]
  },
  {
   "cell_type": "code",
   "execution_count": 96,
   "metadata": {},
   "outputs": [
    {
     "data": {
      "text/plain": [
       "(4435, 6)"
      ]
     },
     "execution_count": 96,
     "metadata": {},
     "output_type": "execute_result"
    }
   ],
   "source": [
    "coin_df.shape"
   ]
  },
  {
   "cell_type": "code",
   "execution_count": 97,
   "metadata": {},
   "outputs": [],
   "source": [
    "# Keep only cryptocurrencies with a working algorithm\n",
    "coin_df = coin_df[coin_df['Algorithm'] != 'N/A']"
   ]
  },
  {
   "cell_type": "code",
   "execution_count": 98,
   "metadata": {},
   "outputs": [
    {
     "data": {
      "text/plain": [
       "(1464, 6)"
      ]
     },
     "execution_count": 98,
     "metadata": {},
     "output_type": "execute_result"
    }
   ],
   "source": [
    "coin_df.shape"
   ]
  },
  {
   "cell_type": "code",
   "execution_count": 99,
   "metadata": {
    "scrolled": true
   },
   "outputs": [
    {
     "data": {
      "text/html": [
       "<div>\n",
       "<style scoped>\n",
       "    .dataframe tbody tr th:only-of-type {\n",
       "        vertical-align: middle;\n",
       "    }\n",
       "\n",
       "    .dataframe tbody tr th {\n",
       "        vertical-align: top;\n",
       "    }\n",
       "\n",
       "    .dataframe thead th {\n",
       "        text-align: right;\n",
       "    }\n",
       "</style>\n",
       "<table border=\"1\" class=\"dataframe\">\n",
       "  <thead>\n",
       "    <tr style=\"text-align: right;\">\n",
       "      <th></th>\n",
       "      <th>CoinName</th>\n",
       "      <th>Algorithm</th>\n",
       "      <th>ProofType</th>\n",
       "      <th>TotalCoinsMined</th>\n",
       "      <th>TotalCoinSupply</th>\n",
       "    </tr>\n",
       "  </thead>\n",
       "  <tbody>\n",
       "    <tr>\n",
       "      <th>42</th>\n",
       "      <td>42 Coin</td>\n",
       "      <td>Scrypt</td>\n",
       "      <td>PoW/PoS</td>\n",
       "      <td>42</td>\n",
       "      <td>42</td>\n",
       "    </tr>\n",
       "    <tr>\n",
       "      <th>365</th>\n",
       "      <td>365Coin</td>\n",
       "      <td>X11</td>\n",
       "      <td>PoW/PoS</td>\n",
       "      <td>NaN</td>\n",
       "      <td>2300000000</td>\n",
       "    </tr>\n",
       "    <tr>\n",
       "      <th>404</th>\n",
       "      <td>404Coin</td>\n",
       "      <td>Scrypt</td>\n",
       "      <td>PoW/PoS</td>\n",
       "      <td>1.97105e+06</td>\n",
       "      <td>532000000</td>\n",
       "    </tr>\n",
       "    <tr>\n",
       "      <th>611</th>\n",
       "      <td>SixEleven</td>\n",
       "      <td>SHA-256</td>\n",
       "      <td>PoW</td>\n",
       "      <td>NaN</td>\n",
       "      <td>611000</td>\n",
       "    </tr>\n",
       "    <tr>\n",
       "      <th>808</th>\n",
       "      <td>808</td>\n",
       "      <td>SHA-256</td>\n",
       "      <td>PoW/PoS</td>\n",
       "      <td>0</td>\n",
       "      <td>0</td>\n",
       "    </tr>\n",
       "  </tbody>\n",
       "</table>\n",
       "</div>"
      ],
      "text/plain": [
       "      CoinName Algorithm ProofType TotalCoinsMined TotalCoinSupply\n",
       "42     42 Coin    Scrypt   PoW/PoS              42              42\n",
       "365    365Coin       X11   PoW/PoS             NaN      2300000000\n",
       "404    404Coin    Scrypt   PoW/PoS     1.97105e+06       532000000\n",
       "611  SixEleven   SHA-256       PoW             NaN          611000\n",
       "808        808   SHA-256   PoW/PoS               0               0"
      ]
     },
     "execution_count": 99,
     "metadata": {},
     "output_type": "execute_result"
    }
   ],
   "source": [
    "# Remove the \"IsTrading\" column\n",
    "coin_df.drop(columns='IsTrading',inplace=True)\n",
    "coin_df.head()"
   ]
  },
  {
   "cell_type": "code",
   "execution_count": 100,
   "metadata": {},
   "outputs": [
    {
     "name": "stdout",
     "output_type": "stream",
     "text": [
      "(526, 5)\n"
     ]
    },
    {
     "data": {
      "text/html": [
       "<div>\n",
       "<style scoped>\n",
       "    .dataframe tbody tr th:only-of-type {\n",
       "        vertical-align: middle;\n",
       "    }\n",
       "\n",
       "    .dataframe tbody tr th {\n",
       "        vertical-align: top;\n",
       "    }\n",
       "\n",
       "    .dataframe thead th {\n",
       "        text-align: right;\n",
       "    }\n",
       "</style>\n",
       "<table border=\"1\" class=\"dataframe\">\n",
       "  <thead>\n",
       "    <tr style=\"text-align: right;\">\n",
       "      <th></th>\n",
       "      <th>CoinName</th>\n",
       "      <th>Algorithm</th>\n",
       "      <th>ProofType</th>\n",
       "      <th>TotalCoinsMined</th>\n",
       "      <th>TotalCoinSupply</th>\n",
       "    </tr>\n",
       "  </thead>\n",
       "  <tbody>\n",
       "    <tr>\n",
       "      <th>42</th>\n",
       "      <td>42 Coin</td>\n",
       "      <td>Scrypt</td>\n",
       "      <td>PoW/PoS</td>\n",
       "      <td>42</td>\n",
       "      <td>42</td>\n",
       "    </tr>\n",
       "    <tr>\n",
       "      <th>404</th>\n",
       "      <td>404Coin</td>\n",
       "      <td>Scrypt</td>\n",
       "      <td>PoW/PoS</td>\n",
       "      <td>1.97105e+06</td>\n",
       "      <td>532000000</td>\n",
       "    </tr>\n",
       "    <tr>\n",
       "      <th>1337</th>\n",
       "      <td>EliteCoin</td>\n",
       "      <td>X13</td>\n",
       "      <td>PoW/PoS</td>\n",
       "      <td>2.95049e+10</td>\n",
       "      <td>314159265359</td>\n",
       "    </tr>\n",
       "  </tbody>\n",
       "</table>\n",
       "</div>"
      ],
      "text/plain": [
       "       CoinName Algorithm ProofType TotalCoinsMined TotalCoinSupply\n",
       "42      42 Coin    Scrypt   PoW/PoS              42              42\n",
       "404     404Coin    Scrypt   PoW/PoS     1.97105e+06       532000000\n",
       "1337  EliteCoin       X13   PoW/PoS     2.95049e+10    314159265359"
      ]
     },
     "execution_count": 100,
     "metadata": {},
     "output_type": "execute_result"
    }
   ],
   "source": [
    "# Remove rows with at least 1 null value\n",
    "coin_df = coin_df[coin_df['TotalCoinSupply'] != '0']\n",
    "\n",
    "# Remove rows with cryptocurrencies having no coins mined\n",
    "coin_df = coin_df[coin_df['TotalCoinsMined'] > 0]\n",
    "\n",
    "# Drop rows where there are 'N/A' text values\n",
    "coin_df = coin_df[coin_df.TotalCoinSupply != 'NaN']\n",
    "coin_df = coin_df[coin_df.TotalCoinSupply != 'N/A']\n",
    "\n",
    "# Drop rows with NaN/Null/Na values\n",
    "coin_df.dropna(axis=0, inplace=True)\n",
    "\n",
    "print(coin_df.shape)\n",
    "coin_df.head(3)"
   ]
  },
  {
   "cell_type": "code",
   "execution_count": 101,
   "metadata": {},
   "outputs": [
    {
     "data": {
      "text/html": [
       "<div>\n",
       "<style scoped>\n",
       "    .dataframe tbody tr th:only-of-type {\n",
       "        vertical-align: middle;\n",
       "    }\n",
       "\n",
       "    .dataframe tbody tr th {\n",
       "        vertical-align: top;\n",
       "    }\n",
       "\n",
       "    .dataframe thead th {\n",
       "        text-align: right;\n",
       "    }\n",
       "</style>\n",
       "<table border=\"1\" class=\"dataframe\">\n",
       "  <thead>\n",
       "    <tr style=\"text-align: right;\">\n",
       "      <th></th>\n",
       "      <th>CoinName</th>\n",
       "    </tr>\n",
       "  </thead>\n",
       "  <tbody>\n",
       "    <tr>\n",
       "      <th>42</th>\n",
       "      <td>42 Coin</td>\n",
       "    </tr>\n",
       "    <tr>\n",
       "      <th>404</th>\n",
       "      <td>404Coin</td>\n",
       "    </tr>\n",
       "    <tr>\n",
       "      <th>1337</th>\n",
       "      <td>EliteCoin</td>\n",
       "    </tr>\n",
       "    <tr>\n",
       "      <th>NXT</th>\n",
       "      <td>Nxt</td>\n",
       "    </tr>\n",
       "    <tr>\n",
       "      <th>ZEC</th>\n",
       "      <td>ZCash</td>\n",
       "    </tr>\n",
       "  </tbody>\n",
       "</table>\n",
       "</div>"
      ],
      "text/plain": [
       "       CoinName\n",
       "42      42 Coin\n",
       "404     404Coin\n",
       "1337  EliteCoin\n",
       "NXT         Nxt\n",
       "ZEC       ZCash"
      ]
     },
     "execution_count": 101,
     "metadata": {},
     "output_type": "execute_result"
    }
   ],
   "source": [
    "# Store the 'CoinName'column in its own DataFrame prior to dropping it from crypto_df\n",
    "coin_name_df = coin_df['CoinName'].to_frame()\n",
    "coin_name_df.head()"
   ]
  },
  {
   "cell_type": "code",
   "execution_count": 102,
   "metadata": {},
   "outputs": [],
   "source": [
    "# Drop the 'CoinName' column since it's not going to be used on the clustering algorithm\n",
    "coin_df.drop(columns='CoinName',inplace=True)"
   ]
  },
  {
   "cell_type": "code",
   "execution_count": 103,
   "metadata": {},
   "outputs": [
    {
     "data": {
      "text/html": [
       "<div>\n",
       "<style scoped>\n",
       "    .dataframe tbody tr th:only-of-type {\n",
       "        vertical-align: middle;\n",
       "    }\n",
       "\n",
       "    .dataframe tbody tr th {\n",
       "        vertical-align: top;\n",
       "    }\n",
       "\n",
       "    .dataframe thead th {\n",
       "        text-align: right;\n",
       "    }\n",
       "</style>\n",
       "<table border=\"1\" class=\"dataframe\">\n",
       "  <thead>\n",
       "    <tr style=\"text-align: right;\">\n",
       "      <th></th>\n",
       "      <th>Algorithm</th>\n",
       "      <th>ProofType</th>\n",
       "      <th>TotalCoinsMined</th>\n",
       "      <th>TotalCoinSupply</th>\n",
       "    </tr>\n",
       "  </thead>\n",
       "  <tbody>\n",
       "    <tr>\n",
       "      <th>42</th>\n",
       "      <td>Scrypt</td>\n",
       "      <td>PoW/PoS</td>\n",
       "      <td>42</td>\n",
       "      <td>42</td>\n",
       "    </tr>\n",
       "    <tr>\n",
       "      <th>404</th>\n",
       "      <td>Scrypt</td>\n",
       "      <td>PoW/PoS</td>\n",
       "      <td>1.97105e+06</td>\n",
       "      <td>532000000</td>\n",
       "    </tr>\n",
       "    <tr>\n",
       "      <th>1337</th>\n",
       "      <td>X13</td>\n",
       "      <td>PoW/PoS</td>\n",
       "      <td>2.95049e+10</td>\n",
       "      <td>314159265359</td>\n",
       "    </tr>\n",
       "    <tr>\n",
       "      <th>NXT</th>\n",
       "      <td>PoS</td>\n",
       "      <td>PoS/LPoS</td>\n",
       "      <td>1000000000</td>\n",
       "      <td>1000000000</td>\n",
       "    </tr>\n",
       "    <tr>\n",
       "      <th>ZEC</th>\n",
       "      <td>Equihash</td>\n",
       "      <td>PoW</td>\n",
       "      <td>1.03684e+07</td>\n",
       "      <td>21000000</td>\n",
       "    </tr>\n",
       "  </tbody>\n",
       "</table>\n",
       "</div>"
      ],
      "text/plain": [
       "     Algorithm ProofType TotalCoinsMined TotalCoinSupply\n",
       "42      Scrypt   PoW/PoS              42              42\n",
       "404     Scrypt   PoW/PoS     1.97105e+06       532000000\n",
       "1337       X13   PoW/PoS     2.95049e+10    314159265359\n",
       "NXT        PoS  PoS/LPoS      1000000000      1000000000\n",
       "ZEC   Equihash       PoW     1.03684e+07        21000000"
      ]
     },
     "execution_count": 103,
     "metadata": {},
     "output_type": "execute_result"
    }
   ],
   "source": [
    "coin_df.head()"
   ]
  },
  {
   "cell_type": "code",
   "execution_count": 104,
   "metadata": {
    "scrolled": true
   },
   "outputs": [],
   "source": [
    "# Create dummy variables for text features\n",
    "X = pd.get_dummies(data=coin_df, columns=['Algorithm','ProofType'])"
   ]
  },
  {
   "cell_type": "code",
   "execution_count": 105,
   "metadata": {},
   "outputs": [
    {
     "data": {
      "text/html": [
       "<div>\n",
       "<style scoped>\n",
       "    .dataframe tbody tr th:only-of-type {\n",
       "        vertical-align: middle;\n",
       "    }\n",
       "\n",
       "    .dataframe tbody tr th {\n",
       "        vertical-align: top;\n",
       "    }\n",
       "\n",
       "    .dataframe thead th {\n",
       "        text-align: right;\n",
       "    }\n",
       "</style>\n",
       "<table border=\"1\" class=\"dataframe\">\n",
       "  <thead>\n",
       "    <tr style=\"text-align: right;\">\n",
       "      <th></th>\n",
       "      <th>TotalCoinsMined</th>\n",
       "      <th>TotalCoinSupply</th>\n",
       "      <th>Algorithm_1GB AES Pattern Search</th>\n",
       "      <th>Algorithm_536</th>\n",
       "      <th>Algorithm_Argon2d</th>\n",
       "      <th>Algorithm_BEP2 BNB</th>\n",
       "      <th>Algorithm_BLAKE256</th>\n",
       "      <th>Algorithm_BMW512 / Echo512</th>\n",
       "      <th>Algorithm_Blake</th>\n",
       "      <th>Algorithm_Blake2S</th>\n",
       "      <th>...</th>\n",
       "      <th>ProofType_PoW/PoS</th>\n",
       "      <th>ProofType_PoW/PoS</th>\n",
       "      <th>ProofType_PoW/PoW</th>\n",
       "      <th>ProofType_PoW/nPoS</th>\n",
       "      <th>ProofType_Pos</th>\n",
       "      <th>ProofType_Proof of Authority</th>\n",
       "      <th>ProofType_Proof of Trust</th>\n",
       "      <th>ProofType_TPoS</th>\n",
       "      <th>ProofType_Zero-Knowledge Proof</th>\n",
       "      <th>ProofType_dPoW/PoW</th>\n",
       "    </tr>\n",
       "  </thead>\n",
       "  <tbody>\n",
       "    <tr>\n",
       "      <th>42</th>\n",
       "      <td>42</td>\n",
       "      <td>42</td>\n",
       "      <td>0</td>\n",
       "      <td>0</td>\n",
       "      <td>0</td>\n",
       "      <td>0</td>\n",
       "      <td>0</td>\n",
       "      <td>0</td>\n",
       "      <td>0</td>\n",
       "      <td>0</td>\n",
       "      <td>...</td>\n",
       "      <td>1</td>\n",
       "      <td>0</td>\n",
       "      <td>0</td>\n",
       "      <td>0</td>\n",
       "      <td>0</td>\n",
       "      <td>0</td>\n",
       "      <td>0</td>\n",
       "      <td>0</td>\n",
       "      <td>0</td>\n",
       "      <td>0</td>\n",
       "    </tr>\n",
       "    <tr>\n",
       "      <th>404</th>\n",
       "      <td>1.97105e+06</td>\n",
       "      <td>532000000</td>\n",
       "      <td>0</td>\n",
       "      <td>0</td>\n",
       "      <td>0</td>\n",
       "      <td>0</td>\n",
       "      <td>0</td>\n",
       "      <td>0</td>\n",
       "      <td>0</td>\n",
       "      <td>0</td>\n",
       "      <td>...</td>\n",
       "      <td>1</td>\n",
       "      <td>0</td>\n",
       "      <td>0</td>\n",
       "      <td>0</td>\n",
       "      <td>0</td>\n",
       "      <td>0</td>\n",
       "      <td>0</td>\n",
       "      <td>0</td>\n",
       "      <td>0</td>\n",
       "      <td>0</td>\n",
       "    </tr>\n",
       "    <tr>\n",
       "      <th>1337</th>\n",
       "      <td>2.95049e+10</td>\n",
       "      <td>314159265359</td>\n",
       "      <td>0</td>\n",
       "      <td>0</td>\n",
       "      <td>0</td>\n",
       "      <td>0</td>\n",
       "      <td>0</td>\n",
       "      <td>0</td>\n",
       "      <td>0</td>\n",
       "      <td>0</td>\n",
       "      <td>...</td>\n",
       "      <td>1</td>\n",
       "      <td>0</td>\n",
       "      <td>0</td>\n",
       "      <td>0</td>\n",
       "      <td>0</td>\n",
       "      <td>0</td>\n",
       "      <td>0</td>\n",
       "      <td>0</td>\n",
       "      <td>0</td>\n",
       "      <td>0</td>\n",
       "    </tr>\n",
       "    <tr>\n",
       "      <th>NXT</th>\n",
       "      <td>1000000000</td>\n",
       "      <td>1000000000</td>\n",
       "      <td>0</td>\n",
       "      <td>0</td>\n",
       "      <td>0</td>\n",
       "      <td>0</td>\n",
       "      <td>0</td>\n",
       "      <td>0</td>\n",
       "      <td>0</td>\n",
       "      <td>0</td>\n",
       "      <td>...</td>\n",
       "      <td>0</td>\n",
       "      <td>0</td>\n",
       "      <td>0</td>\n",
       "      <td>0</td>\n",
       "      <td>0</td>\n",
       "      <td>0</td>\n",
       "      <td>0</td>\n",
       "      <td>0</td>\n",
       "      <td>0</td>\n",
       "      <td>0</td>\n",
       "    </tr>\n",
       "    <tr>\n",
       "      <th>ZEC</th>\n",
       "      <td>1.03684e+07</td>\n",
       "      <td>21000000</td>\n",
       "      <td>0</td>\n",
       "      <td>0</td>\n",
       "      <td>0</td>\n",
       "      <td>0</td>\n",
       "      <td>0</td>\n",
       "      <td>0</td>\n",
       "      <td>0</td>\n",
       "      <td>0</td>\n",
       "      <td>...</td>\n",
       "      <td>0</td>\n",
       "      <td>0</td>\n",
       "      <td>0</td>\n",
       "      <td>0</td>\n",
       "      <td>0</td>\n",
       "      <td>0</td>\n",
       "      <td>0</td>\n",
       "      <td>0</td>\n",
       "      <td>0</td>\n",
       "      <td>0</td>\n",
       "    </tr>\n",
       "    <tr>\n",
       "      <th>...</th>\n",
       "      <td>...</td>\n",
       "      <td>...</td>\n",
       "      <td>...</td>\n",
       "      <td>...</td>\n",
       "      <td>...</td>\n",
       "      <td>...</td>\n",
       "      <td>...</td>\n",
       "      <td>...</td>\n",
       "      <td>...</td>\n",
       "      <td>...</td>\n",
       "      <td>...</td>\n",
       "      <td>...</td>\n",
       "      <td>...</td>\n",
       "      <td>...</td>\n",
       "      <td>...</td>\n",
       "      <td>...</td>\n",
       "      <td>...</td>\n",
       "      <td>...</td>\n",
       "      <td>...</td>\n",
       "      <td>...</td>\n",
       "      <td>...</td>\n",
       "    </tr>\n",
       "    <tr>\n",
       "      <th>STEEM</th>\n",
       "      <td>99692126</td>\n",
       "      <td>99692126</td>\n",
       "      <td>0</td>\n",
       "      <td>0</td>\n",
       "      <td>0</td>\n",
       "      <td>0</td>\n",
       "      <td>0</td>\n",
       "      <td>0</td>\n",
       "      <td>0</td>\n",
       "      <td>0</td>\n",
       "      <td>...</td>\n",
       "      <td>0</td>\n",
       "      <td>0</td>\n",
       "      <td>0</td>\n",
       "      <td>0</td>\n",
       "      <td>0</td>\n",
       "      <td>0</td>\n",
       "      <td>0</td>\n",
       "      <td>0</td>\n",
       "      <td>0</td>\n",
       "      <td>0</td>\n",
       "    </tr>\n",
       "    <tr>\n",
       "      <th>BTS</th>\n",
       "      <td>3600570502</td>\n",
       "      <td>3600570502</td>\n",
       "      <td>0</td>\n",
       "      <td>0</td>\n",
       "      <td>0</td>\n",
       "      <td>0</td>\n",
       "      <td>0</td>\n",
       "      <td>0</td>\n",
       "      <td>0</td>\n",
       "      <td>0</td>\n",
       "      <td>...</td>\n",
       "      <td>0</td>\n",
       "      <td>0</td>\n",
       "      <td>0</td>\n",
       "      <td>0</td>\n",
       "      <td>0</td>\n",
       "      <td>0</td>\n",
       "      <td>0</td>\n",
       "      <td>0</td>\n",
       "      <td>0</td>\n",
       "      <td>0</td>\n",
       "    </tr>\n",
       "    <tr>\n",
       "      <th>BTC</th>\n",
       "      <td>18530225</td>\n",
       "      <td>21000000</td>\n",
       "      <td>0</td>\n",
       "      <td>0</td>\n",
       "      <td>0</td>\n",
       "      <td>0</td>\n",
       "      <td>0</td>\n",
       "      <td>0</td>\n",
       "      <td>0</td>\n",
       "      <td>0</td>\n",
       "      <td>...</td>\n",
       "      <td>0</td>\n",
       "      <td>0</td>\n",
       "      <td>0</td>\n",
       "      <td>0</td>\n",
       "      <td>0</td>\n",
       "      <td>0</td>\n",
       "      <td>0</td>\n",
       "      <td>0</td>\n",
       "      <td>0</td>\n",
       "      <td>0</td>\n",
       "    </tr>\n",
       "    <tr>\n",
       "      <th>WAVES</th>\n",
       "      <td>100000000</td>\n",
       "      <td>100000000</td>\n",
       "      <td>0</td>\n",
       "      <td>0</td>\n",
       "      <td>0</td>\n",
       "      <td>0</td>\n",
       "      <td>0</td>\n",
       "      <td>0</td>\n",
       "      <td>0</td>\n",
       "      <td>0</td>\n",
       "      <td>...</td>\n",
       "      <td>0</td>\n",
       "      <td>0</td>\n",
       "      <td>0</td>\n",
       "      <td>0</td>\n",
       "      <td>0</td>\n",
       "      <td>0</td>\n",
       "      <td>0</td>\n",
       "      <td>0</td>\n",
       "      <td>0</td>\n",
       "      <td>0</td>\n",
       "    </tr>\n",
       "    <tr>\n",
       "      <th>ADA</th>\n",
       "      <td>45000000000</td>\n",
       "      <td>45000000000</td>\n",
       "      <td>0</td>\n",
       "      <td>0</td>\n",
       "      <td>0</td>\n",
       "      <td>0</td>\n",
       "      <td>0</td>\n",
       "      <td>0</td>\n",
       "      <td>0</td>\n",
       "      <td>0</td>\n",
       "      <td>...</td>\n",
       "      <td>0</td>\n",
       "      <td>0</td>\n",
       "      <td>0</td>\n",
       "      <td>0</td>\n",
       "      <td>0</td>\n",
       "      <td>0</td>\n",
       "      <td>0</td>\n",
       "      <td>0</td>\n",
       "      <td>0</td>\n",
       "      <td>0</td>\n",
       "    </tr>\n",
       "  </tbody>\n",
       "</table>\n",
       "<p>526 rows × 114 columns</p>\n",
       "</div>"
      ],
      "text/plain": [
       "      TotalCoinsMined TotalCoinSupply  Algorithm_1GB AES Pattern Search  \\\n",
       "42                 42              42                                 0   \n",
       "404       1.97105e+06       532000000                                 0   \n",
       "1337      2.95049e+10    314159265359                                 0   \n",
       "NXT        1000000000      1000000000                                 0   \n",
       "ZEC       1.03684e+07        21000000                                 0   \n",
       "...               ...             ...                               ...   \n",
       "STEEM        99692126        99692126                                 0   \n",
       "BTS        3600570502      3600570502                                 0   \n",
       "BTC          18530225        21000000                                 0   \n",
       "WAVES       100000000       100000000                                 0   \n",
       "ADA       45000000000     45000000000                                 0   \n",
       "\n",
       "       Algorithm_536  Algorithm_Argon2d  Algorithm_BEP2 BNB  \\\n",
       "42                 0                  0                   0   \n",
       "404                0                  0                   0   \n",
       "1337               0                  0                   0   \n",
       "NXT                0                  0                   0   \n",
       "ZEC                0                  0                   0   \n",
       "...              ...                ...                 ...   \n",
       "STEEM              0                  0                   0   \n",
       "BTS                0                  0                   0   \n",
       "BTC                0                  0                   0   \n",
       "WAVES              0                  0                   0   \n",
       "ADA                0                  0                   0   \n",
       "\n",
       "       Algorithm_BLAKE256  Algorithm_BMW512 / Echo512  Algorithm_Blake  \\\n",
       "42                      0                           0                0   \n",
       "404                     0                           0                0   \n",
       "1337                    0                           0                0   \n",
       "NXT                     0                           0                0   \n",
       "ZEC                     0                           0                0   \n",
       "...                   ...                         ...              ...   \n",
       "STEEM                   0                           0                0   \n",
       "BTS                     0                           0                0   \n",
       "BTC                     0                           0                0   \n",
       "WAVES                   0                           0                0   \n",
       "ADA                     0                           0                0   \n",
       "\n",
       "       Algorithm_Blake2S  ...  ProofType_PoW/PoS  ProofType_PoW/PoS   \\\n",
       "42                     0  ...                  1                   0   \n",
       "404                    0  ...                  1                   0   \n",
       "1337                   0  ...                  1                   0   \n",
       "NXT                    0  ...                  0                   0   \n",
       "ZEC                    0  ...                  0                   0   \n",
       "...                  ...  ...                ...                 ...   \n",
       "STEEM                  0  ...                  0                   0   \n",
       "BTS                    0  ...                  0                   0   \n",
       "BTC                    0  ...                  0                   0   \n",
       "WAVES                  0  ...                  0                   0   \n",
       "ADA                    0  ...                  0                   0   \n",
       "\n",
       "       ProofType_PoW/PoW  ProofType_PoW/nPoS  ProofType_Pos  \\\n",
       "42                     0                   0              0   \n",
       "404                    0                   0              0   \n",
       "1337                   0                   0              0   \n",
       "NXT                    0                   0              0   \n",
       "ZEC                    0                   0              0   \n",
       "...                  ...                 ...            ...   \n",
       "STEEM                  0                   0              0   \n",
       "BTS                    0                   0              0   \n",
       "BTC                    0                   0              0   \n",
       "WAVES                  0                   0              0   \n",
       "ADA                    0                   0              0   \n",
       "\n",
       "       ProofType_Proof of Authority  ProofType_Proof of Trust  ProofType_TPoS  \\\n",
       "42                                0                         0               0   \n",
       "404                               0                         0               0   \n",
       "1337                              0                         0               0   \n",
       "NXT                               0                         0               0   \n",
       "ZEC                               0                         0               0   \n",
       "...                             ...                       ...             ...   \n",
       "STEEM                             0                         0               0   \n",
       "BTS                               0                         0               0   \n",
       "BTC                               0                         0               0   \n",
       "WAVES                             0                         0               0   \n",
       "ADA                               0                         0               0   \n",
       "\n",
       "       ProofType_Zero-Knowledge Proof  ProofType_dPoW/PoW  \n",
       "42                                  0                   0  \n",
       "404                                 0                   0  \n",
       "1337                                0                   0  \n",
       "NXT                                 0                   0  \n",
       "ZEC                                 0                   0  \n",
       "...                               ...                 ...  \n",
       "STEEM                               0                   0  \n",
       "BTS                                 0                   0  \n",
       "BTC                                 0                   0  \n",
       "WAVES                               0                   0  \n",
       "ADA                                 0                   0  \n",
       "\n",
       "[526 rows x 114 columns]"
      ]
     },
     "execution_count": 105,
     "metadata": {},
     "output_type": "execute_result"
    }
   ],
   "source": [
    "X"
   ]
  },
  {
   "cell_type": "markdown",
   "metadata": {},
   "source": [
    "### Reducing Dimensions Using PCA"
   ]
  },
  {
   "cell_type": "code",
   "execution_count": 106,
   "metadata": {},
   "outputs": [],
   "source": [
    "# Use StandardScaler to standardize all the data of the X DataFrame.\n",
    "X_scaled = StandardScaler().fit_transform(X)"
   ]
  },
  {
   "cell_type": "code",
   "execution_count": 107,
   "metadata": {
    "scrolled": true
   },
   "outputs": [
    {
     "data": {
      "text/plain": [
       "array([[-2.87935970e-01,  3.14032924e-01,  1.78484687e-02],\n",
       "       [-2.82700155e-01,  3.13776831e-01,  1.78235377e-02],\n",
       "       [ 3.25381421e+00,  8.59932936e-01,  1.02744290e-01],\n",
       "       ...,\n",
       "       [-2.17750562e-01, -9.24119877e-01, -7.44497710e-03],\n",
       "       [-4.37206604e-01,  8.61249571e+00,  1.28633649e+01],\n",
       "       [ 1.19360688e+00,  1.24104367e+00,  6.90424354e-02]])"
      ]
     },
     "execution_count": 107,
     "metadata": {},
     "output_type": "execute_result"
    }
   ],
   "source": [
    "# Use PCA to reduce dimensions to 3 principal components\n",
    "pca = PCA(n_components=3)\n",
    "pca.fit_transform(X_scaled)"
   ]
  },
  {
   "cell_type": "code",
   "execution_count": 108,
   "metadata": {},
   "outputs": [
    {
     "data": {
      "text/html": [
       "<div>\n",
       "<style scoped>\n",
       "    .dataframe tbody tr th:only-of-type {\n",
       "        vertical-align: middle;\n",
       "    }\n",
       "\n",
       "    .dataframe tbody tr th {\n",
       "        vertical-align: top;\n",
       "    }\n",
       "\n",
       "    .dataframe thead th {\n",
       "        text-align: right;\n",
       "    }\n",
       "</style>\n",
       "<table border=\"1\" class=\"dataframe\">\n",
       "  <thead>\n",
       "    <tr style=\"text-align: right;\">\n",
       "      <th></th>\n",
       "      <th>PC 1</th>\n",
       "      <th>PC 2</th>\n",
       "      <th>PC 3</th>\n",
       "    </tr>\n",
       "  </thead>\n",
       "  <tbody>\n",
       "    <tr>\n",
       "      <th>42</th>\n",
       "      <td>-0.278849</td>\n",
       "      <td>0.209161</td>\n",
       "      <td>0.024716</td>\n",
       "    </tr>\n",
       "    <tr>\n",
       "      <th>404</th>\n",
       "      <td>-0.273602</td>\n",
       "      <td>0.208936</td>\n",
       "      <td>0.024667</td>\n",
       "    </tr>\n",
       "    <tr>\n",
       "      <th>1337</th>\n",
       "      <td>3.259482</td>\n",
       "      <td>0.839102</td>\n",
       "      <td>0.016002</td>\n",
       "    </tr>\n",
       "    <tr>\n",
       "      <th>NXT</th>\n",
       "      <td>-0.348596</td>\n",
       "      <td>1.175172</td>\n",
       "      <td>-0.143439</td>\n",
       "    </tr>\n",
       "    <tr>\n",
       "      <th>ZEC</th>\n",
       "      <td>-0.284933</td>\n",
       "      <td>-1.669474</td>\n",
       "      <td>-0.100308</td>\n",
       "    </tr>\n",
       "  </tbody>\n",
       "</table>\n",
       "</div>"
      ],
      "text/plain": [
       "          PC 1      PC 2      PC 3\n",
       "42   -0.278849  0.209161  0.024716\n",
       "404  -0.273602  0.208936  0.024667\n",
       "1337  3.259482  0.839102  0.016002\n",
       "NXT  -0.348596  1.175172 -0.143439\n",
       "ZEC  -0.284933 -1.669474 -0.100308"
      ]
     },
     "execution_count": 108,
     "metadata": {},
     "output_type": "execute_result"
    }
   ],
   "source": [
    "pcs_df = pd.DataFrame(data=pca.fit_transform(X_scaled), columns=[\"PC 1\",\"PC 2\",\"PC 3\"], index=dumb_coin_df.index)\n",
    "pcs_df.head()"
   ]
  },
  {
   "cell_type": "markdown",
   "metadata": {},
   "source": [
    "### Clustering Crytocurrencies Using K-Means\n",
    "\n",
    "#### Find the Best Value for `k` Using the Elbow Curve"
   ]
  },
  {
   "cell_type": "code",
   "execution_count": 109,
   "metadata": {},
   "outputs": [
    {
     "data": {},
     "metadata": {},
     "output_type": "display_data"
    },
    {
     "data": {
      "application/vnd.holoviews_exec.v0+json": "",
      "text/html": [
       "<div id='1255'>\n",
       "\n",
       "\n",
       "\n",
       "\n",
       "\n",
       "  <div class=\"bk-root\" id=\"6cd51e0c-4d07-4cb4-881e-88c525b29dcd\" data-root-id=\"1255\"></div>\n",
       "</div>\n",
       "<script type=\"application/javascript\">(function(root) {\n",
       "  function embed_document(root) {\n",
       "  var docs_json = {\"6a9bb5da-5056-4b3d-903b-4dc27667f3b8\":{\"roots\":{\"references\":[{\"attributes\":{\"axis_label\":\"inertia\",\"bounds\":\"auto\",\"formatter\":{\"id\":\"1304\"},\"major_label_orientation\":\"horizontal\",\"ticker\":{\"id\":\"1274\"}},\"id\":\"1273\",\"type\":\"LinearAxis\"},{\"attributes\":{\"end\":4042.574683082753,\"reset_end\":4042.574683082753,\"reset_start\":-266.7761091028341,\"start\":-266.7761091028341,\"tags\":[[[\"inertia\",\"inertia\",null]]]},\"id\":\"1258\",\"type\":\"Range1d\"},{\"attributes\":{},\"id\":\"1265\",\"type\":\"LinearScale\"},{\"attributes\":{\"axis\":{\"id\":\"1269\"},\"grid_line_color\":null,\"ticker\":null},\"id\":\"1272\",\"type\":\"Grid\"},{\"attributes\":{\"data\":{\"inertia\":{\"__ndarray__\":\"2LWbmuzGrEB9SYwyJnuiQJ3rbaucSphAHbgjJAQXikCseuq/4mZ5QEMqwchUS25A0KO6pB7dZkBs9WdxVxliQHsQt0nmSFxA+xCTgogVV0A=\",\"dtype\":\"float64\",\"order\":\"little\",\"shape\":[10]},\"k\":[1,2,3,4,5,6,7,8,9,10]},\"selected\":{\"id\":\"1291\"},\"selection_policy\":{\"id\":\"1310\"}},\"id\":\"1290\",\"type\":\"ColumnDataSource\"},{\"attributes\":{\"margin\":[5,5,5,5],\"name\":\"HSpacer02016\",\"sizing_mode\":\"stretch_width\"},\"id\":\"1256\",\"type\":\"Spacer\"},{\"attributes\":{\"callback\":null,\"renderers\":[{\"id\":\"1296\"}],\"tags\":[\"hv_created\"],\"tooltips\":[[\"k\",\"@{k}\"],[\"inertia\",\"@{inertia}\"]]},\"id\":\"1259\",\"type\":\"HoverTool\"},{\"attributes\":{},\"id\":\"1274\",\"type\":\"BasicTicker\"},{\"attributes\":{\"margin\":[5,5,5,5],\"name\":\"HSpacer02017\",\"sizing_mode\":\"stretch_width\"},\"id\":\"1319\",\"type\":\"Spacer\"},{\"attributes\":{\"axis\":{\"id\":\"1273\"},\"dimension\":1,\"grid_line_color\":null,\"ticker\":null},\"id\":\"1276\",\"type\":\"Grid\"},{\"attributes\":{\"active_drag\":\"auto\",\"active_inspect\":\"auto\",\"active_multi\":null,\"active_scroll\":\"auto\",\"active_tap\":\"auto\",\"tools\":[{\"id\":\"1259\"},{\"id\":\"1277\"},{\"id\":\"1278\"},{\"id\":\"1279\"},{\"id\":\"1280\"},{\"id\":\"1281\"}]},\"id\":\"1283\",\"type\":\"Toolbar\"},{\"attributes\":{\"line_color\":\"#1f77b3\",\"line_width\":2,\"x\":{\"field\":\"k\"},\"y\":{\"field\":\"inertia\"}},\"id\":\"1293\",\"type\":\"Line\"},{\"attributes\":{\"bottom_units\":\"screen\",\"fill_alpha\":0.5,\"fill_color\":\"lightgrey\",\"left_units\":\"screen\",\"level\":\"overlay\",\"line_alpha\":1.0,\"line_color\":\"black\",\"line_dash\":[4,4],\"line_width\":2,\"right_units\":\"screen\",\"top_units\":\"screen\"},\"id\":\"1282\",\"type\":\"BoxAnnotation\"},{\"attributes\":{},\"id\":\"1291\",\"type\":\"Selection\"},{\"attributes\":{\"source\":{\"id\":\"1290\"}},\"id\":\"1297\",\"type\":\"CDSView\"},{\"attributes\":{},\"id\":\"1310\",\"type\":\"UnionRenderers\"},{\"attributes\":{\"line_alpha\":0.1,\"line_color\":\"#1f77b3\",\"line_width\":2,\"x\":{\"field\":\"k\"},\"y\":{\"field\":\"inertia\"}},\"id\":\"1294\",\"type\":\"Line\"},{\"attributes\":{\"text\":\"Elbow Curve\",\"text_color\":{\"value\":\"black\"},\"text_font_size\":{\"value\":\"12pt\"}},\"id\":\"1261\",\"type\":\"Title\"},{\"attributes\":{\"data_source\":{\"id\":\"1290\"},\"glyph\":{\"id\":\"1293\"},\"hover_glyph\":null,\"muted_glyph\":{\"id\":\"1295\"},\"nonselection_glyph\":{\"id\":\"1294\"},\"selection_glyph\":null,\"view\":{\"id\":\"1297\"}},\"id\":\"1296\",\"type\":\"GlyphRenderer\"},{\"attributes\":{\"align\":null,\"below\":[{\"id\":\"1269\"}],\"center\":[{\"id\":\"1272\"},{\"id\":\"1276\"}],\"left\":[{\"id\":\"1273\"}],\"margin\":null,\"min_border_bottom\":10,\"min_border_left\":10,\"min_border_right\":10,\"min_border_top\":10,\"plot_height\":300,\"plot_width\":700,\"renderers\":[{\"id\":\"1296\"}],\"sizing_mode\":\"fixed\",\"title\":{\"id\":\"1261\"},\"toolbar\":{\"id\":\"1283\"},\"x_range\":{\"id\":\"1257\"},\"x_scale\":{\"id\":\"1265\"},\"y_range\":{\"id\":\"1258\"},\"y_scale\":{\"id\":\"1267\"}},\"id\":\"1260\",\"subtype\":\"Figure\",\"type\":\"Plot\"},{\"attributes\":{},\"id\":\"1304\",\"type\":\"BasicTickFormatter\"},{\"attributes\":{},\"id\":\"1277\",\"type\":\"SaveTool\"},{\"attributes\":{\"line_alpha\":0.2,\"line_color\":\"#1f77b3\",\"line_width\":2,\"x\":{\"field\":\"k\"},\"y\":{\"field\":\"inertia\"}},\"id\":\"1295\",\"type\":\"Line\"},{\"attributes\":{},\"id\":\"1278\",\"type\":\"PanTool\"},{\"attributes\":{},\"id\":\"1281\",\"type\":\"ResetTool\"},{\"attributes\":{},\"id\":\"1300\",\"type\":\"BasicTickFormatter\"},{\"attributes\":{},\"id\":\"1279\",\"type\":\"WheelZoomTool\"},{\"attributes\":{\"overlay\":{\"id\":\"1282\"}},\"id\":\"1280\",\"type\":\"BoxZoomTool\"},{\"attributes\":{\"axis_label\":\"k\",\"bounds\":\"auto\",\"formatter\":{\"id\":\"1300\"},\"major_label_orientation\":\"horizontal\",\"ticker\":{\"id\":\"1298\"}},\"id\":\"1269\",\"type\":\"LinearAxis\"},{\"attributes\":{},\"id\":\"1267\",\"type\":\"LinearScale\"},{\"attributes\":{\"children\":[{\"id\":\"1256\"},{\"id\":\"1260\"},{\"id\":\"1319\"}],\"margin\":[0,0,0,0],\"name\":\"Row02012\",\"tags\":[\"embedded\"]},\"id\":\"1255\",\"type\":\"Row\"},{\"attributes\":{\"end\":10.0,\"reset_end\":10.0,\"reset_start\":1.0,\"start\":1.0,\"tags\":[[[\"k\",\"k\",null]]]},\"id\":\"1257\",\"type\":\"Range1d\"},{\"attributes\":{\"ticks\":[1,2,3,4,5,6,7,8,9,10]},\"id\":\"1298\",\"type\":\"FixedTicker\"}],\"root_ids\":[\"1255\"]},\"title\":\"Bokeh Application\",\"version\":\"2.2.2\"}};\n",
       "  var render_items = [{\"docid\":\"6a9bb5da-5056-4b3d-903b-4dc27667f3b8\",\"root_ids\":[\"1255\"],\"roots\":{\"1255\":\"6cd51e0c-4d07-4cb4-881e-88c525b29dcd\"}}];\n",
       "  root.Bokeh.embed.embed_items_notebook(docs_json, render_items);\n",
       "  }\n",
       "if (root.Bokeh !== undefined) {\n",
       "    embed_document(root);\n",
       "  } else {\n",
       "    var attempts = 0;\n",
       "    var timer = setInterval(function(root) {\n",
       "      if (root.Bokeh !== undefined) {\n",
       "        clearInterval(timer);\n",
       "        embed_document(root);\n",
       "      } else if (document.readyState == \"complete\") {\n",
       "        attempts++;\n",
       "        if (attempts > 100) {\n",
       "          clearInterval(timer);\n",
       "          console.log(\"Bokeh: ERROR: Unable to run BokehJS code because BokehJS library is missing\");\n",
       "        }\n",
       "      }\n",
       "    }, 10, root)\n",
       "  }\n",
       "})(window);</script>"
      ],
      "text/plain": [
       ":Curve   [k]   (inertia)"
      ]
     },
     "execution_count": 109,
     "metadata": {
      "application/vnd.holoviews_exec.v0+json": {
       "id": "1255"
      }
     },
     "output_type": "execute_result"
    }
   ],
   "source": [
    "inertia = []\n",
    "k = list(range(1, 11))\n",
    "\n",
    "# Calculate the inertia for the range of k values\n",
    "for i in k:\n",
    "    km = KMeans(n_clusters=i, random_state=42)\n",
    "    km.fit(pcs_df)\n",
    "    inertia.append(km.inertia_)\n",
    "\n",
    "# Create the Elbow Curve using hvPlot\n",
    "elbow_data = {\"k\": k, \"inertia\": inertia}\n",
    "df_elbow = pd.DataFrame(elbow_data)\n",
    "df_elbow.hvplot.line(x=\"k\", y=\"inertia\", xticks=k, title=\"Elbow Curve\")"
   ]
  },
  {
   "cell_type": "markdown",
   "metadata": {},
   "source": [
    "Running K-Means with `k=<your best value for k here>`"
   ]
  },
  {
   "cell_type": "code",
   "execution_count": 118,
   "metadata": {},
   "outputs": [],
   "source": [
    "# Predicting clusters with k=6\n",
    "\n",
    "# Initialize the K-Means model\n",
    "model = KMeans(n_clusters=6, random_state=42)\n",
    "\n",
    "# Fit the model\n",
    "model.fit(pcs_df)\n",
    "\n",
    "# Predict clusters\n",
    "predictions = model.predict(pcs_df)\n",
    "\n",
    "# Add the predicted class columns\n",
    "pcs_df[\"Class\"] = model.labels_\n",
    "\n",
    "# Create a new DataFrame including predicted clusters and cryptocurrencies features\n"
   ]
  },
  {
   "cell_type": "code",
   "execution_count": 119,
   "metadata": {
    "scrolled": true
   },
   "outputs": [
    {
     "data": {
      "text/html": [
       "<div>\n",
       "<style scoped>\n",
       "    .dataframe tbody tr th:only-of-type {\n",
       "        vertical-align: middle;\n",
       "    }\n",
       "\n",
       "    .dataframe tbody tr th {\n",
       "        vertical-align: top;\n",
       "    }\n",
       "\n",
       "    .dataframe thead th {\n",
       "        text-align: right;\n",
       "    }\n",
       "</style>\n",
       "<table border=\"1\" class=\"dataframe\">\n",
       "  <thead>\n",
       "    <tr style=\"text-align: right;\">\n",
       "      <th></th>\n",
       "      <th>PC 1</th>\n",
       "      <th>PC 2</th>\n",
       "      <th>PC 3</th>\n",
       "      <th>Class</th>\n",
       "    </tr>\n",
       "  </thead>\n",
       "  <tbody>\n",
       "    <tr>\n",
       "      <th>42</th>\n",
       "      <td>-0.278849</td>\n",
       "      <td>0.209161</td>\n",
       "      <td>0.024716</td>\n",
       "      <td>0</td>\n",
       "    </tr>\n",
       "    <tr>\n",
       "      <th>404</th>\n",
       "      <td>-0.273602</td>\n",
       "      <td>0.208936</td>\n",
       "      <td>0.024667</td>\n",
       "      <td>0</td>\n",
       "    </tr>\n",
       "    <tr>\n",
       "      <th>1337</th>\n",
       "      <td>3.259482</td>\n",
       "      <td>0.839102</td>\n",
       "      <td>0.016002</td>\n",
       "      <td>4</td>\n",
       "    </tr>\n",
       "    <tr>\n",
       "      <th>NXT</th>\n",
       "      <td>-0.348596</td>\n",
       "      <td>1.175172</td>\n",
       "      <td>-0.143439</td>\n",
       "      <td>0</td>\n",
       "    </tr>\n",
       "    <tr>\n",
       "      <th>ZEC</th>\n",
       "      <td>-0.284933</td>\n",
       "      <td>-1.669474</td>\n",
       "      <td>-0.100308</td>\n",
       "      <td>5</td>\n",
       "    </tr>\n",
       "    <tr>\n",
       "      <th>...</th>\n",
       "      <td>...</td>\n",
       "      <td>...</td>\n",
       "      <td>...</td>\n",
       "      <td>...</td>\n",
       "    </tr>\n",
       "    <tr>\n",
       "      <th>STEEM</th>\n",
       "      <td>-0.307141</td>\n",
       "      <td>-0.236558</td>\n",
       "      <td>-0.047414</td>\n",
       "      <td>5</td>\n",
       "    </tr>\n",
       "    <tr>\n",
       "      <th>BTS</th>\n",
       "      <td>-0.178894</td>\n",
       "      <td>1.367248</td>\n",
       "      <td>0.141229</td>\n",
       "      <td>0</td>\n",
       "    </tr>\n",
       "    <tr>\n",
       "      <th>BTC</th>\n",
       "      <td>-0.221896</td>\n",
       "      <td>-0.895540</td>\n",
       "      <td>-0.067135</td>\n",
       "      <td>5</td>\n",
       "    </tr>\n",
       "    <tr>\n",
       "      <th>WAVES</th>\n",
       "      <td>-0.350483</td>\n",
       "      <td>8.377358</td>\n",
       "      <td>0.584748</td>\n",
       "      <td>0</td>\n",
       "    </tr>\n",
       "    <tr>\n",
       "      <th>ADA</th>\n",
       "      <td>1.148159</td>\n",
       "      <td>1.494582</td>\n",
       "      <td>0.036595</td>\n",
       "      <td>0</td>\n",
       "    </tr>\n",
       "  </tbody>\n",
       "</table>\n",
       "<p>526 rows × 4 columns</p>\n",
       "</div>"
      ],
      "text/plain": [
       "           PC 1      PC 2      PC 3  Class\n",
       "42    -0.278849  0.209161  0.024716      0\n",
       "404   -0.273602  0.208936  0.024667      0\n",
       "1337   3.259482  0.839102  0.016002      4\n",
       "NXT   -0.348596  1.175172 -0.143439      0\n",
       "ZEC   -0.284933 -1.669474 -0.100308      5\n",
       "...         ...       ...       ...    ...\n",
       "STEEM -0.307141 -0.236558 -0.047414      5\n",
       "BTS   -0.178894  1.367248  0.141229      0\n",
       "BTC   -0.221896 -0.895540 -0.067135      5\n",
       "WAVES -0.350483  8.377358  0.584748      0\n",
       "ADA    1.148159  1.494582  0.036595      0\n",
       "\n",
       "[526 rows x 4 columns]"
      ]
     },
     "execution_count": 119,
     "metadata": {},
     "output_type": "execute_result"
    }
   ],
   "source": [
    "pcs_df"
   ]
  },
  {
   "cell_type": "code",
   "execution_count": 120,
   "metadata": {},
   "outputs": [
    {
     "data": {
      "text/html": [
       "<div>\n",
       "<style scoped>\n",
       "    .dataframe tbody tr th:only-of-type {\n",
       "        vertical-align: middle;\n",
       "    }\n",
       "\n",
       "    .dataframe tbody tr th {\n",
       "        vertical-align: top;\n",
       "    }\n",
       "\n",
       "    .dataframe thead th {\n",
       "        text-align: right;\n",
       "    }\n",
       "</style>\n",
       "<table border=\"1\" class=\"dataframe\">\n",
       "  <thead>\n",
       "    <tr style=\"text-align: right;\">\n",
       "      <th></th>\n",
       "      <th>Algorithm</th>\n",
       "      <th>ProofType</th>\n",
       "      <th>TotalCoinsMined</th>\n",
       "      <th>TotalCoinSupply</th>\n",
       "      <th>PC 1</th>\n",
       "      <th>PC 2</th>\n",
       "      <th>PC 3</th>\n",
       "      <th>Class</th>\n",
       "      <th>CoinName</th>\n",
       "    </tr>\n",
       "  </thead>\n",
       "  <tbody>\n",
       "    <tr>\n",
       "      <th>42</th>\n",
       "      <td>Scrypt</td>\n",
       "      <td>PoW/PoS</td>\n",
       "      <td>42</td>\n",
       "      <td>42</td>\n",
       "      <td>-0.278849</td>\n",
       "      <td>0.209161</td>\n",
       "      <td>0.024716</td>\n",
       "      <td>0</td>\n",
       "      <td>42 Coin</td>\n",
       "    </tr>\n",
       "    <tr>\n",
       "      <th>404</th>\n",
       "      <td>Scrypt</td>\n",
       "      <td>PoW/PoS</td>\n",
       "      <td>1.97105e+06</td>\n",
       "      <td>532000000</td>\n",
       "      <td>-0.273602</td>\n",
       "      <td>0.208936</td>\n",
       "      <td>0.024667</td>\n",
       "      <td>0</td>\n",
       "      <td>404Coin</td>\n",
       "    </tr>\n",
       "    <tr>\n",
       "      <th>1337</th>\n",
       "      <td>X13</td>\n",
       "      <td>PoW/PoS</td>\n",
       "      <td>2.95049e+10</td>\n",
       "      <td>314159265359</td>\n",
       "      <td>3.259482</td>\n",
       "      <td>0.839102</td>\n",
       "      <td>0.016002</td>\n",
       "      <td>4</td>\n",
       "      <td>EliteCoin</td>\n",
       "    </tr>\n",
       "    <tr>\n",
       "      <th>NXT</th>\n",
       "      <td>PoS</td>\n",
       "      <td>PoS/LPoS</td>\n",
       "      <td>1000000000</td>\n",
       "      <td>1000000000</td>\n",
       "      <td>-0.348596</td>\n",
       "      <td>1.175172</td>\n",
       "      <td>-0.143439</td>\n",
       "      <td>0</td>\n",
       "      <td>Nxt</td>\n",
       "    </tr>\n",
       "    <tr>\n",
       "      <th>ZEC</th>\n",
       "      <td>Equihash</td>\n",
       "      <td>PoW</td>\n",
       "      <td>1.03684e+07</td>\n",
       "      <td>21000000</td>\n",
       "      <td>-0.284933</td>\n",
       "      <td>-1.669474</td>\n",
       "      <td>-0.100308</td>\n",
       "      <td>5</td>\n",
       "      <td>ZCash</td>\n",
       "    </tr>\n",
       "    <tr>\n",
       "      <th>...</th>\n",
       "      <td>...</td>\n",
       "      <td>...</td>\n",
       "      <td>...</td>\n",
       "      <td>...</td>\n",
       "      <td>...</td>\n",
       "      <td>...</td>\n",
       "      <td>...</td>\n",
       "      <td>...</td>\n",
       "      <td>...</td>\n",
       "    </tr>\n",
       "    <tr>\n",
       "      <th>STEEM</th>\n",
       "      <td>PoS</td>\n",
       "      <td>PoW</td>\n",
       "      <td>99692126</td>\n",
       "      <td>99692126</td>\n",
       "      <td>-0.307141</td>\n",
       "      <td>-0.236558</td>\n",
       "      <td>-0.047414</td>\n",
       "      <td>5</td>\n",
       "      <td>Steem</td>\n",
       "    </tr>\n",
       "    <tr>\n",
       "      <th>BTS</th>\n",
       "      <td>SHA-512</td>\n",
       "      <td>PoS</td>\n",
       "      <td>3600570502</td>\n",
       "      <td>3600570502</td>\n",
       "      <td>-0.178894</td>\n",
       "      <td>1.367248</td>\n",
       "      <td>0.141229</td>\n",
       "      <td>0</td>\n",
       "      <td>Bitshares</td>\n",
       "    </tr>\n",
       "    <tr>\n",
       "      <th>BTC</th>\n",
       "      <td>SHA-256</td>\n",
       "      <td>PoW</td>\n",
       "      <td>18530225</td>\n",
       "      <td>21000000</td>\n",
       "      <td>-0.221896</td>\n",
       "      <td>-0.895540</td>\n",
       "      <td>-0.067135</td>\n",
       "      <td>5</td>\n",
       "      <td>Bitcoin</td>\n",
       "    </tr>\n",
       "    <tr>\n",
       "      <th>WAVES</th>\n",
       "      <td>Leased POS</td>\n",
       "      <td>LPoS</td>\n",
       "      <td>100000000</td>\n",
       "      <td>100000000</td>\n",
       "      <td>-0.350483</td>\n",
       "      <td>8.377358</td>\n",
       "      <td>0.584748</td>\n",
       "      <td>0</td>\n",
       "      <td>Waves</td>\n",
       "    </tr>\n",
       "    <tr>\n",
       "      <th>ADA</th>\n",
       "      <td>Ouroboros</td>\n",
       "      <td>PoS</td>\n",
       "      <td>45000000000</td>\n",
       "      <td>45000000000</td>\n",
       "      <td>1.148159</td>\n",
       "      <td>1.494582</td>\n",
       "      <td>0.036595</td>\n",
       "      <td>0</td>\n",
       "      <td>Cardano</td>\n",
       "    </tr>\n",
       "  </tbody>\n",
       "</table>\n",
       "<p>526 rows × 9 columns</p>\n",
       "</div>"
      ],
      "text/plain": [
       "        Algorithm ProofType TotalCoinsMined TotalCoinSupply      PC 1  \\\n",
       "42         Scrypt   PoW/PoS              42              42 -0.278849   \n",
       "404        Scrypt   PoW/PoS     1.97105e+06       532000000 -0.273602   \n",
       "1337          X13   PoW/PoS     2.95049e+10    314159265359  3.259482   \n",
       "NXT           PoS  PoS/LPoS      1000000000      1000000000 -0.348596   \n",
       "ZEC      Equihash       PoW     1.03684e+07        21000000 -0.284933   \n",
       "...           ...       ...             ...             ...       ...   \n",
       "STEEM         PoS       PoW        99692126        99692126 -0.307141   \n",
       "BTS       SHA-512       PoS      3600570502      3600570502 -0.178894   \n",
       "BTC       SHA-256       PoW        18530225        21000000 -0.221896   \n",
       "WAVES  Leased POS      LPoS       100000000       100000000 -0.350483   \n",
       "ADA     Ouroboros       PoS     45000000000     45000000000  1.148159   \n",
       "\n",
       "           PC 2      PC 3  Class   CoinName  \n",
       "42     0.209161  0.024716      0    42 Coin  \n",
       "404    0.208936  0.024667      0    404Coin  \n",
       "1337   0.839102  0.016002      4  EliteCoin  \n",
       "NXT    1.175172 -0.143439      0        Nxt  \n",
       "ZEC   -1.669474 -0.100308      5      ZCash  \n",
       "...         ...       ...    ...        ...  \n",
       "STEEM -0.236558 -0.047414      5      Steem  \n",
       "BTS    1.367248  0.141229      0  Bitshares  \n",
       "BTC   -0.895540 -0.067135      5    Bitcoin  \n",
       "WAVES  8.377358  0.584748      0      Waves  \n",
       "ADA    1.494582  0.036595      0    Cardano  \n",
       "\n",
       "[526 rows x 9 columns]"
      ]
     },
     "execution_count": 120,
     "metadata": {},
     "output_type": "execute_result"
    }
   ],
   "source": [
    "#joining coin_df, pcs_df, coin_name_df\n",
    "clust_df = coin_df.join(pcs_df)\n",
    "clustered_df = clust_df.join(coin_name_df)\n",
    "clustered_df"
   ]
  },
  {
   "cell_type": "markdown",
   "metadata": {},
   "source": [
    "### Visualizing Results\n",
    "\n",
    "#### 3D-Scatter with Clusters"
   ]
  },
  {
   "cell_type": "code",
   "execution_count": 121,
   "metadata": {},
   "outputs": [
    {
     "data": {
      "application/vnd.plotly.v1+json": {
       "config": {
        "plotlyServerURL": "https://plot.ly"
       },
       "data": [
        {
         "customdata": [
          [
           "Scrypt"
          ],
          [
           "Scrypt"
          ],
          [
           "X13"
          ],
          [
           "PoS"
          ],
          [
           "Equihash"
          ],
          [
           "SHA-256"
          ],
          [
           "SHA-256"
          ],
          [
           "Scrypt"
          ],
          [
           "X15"
          ],
          [
           "SHA-256D"
          ],
          [
           "Scrypt"
          ],
          [
           "Multiple"
          ],
          [
           "Scrypt"
          ],
          [
           "SHA-256"
          ],
          [
           "Scrypt"
          ],
          [
           "Scrypt"
          ],
          [
           "Groestl"
          ],
          [
           "Scrypt"
          ],
          [
           "Scrypt"
          ],
          [
           "Scrypt"
          ],
          [
           "Scrypt"
          ],
          [
           "Scrypt"
          ],
          [
           "X11"
          ],
          [
           "Multiple"
          ],
          [
           "SHA-256"
          ],
          [
           "Scrypt"
          ],
          [
           "Scrypt"
          ],
          [
           "Scrypt"
          ],
          [
           "Scrypt"
          ],
          [
           "Scrypt"
          ],
          [
           "Scrypt"
          ],
          [
           "Scrypt"
          ],
          [
           "Scrypt"
          ],
          [
           "Scrypt"
          ],
          [
           "SHA-256"
          ],
          [
           "Scrypt"
          ],
          [
           "Scrypt"
          ],
          [
           "Scrypt"
          ],
          [
           "SHA3"
          ],
          [
           "HybridScryptHash256"
          ],
          [
           "SHA-256"
          ],
          [
           "Scrypt"
          ],
          [
           "Scrypt"
          ],
          [
           "Scrypt"
          ],
          [
           "NeoScrypt"
          ],
          [
           "Scrypt"
          ],
          [
           "Scrypt"
          ],
          [
           "Scrypt"
          ],
          [
           "Scrypt"
          ],
          [
           "Scrypt"
          ],
          [
           "X11"
          ],
          [
           "SHA-256"
          ],
          [
           "Multiple"
          ],
          [
           "SHA-256"
          ],
          [
           "X11"
          ],
          [
           "SHA-256"
          ],
          [
           "SHA-256"
          ],
          [
           "SHA-256"
          ],
          [
           "Scrypt"
          ],
          [
           "Scrypt"
          ],
          [
           "Scrypt"
          ],
          [
           "X11"
          ],
          [
           "SHA-256"
          ],
          [
           "Scrypt"
          ],
          [
           "Counterparty"
          ],
          [
           "Scrypt"
          ],
          [
           "SHA-256"
          ],
          [
           "Scrypt"
          ],
          [
           "Scrypt"
          ],
          [
           "Scrypt"
          ],
          [
           "Scrypt"
          ],
          [
           "X13"
          ],
          [
           "Multiple"
          ],
          [
           "Scrypt"
          ],
          [
           "Scrypt"
          ],
          [
           "X13"
          ],
          [
           "Stanford Folding"
          ],
          [
           "Scrypt"
          ],
          [
           "X11"
          ],
          [
           "NeoScrypt"
          ],
          [
           "Scrypt"
          ],
          [
           "NeoScrypt"
          ],
          [
           "Blake"
          ],
          [
           "Scrypt"
          ],
          [
           "Scrypt"
          ],
          [
           "SHA-256"
          ],
          [
           "Scrypt"
          ],
          [
           "X11"
          ],
          [
           "Scrypt"
          ],
          [
           "M7 POW"
          ],
          [
           "Scrypt"
          ],
          [
           "Scrypt"
          ],
          [
           "SHA-256"
          ],
          [
           "Scrypt"
          ],
          [
           "SHA3"
          ],
          [
           "Scrypt"
          ],
          [
           "Scrypt"
          ],
          [
           "X11"
          ],
          [
           "Lyra2RE"
          ],
          [
           "SHA-256"
          ],
          [
           "QUAIT"
          ],
          [
           "X11"
          ],
          [
           "SHA-256"
          ],
          [
           "X11"
          ],
          [
           "Multiple"
          ],
          [
           "Scrypt"
          ],
          [
           "Scrypt"
          ],
          [
           "Scrypt"
          ],
          [
           "X11"
          ],
          [
           "Scrypt"
          ],
          [
           "Scrypt"
          ],
          [
           "Scrypt"
          ],
          [
           "X13"
          ],
          [
           "X11"
          ],
          [
           "Scrypt"
          ],
          [
           "PoS"
          ],
          [
           "SHA-256"
          ],
          [
           "X15"
          ],
          [
           "X11"
          ],
          [
           "SHA-256"
          ],
          [
           "Scrypt"
          ],
          [
           "X11"
          ],
          [
           "SHA-256"
          ],
          [
           "Scrypt"
          ],
          [
           "1GB AES Pattern Search"
          ],
          [
           "SHA-256"
          ],
          [
           "X11"
          ],
          [
           "SHA-256"
          ],
          [
           "Scrypt"
          ],
          [
           "SHA-256"
          ],
          [
           "Counterparty"
          ],
          [
           "Scrypt"
          ],
          [
           "Counterparty"
          ],
          [
           "X11"
          ],
          [
           "Scrypt"
          ],
          [
           "Scrypt"
          ],
          [
           "X11"
          ],
          [
           "Dagger"
          ],
          [
           "Scrypt"
          ],
          [
           "X11"
          ],
          [
           "Scrypt"
          ],
          [
           "SHA-256"
          ],
          [
           "Scrypt"
          ],
          [
           "PoS"
          ],
          [
           "Scrypt"
          ],
          [
           "X11"
          ],
          [
           "X11"
          ],
          [
           "SHA-256"
          ],
          [
           "NIST5"
          ],
          [
           "Scrypt"
          ],
          [
           "POS 3.0"
          ],
          [
           "Scrypt"
          ],
          [
           "Scrypt"
          ],
          [
           "X13"
          ],
          [
           "X11"
          ],
          [
           "X11"
          ],
          [
           "Equihash"
          ],
          [
           "X11"
          ],
          [
           "CryptoNight"
          ],
          [
           "SHA-256"
          ],
          [
           "SHA-256"
          ],
          [
           "X11"
          ],
          [
           "Scrypt"
          ],
          [
           "Multiple"
          ],
          [
           "Scrypt"
          ],
          [
           "SHA-256"
          ],
          [
           "Scrypt"
          ],
          [
           "Scrypt"
          ],
          [
           "SHA-256D"
          ],
          [
           "PoS"
          ],
          [
           "X11"
          ],
          [
           "PoS"
          ],
          [
           "X13"
          ],
          [
           "X14"
          ],
          [
           "PoS"
          ],
          [
           "SHA-256D"
          ],
          [
           "Ethash"
          ],
          [
           "Equihash"
          ],
          [
           "X11"
          ],
          [
           "Scrypt"
          ],
          [
           "X11"
          ],
          [
           "X13"
          ],
          [
           "X11"
          ],
          [
           "PoS"
          ],
          [
           "Scrypt"
          ],
          [
           "Scrypt"
          ],
          [
           "X11"
          ],
          [
           "PoS"
          ],
          [
           "X11"
          ],
          [
           "SHA-256"
          ],
          [
           "Scrypt"
          ],
          [
           "X11"
          ],
          [
           "Scrypt"
          ],
          [
           "Scrypt"
          ],
          [
           "X11"
          ],
          [
           "CryptoNight"
          ],
          [
           "Scrypt"
          ],
          [
           "Scrypt"
          ],
          [
           "Scrypt"
          ],
          [
           "Scrypt"
          ],
          [
           "QuBit"
          ],
          [
           "Scrypt"
          ],
          [
           "CryptoNight"
          ],
          [
           "Lyra2RE"
          ],
          [
           "Scrypt"
          ],
          [
           "SHA-256"
          ],
          [
           "X11"
          ],
          [
           "Scrypt"
          ],
          [
           "X11"
          ],
          [
           "Scrypt"
          ],
          [
           "CryptoNight-V7"
          ],
          [
           "Scrypt"
          ],
          [
           "Scrypt"
          ],
          [
           "Scrypt"
          ],
          [
           "X13"
          ],
          [
           "X11"
          ],
          [
           "Equihash"
          ],
          [
           "Scrypt"
          ],
          [
           "Blake"
          ],
          [
           "Lyra2RE"
          ],
          [
           "Scrypt"
          ],
          [
           "Dagger-Hashimoto"
          ],
          [
           "X11"
          ],
          [
           "Blake2S"
          ],
          [
           "X11"
          ],
          [
           "Scrypt"
          ],
          [
           "PoS"
          ],
          [
           "X11"
          ],
          [
           "NIST5"
          ],
          [
           "PoS"
          ],
          [
           "X11"
          ],
          [
           "Scrypt"
          ],
          [
           "Scrypt"
          ],
          [
           "Scrypt"
          ],
          [
           "SHA-256"
          ],
          [
           "X11"
          ],
          [
           "Scrypt"
          ],
          [
           "Scrypt"
          ],
          [
           "Scrypt"
          ],
          [
           "SHA-256"
          ],
          [
           "PoS"
          ],
          [
           "Scrypt"
          ],
          [
           "X15"
          ],
          [
           "SHA-256"
          ],
          [
           "Scrypt"
          ],
          [
           "X11"
          ],
          [
           "RandomX"
          ],
          [
           "536"
          ],
          [
           "Cloverhash"
          ],
          [
           "CryptoNight"
          ],
          [
           "X11"
          ],
          [
           "NIST5"
          ],
          [
           "Skein"
          ],
          [
           "Scrypt"
          ],
          [
           "X13"
          ],
          [
           "Scrypt"
          ],
          [
           "X11"
          ],
          [
           "X11"
          ],
          [
           "Scrypt"
          ],
          [
           "Ethash"
          ],
          [
           "CryptoNight"
          ],
          [
           "X13"
          ],
          [
           "Time Travel"
          ],
          [
           "Scrypt"
          ],
          [
           "SkunkHash v2 Raptor"
          ],
          [
           "X11"
          ],
          [
           "Skein"
          ],
          [
           "SHA-256"
          ],
          [
           "DPoS"
          ],
          [
           "X11"
          ],
          [
           "Scrypt"
          ],
          [
           "Scrypt"
          ],
          [
           "PoS"
          ],
          [
           "Scrypt"
          ],
          [
           "Scrypt"
          ],
          [
           "Scrypt"
          ],
          [
           "Scrypt"
          ],
          [
           "X11"
          ],
          [
           "Scrypt"
          ],
          [
           "CryptoNight"
          ],
          [
           "SHA-512"
          ],
          [
           "X11"
          ],
          [
           "Equihash"
          ],
          [
           "NeoScrypt"
          ],
          [
           "Scrypt"
          ],
          [
           "X11"
          ],
          [
           "Scrypt"
          ],
          [
           "NeoScrypt"
          ],
          [
           "NEP-5"
          ],
          [
           "Scrypt"
          ],
          [
           "Lyra2REv2"
          ],
          [
           "Scrypt"
          ],
          [
           "SHA-256"
          ],
          [
           "NIST5"
          ],
          [
           "PHI1612"
          ],
          [
           "Dagger"
          ],
          [
           "Scrypt"
          ],
          [
           "Quark"
          ],
          [
           "Scrypt"
          ],
          [
           "X11"
          ],
          [
           "NeoScrypt"
          ],
          [
           "SHA-256"
          ],
          [
           "Ethash"
          ],
          [
           "Mars"
          ],
          [
           "X11"
          ],
          [
           "DPoS"
          ],
          [
           "NIST5"
          ],
          [
           "X13"
          ],
          [
           "Multiple"
          ],
          [
           "Scrypt"
          ],
          [
           "CryptoNight"
          ],
          [
           "SHA-256"
          ],
          [
           "CryptoNight"
          ],
          [
           "Ethash"
          ],
          [
           "NIST5"
          ],
          [
           "Quark"
          ],
          [
           "X11"
          ],
          [
           "CryptoNight-V7"
          ],
          [
           "Scrypt"
          ],
          [
           "Scrypt"
          ],
          [
           "NEP-5"
          ],
          [
           "Scrypt"
          ],
          [
           "PoS"
          ],
          [
           "BLAKE256"
          ],
          [
           "X11"
          ],
          [
           "NeoScrypt"
          ],
          [
           "Quark"
          ],
          [
           "NeoScrypt"
          ],
          [
           "Scrypt"
          ],
          [
           "QRC20 Token"
          ],
          [
           "Scrypt"
          ],
          [
           "Scrypt"
          ],
          [
           "X11"
          ],
          [
           "X11"
          ],
          [
           "SHA-256"
          ],
          [
           "C11"
          ],
          [
           "POS 3.0"
          ],
          [
           "Ethash"
          ],
          [
           "NeoScrypt"
          ],
          [
           "Ethash"
          ],
          [
           "SkunkHash"
          ],
          [
           "Scrypt"
          ],
          [
           "Ethash"
          ],
          [
           "Scrypt"
          ],
          [
           "Lyra2REv2"
          ],
          [
           "X13"
          ],
          [
           "Proof-of-BibleHash"
          ],
          [
           "SHA-256 + Hive"
          ],
          [
           "Scrypt"
          ],
          [
           "DPoS"
          ],
          [
           "Scrypt"
          ],
          [
           "X11"
          ],
          [
           "C11"
          ],
          [
           "X11"
          ],
          [
           "XEVAN"
          ],
          [
           "Ethash"
          ],
          [
           "CryptoNight"
          ],
          [
           "Scrypt"
          ],
          [
           "DPoS"
          ],
          [
           "IMesh"
          ],
          [
           "NIST5"
          ],
          [
           "SHA-256"
          ],
          [
           "Scrypt"
          ],
          [
           "Scrypt"
          ],
          [
           "Equihash"
          ],
          [
           "Scrypt"
          ],
          [
           "Lyra2Z"
          ],
          [
           "Green Protocol"
          ],
          [
           "PoS"
          ],
          [
           "Scrypt"
          ],
          [
           "Semux BFT consensus"
          ],
          [
           "X11"
          ],
          [
           "Quark"
          ],
          [
           "PoS"
          ],
          [
           "CryptoNight"
          ],
          [
           "X16R"
          ],
          [
           "Scrypt"
          ],
          [
           "NIST5"
          ],
          [
           "XEVAN"
          ],
          [
           "Tribus"
          ],
          [
           "Scrypt"
          ],
          [
           "CryptoNight"
          ],
          [
           "CryptoNight-Heavy"
          ],
          [
           "CryptoNight"
          ],
          [
           "X11"
          ],
          [
           "Scrypt"
          ],
          [
           "Jump Consistent Hash"
          ],
          [
           "SHA-256D"
          ],
          [
           "CryptoNight"
          ],
          [
           "Scrypt"
          ],
          [
           "X15"
          ],
          [
           "Scrypt"
          ],
          [
           "Quark"
          ],
          [
           "SHA-256"
          ],
          [
           "DPoS"
          ],
          [
           "X16R"
          ],
          [
           "HMQ1725"
          ],
          [
           "X11"
          ],
          [
           "X16R"
          ],
          [
           "Quark"
          ],
          [
           "Quark"
          ],
          [
           "Lyra2REv2"
          ],
          [
           "Quark"
          ],
          [
           "Scrypt"
          ],
          [
           "CryptoNight-V7"
          ],
          [
           "Cryptonight-GPU"
          ],
          [
           "XEVAN"
          ],
          [
           "CryptoNight Heavy"
          ],
          [
           "Scrypt"
          ],
          [
           "PoS"
          ],
          [
           "SHA-256"
          ],
          [
           "HEX"
          ],
          [
           "X11"
          ],
          [
           "Ethash"
          ],
          [
           "DPoS"
          ],
          [
           "SHA-512"
          ],
          [
           "X16R"
          ],
          [
           "ECC 256K1"
          ],
          [
           "Keccak"
          ],
          [
           "Equihash"
          ],
          [
           "XEVAN"
          ],
          [
           "Dagger"
          ],
          [
           "SHA-256"
          ],
          [
           "BLAKE256"
          ],
          [
           "X13"
          ],
          [
           "XEVAN"
          ],
          [
           "CryptoNight"
          ],
          [
           "Quark"
          ],
          [
           "Quark"
          ],
          [
           "Argon2d"
          ],
          [
           "Blake"
          ],
          [
           "Blake"
          ],
          [
           "Equihash"
          ],
          [
           "Exosis"
          ],
          [
           "Scrypt"
          ],
          [
           "Equihash"
          ],
          [
           "TRC10"
          ],
          [
           "Equihash"
          ],
          [
           "Quark"
          ],
          [
           "Quark"
          ],
          [
           "Scrypt"
          ],
          [
           "ERC20 + BEP-2"
          ],
          [
           "Lyra2REv2"
          ],
          [
           "QuBit"
          ],
          [
           "Equihash+Scrypt"
          ],
          [
           "SHA-256"
          ],
          [
           "Scrypt"
          ],
          [
           "PHI2"
          ],
          [
           "XEVAN"
          ],
          [
           "SHA-256D"
          ],
          [
           "Equihash"
          ],
          [
           "SHA-256"
          ],
          [
           "X13"
          ],
          [
           "Ethash"
          ],
          [
           "SHA-256"
          ],
          [
           "CryptoNight"
          ],
          [
           "SHA-256"
          ],
          [
           "Cryptonight Haven"
          ],
          [
           "Eaglesong"
          ],
          [
           "Quark"
          ],
          [
           "C11"
          ],
          [
           "Quark"
          ],
          [
           "VeChainThor Authority"
          ],
          [
           "SHA-256"
          ],
          [
           "NeoScrypt"
          ],
          [
           "YespowerR16"
          ],
          [
           "Tribus"
          ],
          [
           "Quark"
          ],
          [
           "Scrypt"
          ],
          [
           "X11"
          ],
          [
           "YespowerR16"
          ],
          [
           "Quark"
          ],
          [
           "Scrypt"
          ],
          [
           "SkunkHash v2 Raptor"
          ],
          [
           "Scrypt"
          ],
          [
           "Quark"
          ],
          [
           "X11"
          ],
          [
           "X13"
          ],
          [
           "SHA-256"
          ],
          [
           "C31"
          ],
          [
           "NeoScrypt"
          ],
          [
           "X11"
          ],
          [
           "SHA-256"
          ],
          [
           "Ed25519"
          ],
          [
           "Scrypt"
          ],
          [
           "Scrypt"
          ],
          [
           "NeoScrypt"
          ],
          [
           "Lyra2Z"
          ],
          [
           "Equihash"
          ],
          [
           "Multiple"
          ],
          [
           "VBFT"
          ],
          [
           "X11"
          ],
          [
           "Ethash"
          ],
          [
           "Scrypt"
          ],
          [
           "BEP2 BNB"
          ],
          [
           "SHA-256"
          ],
          [
           "SHA-256"
          ],
          [
           "Quark"
          ],
          [
           "Ethash"
          ],
          [
           "Scrypt"
          ],
          [
           "SHA-256"
          ],
          [
           "Scrypt"
          ],
          [
           "X11GOST"
          ],
          [
           "Equihash"
          ],
          [
           "Groestl"
          ],
          [
           "BMW512 / Echo512"
          ],
          [
           "Scrypt"
          ],
          [
           "X11"
          ],
          [
           "Ethash"
          ],
          [
           "X16R"
          ],
          [
           "CryptoNight"
          ],
          [
           "Shabal256"
          ],
          [
           "Proof-of-Authority"
          ],
          [
           "Tensority"
          ],
          [
           "VeChainThor Authority"
          ],
          [
           "POS 3.0"
          ],
          [
           "Lyra2REv2"
          ],
          [
           "Blake2b"
          ],
          [
           "DPoS"
          ],
          [
           "Scrypt"
          ],
          [
           "BLAKE256"
          ],
          [
           "PoS"
          ],
          [
           "SHA-512"
          ],
          [
           "SHA-256"
          ],
          [
           "Leased POS"
          ],
          [
           "Ouroboros"
          ]
         ],
         "hovertemplate": "<b>%{hovertext}</b><br><br>Algorithm=%{customdata[0]}<extra></extra>",
         "hovertext": [
          "42 Coin",
          "404Coin",
          "EliteCoin",
          "Nxt",
          "ZCash",
          "BitcoinDark",
          "PayCoin",
          "ProsperCoin",
          "KoboCoin",
          "PetroDollar",
          "Argentum",
          "MyriadCoin",
          "MoonCoin",
          "ZetaCoin",
          "SexCoin",
          "Quatloo",
          "Riecoin",
          "Digitalcoin ",
          "BitBar",
          "Catcoin",
          "CryptoBullion",
          "CannaCoin",
          "CryptCoin",
          "Verge",
          "DevCoin",
          "EarthCoin",
          "E-Gulden",
          "Emerald",
          "Franko",
          "GrandCoin",
          "GlobalCoin",
          "GoldCoin",
          "HoboNickels",
          "Infinite Coin",
          "IXcoin",
          "KrugerCoin",
          "LuckyCoin",
          "Litebar ",
          "MaxCoin",
          "MediterraneanCoin",
          "MazaCoin",
          "Nautilus Coin",
          "NobleCoin",
          "NyanCoin",
          "Orbitcoin",
          "PotCoin",
          "PhoenixCoin",
          "RonPaulCoin",
          "StableCoin",
          "SmartCoin",
          "SyncCoin",
          "SysCoin",
          "TeslaCoin",
          "TigerCoin",
          "TorCoin",
          "TerraCoin",
          "UnbreakableCoin",
          "Unobtanium",
          "UnitaryStatus Dollar",
          "UltraCoin",
          "WorldCoin",
          "X11 Coin",
          "JouleCoin",
          "ZCC Coin",
          "StorjCoin",
          "MonaCoin",
          "Neutron",
          "PesetaCoin",
          "Wild Beast Coin",
          "Dnotes",
          "Flo",
          "Sativa Coin",
          "JoinCoin",
          "ArtByte",
          "LiteDoge",
          "Triangles Coin",
          "Folding Coin",
          "SolarCoin",
          "Ucoin",
          "UFO Coin",
          "OrangeCoin",
          "FriendshipCoin",
          "BlakeCoin",
          "OmniCron",
          "BitstarCoin",
          "NeosCoin",
          "Vtorrent",
          "PinkCoin",
          "GreenCoin",
          "Cryptonite",
          "BitcoinPlus",
          "MasterCoin",
          "SoonCoin",
          "1Credit",
          "Nexus",
          "Crypto Escudo",
          "AudioCoin",
          "MarsCoin ",
          "Crypto",
          "Anarchists Prime",
          "Droidz",
          "BowsCoin",
          "IncaKoin",
          "Piggy Coin",
          "Crown Coin",
          "Genstake",
          "Song Coin",
          "SmileyCoin",
          "UnCoin",
          "BitZeny",
          "Diggits",
          "XiaoMiCoin",
          "Paycon",
          "CapriCoin",
          " ClubCoin",
          "Radium",
          "Emercoin",
          "EverGreenCoin",
          "MindCoin",
          "I0coin",
          "Pakcoin",
          "Creditbit ",
          "OKCash",
          "Revolution VR",
          "HOdlcoin",
          "EDRCoin",
          "Hitcoin",
          "DubaiCoin",
          "HiCoin",
          "CarpeDiemCoin",
          "BitCrystals",
          "BillaryCoin",
          "Scotcoin",
          "Influxcoin",
          "SoulCoin",
          "GPU Coin",
          "Adzcoin",
          "SoilCoin",
          "YoCoin",
          "EuropeCoin",
          "ZeitCoin",
          "SwingCoin",
          "SafeExchangeCoin",
          "Nebuchadnezzar",
          "Francs",
          "BolivarCoin",
          "Ratecoin",
          "Clockcoin",
          "VIP Tokens",
          "Omni",
          "Let it Ride",
          "iBankCoin",
          "Frankywillcoin",
          "MudraCoin",
          "PizzaCoin",
          "Lutetium Coin",
          "Komodo",
          "GoldBlocks",
          "Karbo",
          "BitTokens",
          "ZayedCoin",
          "MustangCoin",
          "ZoneCoin",
          "Circuits of Value",
          "DopeCoin",
          "DollarCoin",
          "Swiscoin",
          "Shilling",
          "BuzzCoin",
          "Opair",
          "Halloween Coin",
          "CoffeeCoin",
          "RoyalCoin",
          "GanjaCoin V2",
          "TeamUP",
          "LanaCoin",
          "Elementrem",
          "ZClassic",
          "InsaneCoin",
          "KiloCoin",
          "ArtexCoin",
          "EmberCoin",
          "XenixCoin",
          "FreeCoin",
          "PLNCoin",
          "AquariusCoin",
          "Kurrent",
          "Creatio",
          "Eternity",
          "Eurocoin",
          "BitcoinFast",
          "Stakenet",
          "BitConnect Coin",
          "MoneyCoin",
          "Enigma",
          "Cannabis Industry Coin",
          "Russiacoin",
          "PandaCoin",
          "GameUnits",
          "GAKHcoin",
          "LiteCreed",
          "OsmiumCoin",
          "Bikercoins",
          "HexxCoin",
          "Klingon Empire Darsek",
          "Internet of People",
          "KushCoin",
          "Printerium",
          "PAC Global",
          "Impeach",
          "Citadel",
          "Zilbercoin",
          "FirstCoin",
          "BeaverCoin",
          "FindCoin",
          "VaultCoin",
          "Zero",
          "OpenChat",
          "Netko",
          "Zoin",
          "RenosCoin",
          "DubaiCoin",
          "VirtacoinPlus",
          "TajCoin",
          "Impact",
          "EB3coin",
          "Atmos",
          "HappyCoin",
          "Coinonat",
          "MacronCoin",
          "Condensate",
          "Independent Money System",
          "ArgusCoin",
          "LomoCoin",
          "ProCurrency",
          "GoldReserve",
          "BenjiRolls",
          "ParallelCoin",
          "GrowthCoin",
          "ILCOIN",
          "Phreak",
          "Degas Coin",
          "HTML5 Coin",
          "Ultimate Secure Cash",
          "EquiTrader",
          "Insane Coin",
          "Quantum Resistant Ledger",
          "Espers",
          "ChanCoin",
          "Dinastycoin",
          "DigitalPrice",
          "Virta Unique Coin",
          "Bitcoin Planet",
          "Unify",
          "BritCoin",
          "SocialCoin",
          "ArcticCoin",
          "DAS",
          "Metrix",
          "Reality Clash",
          "LeviarCoin",
          "DeepOnion",
          "Bitcore",
          "gCn Coin",
          "Signatum",
          "Onix",
          "Cream",
          "Bitcoin Cash",
          "Growers International",
          "Monoeci",
          "Draftcoin",
          "Sojourn Coin",
          "Stakecoin",
          "FrazCoin",
          "Kronecoin",
          "AdCoin",
          "Linx",
          "CoinonatX",
          "Ethereum Dark",
          "Sumokoin",
          "Obsidian",
          "Regalcoin",
          "BitcoinZ",
          "TrezarCoin",
          "ATC Coin",
          "Elements",
          "TerraNovaCoin",
          "VIVO Coin",
          "Red Pulse Phoenix",
          "Aureus",
          "Rupee",
          "WomenCoin",
          "Theresa May Coin",
          "NamoCoin",
          "LUXCoin",
          "Pirl",
          "Xios",
          "Bitcloud 2.0",
          "BlackholeCoin",
          "Pura",
          "Innova",
          "Zeph",
          "Ellaism",
          "MinexCoin",
          "Magnet",
          "Lamden Tau",
          "Electra",
          "Bitcoin Diamond",
          "SHIELD",
          "Cash & Back Coin",
          "UltraNote",
          "GlobalToken",
          "BitCoal",
          "DaxxCoin",
          "Bulwark",
          "Kalkulus",
          "AC3",
          "Lethean",
          "GermanCoin",
          "LiteCoin Ultra",
          "DeepBrain Chain",
          "PopularCoin",
          "Copico",
          "Photon",
          "Sucre",
          "SparksPay",
          "Digiwage",
          "GunCoin",
          "IrishCoin",
          "Bodhi Network",
          "Trollcoin",
          "Litecoin Plus",
          "Monkey Project",
          "Pioneer Coin",
          "UnitedBitcoin",
          "Interzone",
          "TokenPay",
          "1717 Masonic Commemorative Token",
          "THEKEY Token",
          "Dorado",
          "MUNcoin",
          "Unified Society USDEX",
          "Logarithm",
          "ShareChain",
          "KREDS",
          "Tokyo Coin",
          "BiblePay",
          "LitecoinCash",
          "BitFlip",
          "ALAX",
          "LottoCoin",
          "Crypto Improvement Fund",
          "Stipend",
          "Pushi",
          "Ellerium",
          "Callisto Network",
          "BitTube",
          "Poseidon",
          "ADAMANT Messenger",
          "Aidos Kuneen",
          "Bitspace",
          "Next.exchange Token",
          "Briacoin",
          "Ignition",
          "Bitrolium",
          "MedicCoin",
          "Alpenschillling",
          "BitGreen",
          "Deviant Coin",
          "Abjcoin",
          "Semux",
          "FuturoCoin",
          "Carebit",
          "Zealium",
          "Monero Classic",
          "Proton",
          "iDealCash",
          "Jumpcoin",
          "Bitcoin Incognito",
          "KEYCO",
          "HollyWoodCoin",
          "PlatinCoin",
          "Loki",
          "Newton Coin",
          "Reliance",
          "Xt3ch",
          "MassGrid",
          "TheVig",
          "PluraCoin",
          "EmaratCoin",
          "Dekado",
          "Lynx",
          "Poseidon Quark",
          "BitcoinWSpectrum",
          "Muse",
          "Motion",
          "PlusOneCoin",
          "Axe",
          "Trivechain",
          "Dystem",
          "Giant",
          "Absolute Coin",
          "Vitae",
          "TPCash",
          "Webchain",
          "Ryo",
          "Urals Coin",
          "Qwertycoin",
          "MMOCoin",
          "Ketan",
          "Project Pai",
          "XDNA",
          "PAXEX",
          "Aenco",
          "Zipper",
          "Kcash",
          "Xchange",
          "Acute Angle Cloud",
          "RoBet",
          "CrypticCoin",
          "Bettex coin",
          "DAPS Coin",
          "TigerCash",
          "HyperCash",
          "ABBC Coin",
          "BitMoney",
          "FREDEnergy",
          "Zenad",
          "HerbCoin",
          "URANIUMX",
          "Universal Molecule",
          "Lithium",
          "PirateCash",
          "Exosis",
          "Oduwa",
          "Beam",
          "BitTorrent",
          "Bithereum",
          "Stakinglab",
          "Crypto Sports",
          "Credit",
          "Atomic Wallet Coin",
          "Scribe Network",
          "SLICE",
          "Vollar",
          "REDi",
          "Nasdacoin",
          "Gexan",
          "Beetle Coin",
          "Titan Coin",
          "Pirate Chain",
          "BLAST",
          "Bitcoin Rhodium",
          "Monarch Token",
          "Foin",
          "Beldex",
          "eXPerience Chain",
          "BLOC.MONEY",
          "Nervos Network",
          "Lobstex",
          "SpectreSecurityCoin",
          "Bitcoin Turbo Koin",
          "VeChain Old",
          "Kahsh",
          "01coin",
          "YENTEN",
          "SCRIV",
          "PEPS Coin",
          "Neetcoin",
          "OMEGA",
          "Cranepay",
          "ZCore",
          "Always Evolving",
          "Dextro",
          "Graviocoin",
          "Rapids",
          "PENG",
          "X42 Protocol",
          "Wincash Coin",
          "MimbleWimbleCoin",
          "IQ.cash",
          "Rhypton Club",
          "Largo Coin",
          "DDKoin",
          "MegaCoin",
          "Gulden",
          "FeatherCoin",
          "Zcoin",
          "Horizen",
          "DigiByte",
          "Ontology",
          "Dash",
          "Ethereum Classic",
          "Buxcoin",
          "Binance Coin",
          "Bitcoin SV",
          "Infinity Economics",
          "QuarkCoin",
          "Expanse",
          "Aurora Coin",
          "Namecoin",
          "Einsteinium",
          "SibCoin",
          "Bitcoin Gold",
          "Groestlcoin",
          "DigitalNote ",
          "ViaCoin",
          "IOCoin",
          "Metaverse",
          "Ravencoin",
          "ByteCoin",
          "BurstCoin",
          "Poa Network",
          "Bytom",
          "VeChain",
          "QTUM",
          "Vertcoin",
          "Nano",
          "Lisk",
          "Litecoin",
          "Decred",
          "Steem",
          "Bitshares",
          "Bitcoin",
          "Waves",
          "Cardano"
         ],
         "legendgroup": "",
         "marker": {
          "color": "#636efa",
          "symbol": "circle"
         },
         "mode": "markers",
         "name": "",
         "scene": "scene",
         "showlegend": false,
         "type": "scatter3d"
        }
       ],
       "layout": {
        "legend": {
         "tracegroupgap": 0
        },
        "margin": {
         "t": 60
        },
        "scene": {
         "domain": {
          "x": [
           0,
           1
          ],
          "y": [
           0,
           1
          ]
         }
        },
        "template": {
         "data": {
          "bar": [
           {
            "error_x": {
             "color": "#2a3f5f"
            },
            "error_y": {
             "color": "#2a3f5f"
            },
            "marker": {
             "line": {
              "color": "#E5ECF6",
              "width": 0.5
             }
            },
            "type": "bar"
           }
          ],
          "barpolar": [
           {
            "marker": {
             "line": {
              "color": "#E5ECF6",
              "width": 0.5
             }
            },
            "type": "barpolar"
           }
          ],
          "carpet": [
           {
            "aaxis": {
             "endlinecolor": "#2a3f5f",
             "gridcolor": "white",
             "linecolor": "white",
             "minorgridcolor": "white",
             "startlinecolor": "#2a3f5f"
            },
            "baxis": {
             "endlinecolor": "#2a3f5f",
             "gridcolor": "white",
             "linecolor": "white",
             "minorgridcolor": "white",
             "startlinecolor": "#2a3f5f"
            },
            "type": "carpet"
           }
          ],
          "choropleth": [
           {
            "colorbar": {
             "outlinewidth": 0,
             "ticks": ""
            },
            "type": "choropleth"
           }
          ],
          "contour": [
           {
            "colorbar": {
             "outlinewidth": 0,
             "ticks": ""
            },
            "colorscale": [
             [
              0,
              "#0d0887"
             ],
             [
              0.1111111111111111,
              "#46039f"
             ],
             [
              0.2222222222222222,
              "#7201a8"
             ],
             [
              0.3333333333333333,
              "#9c179e"
             ],
             [
              0.4444444444444444,
              "#bd3786"
             ],
             [
              0.5555555555555556,
              "#d8576b"
             ],
             [
              0.6666666666666666,
              "#ed7953"
             ],
             [
              0.7777777777777778,
              "#fb9f3a"
             ],
             [
              0.8888888888888888,
              "#fdca26"
             ],
             [
              1,
              "#f0f921"
             ]
            ],
            "type": "contour"
           }
          ],
          "contourcarpet": [
           {
            "colorbar": {
             "outlinewidth": 0,
             "ticks": ""
            },
            "type": "contourcarpet"
           }
          ],
          "heatmap": [
           {
            "colorbar": {
             "outlinewidth": 0,
             "ticks": ""
            },
            "colorscale": [
             [
              0,
              "#0d0887"
             ],
             [
              0.1111111111111111,
              "#46039f"
             ],
             [
              0.2222222222222222,
              "#7201a8"
             ],
             [
              0.3333333333333333,
              "#9c179e"
             ],
             [
              0.4444444444444444,
              "#bd3786"
             ],
             [
              0.5555555555555556,
              "#d8576b"
             ],
             [
              0.6666666666666666,
              "#ed7953"
             ],
             [
              0.7777777777777778,
              "#fb9f3a"
             ],
             [
              0.8888888888888888,
              "#fdca26"
             ],
             [
              1,
              "#f0f921"
             ]
            ],
            "type": "heatmap"
           }
          ],
          "heatmapgl": [
           {
            "colorbar": {
             "outlinewidth": 0,
             "ticks": ""
            },
            "colorscale": [
             [
              0,
              "#0d0887"
             ],
             [
              0.1111111111111111,
              "#46039f"
             ],
             [
              0.2222222222222222,
              "#7201a8"
             ],
             [
              0.3333333333333333,
              "#9c179e"
             ],
             [
              0.4444444444444444,
              "#bd3786"
             ],
             [
              0.5555555555555556,
              "#d8576b"
             ],
             [
              0.6666666666666666,
              "#ed7953"
             ],
             [
              0.7777777777777778,
              "#fb9f3a"
             ],
             [
              0.8888888888888888,
              "#fdca26"
             ],
             [
              1,
              "#f0f921"
             ]
            ],
            "type": "heatmapgl"
           }
          ],
          "histogram": [
           {
            "marker": {
             "colorbar": {
              "outlinewidth": 0,
              "ticks": ""
             }
            },
            "type": "histogram"
           }
          ],
          "histogram2d": [
           {
            "colorbar": {
             "outlinewidth": 0,
             "ticks": ""
            },
            "colorscale": [
             [
              0,
              "#0d0887"
             ],
             [
              0.1111111111111111,
              "#46039f"
             ],
             [
              0.2222222222222222,
              "#7201a8"
             ],
             [
              0.3333333333333333,
              "#9c179e"
             ],
             [
              0.4444444444444444,
              "#bd3786"
             ],
             [
              0.5555555555555556,
              "#d8576b"
             ],
             [
              0.6666666666666666,
              "#ed7953"
             ],
             [
              0.7777777777777778,
              "#fb9f3a"
             ],
             [
              0.8888888888888888,
              "#fdca26"
             ],
             [
              1,
              "#f0f921"
             ]
            ],
            "type": "histogram2d"
           }
          ],
          "histogram2dcontour": [
           {
            "colorbar": {
             "outlinewidth": 0,
             "ticks": ""
            },
            "colorscale": [
             [
              0,
              "#0d0887"
             ],
             [
              0.1111111111111111,
              "#46039f"
             ],
             [
              0.2222222222222222,
              "#7201a8"
             ],
             [
              0.3333333333333333,
              "#9c179e"
             ],
             [
              0.4444444444444444,
              "#bd3786"
             ],
             [
              0.5555555555555556,
              "#d8576b"
             ],
             [
              0.6666666666666666,
              "#ed7953"
             ],
             [
              0.7777777777777778,
              "#fb9f3a"
             ],
             [
              0.8888888888888888,
              "#fdca26"
             ],
             [
              1,
              "#f0f921"
             ]
            ],
            "type": "histogram2dcontour"
           }
          ],
          "mesh3d": [
           {
            "colorbar": {
             "outlinewidth": 0,
             "ticks": ""
            },
            "type": "mesh3d"
           }
          ],
          "parcoords": [
           {
            "line": {
             "colorbar": {
              "outlinewidth": 0,
              "ticks": ""
             }
            },
            "type": "parcoords"
           }
          ],
          "pie": [
           {
            "automargin": true,
            "type": "pie"
           }
          ],
          "scatter": [
           {
            "marker": {
             "colorbar": {
              "outlinewidth": 0,
              "ticks": ""
             }
            },
            "type": "scatter"
           }
          ],
          "scatter3d": [
           {
            "line": {
             "colorbar": {
              "outlinewidth": 0,
              "ticks": ""
             }
            },
            "marker": {
             "colorbar": {
              "outlinewidth": 0,
              "ticks": ""
             }
            },
            "type": "scatter3d"
           }
          ],
          "scattercarpet": [
           {
            "marker": {
             "colorbar": {
              "outlinewidth": 0,
              "ticks": ""
             }
            },
            "type": "scattercarpet"
           }
          ],
          "scattergeo": [
           {
            "marker": {
             "colorbar": {
              "outlinewidth": 0,
              "ticks": ""
             }
            },
            "type": "scattergeo"
           }
          ],
          "scattergl": [
           {
            "marker": {
             "colorbar": {
              "outlinewidth": 0,
              "ticks": ""
             }
            },
            "type": "scattergl"
           }
          ],
          "scattermapbox": [
           {
            "marker": {
             "colorbar": {
              "outlinewidth": 0,
              "ticks": ""
             }
            },
            "type": "scattermapbox"
           }
          ],
          "scatterpolar": [
           {
            "marker": {
             "colorbar": {
              "outlinewidth": 0,
              "ticks": ""
             }
            },
            "type": "scatterpolar"
           }
          ],
          "scatterpolargl": [
           {
            "marker": {
             "colorbar": {
              "outlinewidth": 0,
              "ticks": ""
             }
            },
            "type": "scatterpolargl"
           }
          ],
          "scatterternary": [
           {
            "marker": {
             "colorbar": {
              "outlinewidth": 0,
              "ticks": ""
             }
            },
            "type": "scatterternary"
           }
          ],
          "surface": [
           {
            "colorbar": {
             "outlinewidth": 0,
             "ticks": ""
            },
            "colorscale": [
             [
              0,
              "#0d0887"
             ],
             [
              0.1111111111111111,
              "#46039f"
             ],
             [
              0.2222222222222222,
              "#7201a8"
             ],
             [
              0.3333333333333333,
              "#9c179e"
             ],
             [
              0.4444444444444444,
              "#bd3786"
             ],
             [
              0.5555555555555556,
              "#d8576b"
             ],
             [
              0.6666666666666666,
              "#ed7953"
             ],
             [
              0.7777777777777778,
              "#fb9f3a"
             ],
             [
              0.8888888888888888,
              "#fdca26"
             ],
             [
              1,
              "#f0f921"
             ]
            ],
            "type": "surface"
           }
          ],
          "table": [
           {
            "cells": {
             "fill": {
              "color": "#EBF0F8"
             },
             "line": {
              "color": "white"
             }
            },
            "header": {
             "fill": {
              "color": "#C8D4E3"
             },
             "line": {
              "color": "white"
             }
            },
            "type": "table"
           }
          ]
         },
         "layout": {
          "annotationdefaults": {
           "arrowcolor": "#2a3f5f",
           "arrowhead": 0,
           "arrowwidth": 1
          },
          "coloraxis": {
           "colorbar": {
            "outlinewidth": 0,
            "ticks": ""
           }
          },
          "colorscale": {
           "diverging": [
            [
             0,
             "#8e0152"
            ],
            [
             0.1,
             "#c51b7d"
            ],
            [
             0.2,
             "#de77ae"
            ],
            [
             0.3,
             "#f1b6da"
            ],
            [
             0.4,
             "#fde0ef"
            ],
            [
             0.5,
             "#f7f7f7"
            ],
            [
             0.6,
             "#e6f5d0"
            ],
            [
             0.7,
             "#b8e186"
            ],
            [
             0.8,
             "#7fbc41"
            ],
            [
             0.9,
             "#4d9221"
            ],
            [
             1,
             "#276419"
            ]
           ],
           "sequential": [
            [
             0,
             "#0d0887"
            ],
            [
             0.1111111111111111,
             "#46039f"
            ],
            [
             0.2222222222222222,
             "#7201a8"
            ],
            [
             0.3333333333333333,
             "#9c179e"
            ],
            [
             0.4444444444444444,
             "#bd3786"
            ],
            [
             0.5555555555555556,
             "#d8576b"
            ],
            [
             0.6666666666666666,
             "#ed7953"
            ],
            [
             0.7777777777777778,
             "#fb9f3a"
            ],
            [
             0.8888888888888888,
             "#fdca26"
            ],
            [
             1,
             "#f0f921"
            ]
           ],
           "sequentialminus": [
            [
             0,
             "#0d0887"
            ],
            [
             0.1111111111111111,
             "#46039f"
            ],
            [
             0.2222222222222222,
             "#7201a8"
            ],
            [
             0.3333333333333333,
             "#9c179e"
            ],
            [
             0.4444444444444444,
             "#bd3786"
            ],
            [
             0.5555555555555556,
             "#d8576b"
            ],
            [
             0.6666666666666666,
             "#ed7953"
            ],
            [
             0.7777777777777778,
             "#fb9f3a"
            ],
            [
             0.8888888888888888,
             "#fdca26"
            ],
            [
             1,
             "#f0f921"
            ]
           ]
          },
          "colorway": [
           "#636efa",
           "#EF553B",
           "#00cc96",
           "#ab63fa",
           "#FFA15A",
           "#19d3f3",
           "#FF6692",
           "#B6E880",
           "#FF97FF",
           "#FECB52"
          ],
          "font": {
           "color": "#2a3f5f"
          },
          "geo": {
           "bgcolor": "white",
           "lakecolor": "white",
           "landcolor": "#E5ECF6",
           "showlakes": true,
           "showland": true,
           "subunitcolor": "white"
          },
          "hoverlabel": {
           "align": "left"
          },
          "hovermode": "closest",
          "mapbox": {
           "style": "light"
          },
          "paper_bgcolor": "white",
          "plot_bgcolor": "#E5ECF6",
          "polar": {
           "angularaxis": {
            "gridcolor": "white",
            "linecolor": "white",
            "ticks": ""
           },
           "bgcolor": "#E5ECF6",
           "radialaxis": {
            "gridcolor": "white",
            "linecolor": "white",
            "ticks": ""
           }
          },
          "scene": {
           "xaxis": {
            "backgroundcolor": "#E5ECF6",
            "gridcolor": "white",
            "gridwidth": 2,
            "linecolor": "white",
            "showbackground": true,
            "ticks": "",
            "zerolinecolor": "white"
           },
           "yaxis": {
            "backgroundcolor": "#E5ECF6",
            "gridcolor": "white",
            "gridwidth": 2,
            "linecolor": "white",
            "showbackground": true,
            "ticks": "",
            "zerolinecolor": "white"
           },
           "zaxis": {
            "backgroundcolor": "#E5ECF6",
            "gridcolor": "white",
            "gridwidth": 2,
            "linecolor": "white",
            "showbackground": true,
            "ticks": "",
            "zerolinecolor": "white"
           }
          },
          "shapedefaults": {
           "line": {
            "color": "#2a3f5f"
           }
          },
          "ternary": {
           "aaxis": {
            "gridcolor": "white",
            "linecolor": "white",
            "ticks": ""
           },
           "baxis": {
            "gridcolor": "white",
            "linecolor": "white",
            "ticks": ""
           },
           "bgcolor": "#E5ECF6",
           "caxis": {
            "gridcolor": "white",
            "linecolor": "white",
            "ticks": ""
           }
          },
          "title": {
           "x": 0.05
          },
          "xaxis": {
           "automargin": true,
           "gridcolor": "white",
           "linecolor": "white",
           "ticks": "",
           "title": {
            "standoff": 15
           },
           "zerolinecolor": "white",
           "zerolinewidth": 2
          },
          "yaxis": {
           "automargin": true,
           "gridcolor": "white",
           "linecolor": "white",
           "ticks": "",
           "title": {
            "standoff": 15
           },
           "zerolinecolor": "white",
           "zerolinewidth": 2
          }
         }
        }
       }
      },
      "text/html": [
       "<div>                            <div id=\"48658acd-2dea-464e-a47f-798030ab29dc\" class=\"plotly-graph-div\" style=\"height:525px; width:100%;\"></div>            <script type=\"text/javascript\">                require([\"plotly\"], function(Plotly) {                    window.PLOTLYENV=window.PLOTLYENV || {};                                    if (document.getElementById(\"48658acd-2dea-464e-a47f-798030ab29dc\")) {                    Plotly.newPlot(                        \"48658acd-2dea-464e-a47f-798030ab29dc\",                        [{\"customdata\": [[\"Scrypt\"], [\"Scrypt\"], [\"X13\"], [\"PoS\"], [\"Equihash\"], [\"SHA-256\"], [\"SHA-256\"], [\"Scrypt\"], [\"X15\"], [\"SHA-256D\"], [\"Scrypt\"], [\"Multiple\"], [\"Scrypt\"], [\"SHA-256\"], [\"Scrypt\"], [\"Scrypt\"], [\"Groestl\"], [\"Scrypt\"], [\"Scrypt\"], [\"Scrypt\"], [\"Scrypt\"], [\"Scrypt\"], [\"X11\"], [\"Multiple\"], [\"SHA-256\"], [\"Scrypt\"], [\"Scrypt\"], [\"Scrypt\"], [\"Scrypt\"], [\"Scrypt\"], [\"Scrypt\"], [\"Scrypt\"], [\"Scrypt\"], [\"Scrypt\"], [\"SHA-256\"], [\"Scrypt\"], [\"Scrypt\"], [\"Scrypt\"], [\"SHA3\"], [\"HybridScryptHash256\"], [\"SHA-256\"], [\"Scrypt\"], [\"Scrypt\"], [\"Scrypt\"], [\"NeoScrypt\"], [\"Scrypt\"], [\"Scrypt\"], [\"Scrypt\"], [\"Scrypt\"], [\"Scrypt\"], [\"X11\"], [\"SHA-256\"], [\"Multiple\"], [\"SHA-256\"], [\"X11\"], [\"SHA-256\"], [\"SHA-256\"], [\"SHA-256\"], [\"Scrypt\"], [\"Scrypt\"], [\"Scrypt\"], [\"X11\"], [\"SHA-256\"], [\"Scrypt\"], [\"Counterparty\"], [\"Scrypt\"], [\"SHA-256\"], [\"Scrypt\"], [\"Scrypt\"], [\"Scrypt\"], [\"Scrypt\"], [\"X13\"], [\"Multiple\"], [\"Scrypt\"], [\"Scrypt\"], [\"X13\"], [\"Stanford Folding\"], [\"Scrypt\"], [\"X11\"], [\"NeoScrypt\"], [\"Scrypt\"], [\"NeoScrypt\"], [\"Blake\"], [\"Scrypt\"], [\"Scrypt\"], [\"SHA-256\"], [\"Scrypt\"], [\"X11\"], [\"Scrypt\"], [\"M7 POW\"], [\"Scrypt\"], [\"Scrypt\"], [\"SHA-256\"], [\"Scrypt\"], [\"SHA3\"], [\"Scrypt\"], [\"Scrypt\"], [\"X11\"], [\"Lyra2RE\"], [\"SHA-256\"], [\"QUAIT\"], [\"X11\"], [\"SHA-256\"], [\"X11\"], [\"Multiple\"], [\"Scrypt\"], [\"Scrypt\"], [\"Scrypt\"], [\"X11\"], [\"Scrypt\"], [\"Scrypt\"], [\"Scrypt\"], [\"X13\"], [\"X11\"], [\"Scrypt\"], [\"PoS\"], [\"SHA-256\"], [\"X15\"], [\"X11\"], [\"SHA-256\"], [\"Scrypt\"], [\"X11\"], [\"SHA-256\"], [\"Scrypt\"], [\"1GB AES Pattern Search\"], [\"SHA-256\"], [\"X11\"], [\"SHA-256\"], [\"Scrypt\"], [\"SHA-256\"], [\"Counterparty\"], [\"Scrypt\"], [\"Counterparty\"], [\"X11\"], [\"Scrypt\"], [\"Scrypt\"], [\"X11\"], [\"Dagger\"], [\"Scrypt\"], [\"X11\"], [\"Scrypt\"], [\"SHA-256\"], [\"Scrypt\"], [\"PoS\"], [\"Scrypt\"], [\"X11\"], [\"X11\"], [\"SHA-256\"], [\"NIST5\"], [\"Scrypt\"], [\"POS 3.0\"], [\"Scrypt\"], [\"Scrypt\"], [\"X13\"], [\"X11\"], [\"X11\"], [\"Equihash\"], [\"X11\"], [\"CryptoNight\"], [\"SHA-256\"], [\"SHA-256\"], [\"X11\"], [\"Scrypt\"], [\"Multiple\"], [\"Scrypt\"], [\"SHA-256\"], [\"Scrypt\"], [\"Scrypt\"], [\"SHA-256D\"], [\"PoS\"], [\"X11\"], [\"PoS\"], [\"X13\"], [\"X14\"], [\"PoS\"], [\"SHA-256D\"], [\"Ethash\"], [\"Equihash\"], [\"X11\"], [\"Scrypt\"], [\"X11\"], [\"X13\"], [\"X11\"], [\"PoS\"], [\"Scrypt\"], [\"Scrypt\"], [\"X11\"], [\"PoS\"], [\"X11\"], [\"SHA-256\"], [\"Scrypt\"], [\"X11\"], [\"Scrypt\"], [\"Scrypt\"], [\"X11\"], [\"CryptoNight\"], [\"Scrypt\"], [\"Scrypt\"], [\"Scrypt\"], [\"Scrypt\"], [\"QuBit\"], [\"Scrypt\"], [\"CryptoNight\"], [\"Lyra2RE\"], [\"Scrypt\"], [\"SHA-256\"], [\"X11\"], [\"Scrypt\"], [\"X11\"], [\"Scrypt\"], [\"CryptoNight-V7\"], [\"Scrypt\"], [\"Scrypt\"], [\"Scrypt\"], [\"X13\"], [\"X11\"], [\"Equihash\"], [\"Scrypt\"], [\"Blake\"], [\"Lyra2RE\"], [\"Scrypt\"], [\"Dagger-Hashimoto\"], [\"X11\"], [\"Blake2S\"], [\"X11\"], [\"Scrypt\"], [\"PoS\"], [\"X11\"], [\"NIST5\"], [\"PoS\"], [\"X11\"], [\"Scrypt\"], [\"Scrypt\"], [\"Scrypt\"], [\"SHA-256\"], [\"X11\"], [\"Scrypt\"], [\"Scrypt\"], [\"Scrypt\"], [\"SHA-256\"], [\"PoS\"], [\"Scrypt\"], [\"X15\"], [\"SHA-256\"], [\"Scrypt\"], [\"X11\"], [\"RandomX\"], [\"536\"], [\"Cloverhash\"], [\"CryptoNight\"], [\"X11\"], [\"NIST5\"], [\"Skein\"], [\"Scrypt\"], [\"X13\"], [\"Scrypt\"], [\"X11\"], [\"X11\"], [\"Scrypt\"], [\"Ethash\"], [\"CryptoNight\"], [\"X13\"], [\"Time Travel\"], [\"Scrypt\"], [\"SkunkHash v2 Raptor\"], [\"X11\"], [\"Skein\"], [\"SHA-256\"], [\"DPoS\"], [\"X11\"], [\"Scrypt\"], [\"Scrypt\"], [\"PoS\"], [\"Scrypt\"], [\"Scrypt\"], [\"Scrypt\"], [\"Scrypt\"], [\"X11\"], [\"Scrypt\"], [\"CryptoNight\"], [\"SHA-512\"], [\"X11\"], [\"Equihash\"], [\"NeoScrypt\"], [\"Scrypt\"], [\"X11\"], [\"Scrypt\"], [\"NeoScrypt\"], [\"NEP-5\"], [\"Scrypt\"], [\"Lyra2REv2\"], [\"Scrypt\"], [\"SHA-256\"], [\"NIST5\"], [\"PHI1612\"], [\"Dagger\"], [\"Scrypt\"], [\"Quark\"], [\"Scrypt\"], [\"X11\"], [\"NeoScrypt\"], [\"SHA-256\"], [\"Ethash\"], [\"Mars\"], [\"X11\"], [\"DPoS\"], [\"NIST5\"], [\"X13\"], [\"Multiple\"], [\"Scrypt\"], [\"CryptoNight\"], [\"SHA-256\"], [\"CryptoNight\"], [\"Ethash\"], [\"NIST5\"], [\"Quark\"], [\"X11\"], [\"CryptoNight-V7\"], [\"Scrypt\"], [\"Scrypt\"], [\"NEP-5\"], [\"Scrypt\"], [\"PoS\"], [\"BLAKE256\"], [\"X11\"], [\"NeoScrypt\"], [\"Quark\"], [\"NeoScrypt\"], [\"Scrypt\"], [\"QRC20 Token\"], [\"Scrypt\"], [\"Scrypt\"], [\"X11\"], [\"X11\"], [\"SHA-256\"], [\"C11\"], [\"POS 3.0\"], [\"Ethash\"], [\"NeoScrypt\"], [\"Ethash\"], [\"SkunkHash\"], [\"Scrypt\"], [\"Ethash\"], [\"Scrypt\"], [\"Lyra2REv2\"], [\"X13\"], [\"Proof-of-BibleHash\"], [\"SHA-256 + Hive\"], [\"Scrypt\"], [\"DPoS\"], [\"Scrypt\"], [\"X11\"], [\"C11\"], [\"X11\"], [\"XEVAN\"], [\"Ethash\"], [\"CryptoNight\"], [\"Scrypt\"], [\"DPoS\"], [\"IMesh\"], [\"NIST5\"], [\"SHA-256\"], [\"Scrypt\"], [\"Scrypt\"], [\"Equihash\"], [\"Scrypt\"], [\"Lyra2Z\"], [\"Green Protocol\"], [\"PoS\"], [\"Scrypt\"], [\"Semux BFT consensus\"], [\"X11\"], [\"Quark\"], [\"PoS\"], [\"CryptoNight\"], [\"X16R\"], [\"Scrypt\"], [\"NIST5\"], [\"XEVAN\"], [\"Tribus\"], [\"Scrypt\"], [\"CryptoNight\"], [\"CryptoNight-Heavy\"], [\"CryptoNight\"], [\"X11\"], [\"Scrypt\"], [\"Jump Consistent Hash\"], [\"SHA-256D\"], [\"CryptoNight\"], [\"Scrypt\"], [\"X15\"], [\"Scrypt\"], [\"Quark\"], [\"SHA-256\"], [\"DPoS\"], [\"X16R\"], [\"HMQ1725\"], [\"X11\"], [\"X16R\"], [\"Quark\"], [\"Quark\"], [\"Lyra2REv2\"], [\"Quark\"], [\"Scrypt\"], [\"CryptoNight-V7\"], [\"Cryptonight-GPU\"], [\"XEVAN\"], [\"CryptoNight Heavy\"], [\"Scrypt\"], [\"PoS\"], [\"SHA-256\"], [\"HEX\"], [\"X11\"], [\"Ethash\"], [\"DPoS\"], [\"SHA-512\"], [\"X16R\"], [\"ECC 256K1\"], [\"Keccak\"], [\"Equihash\"], [\"XEVAN\"], [\"Dagger\"], [\"SHA-256\"], [\"BLAKE256\"], [\"X13\"], [\"XEVAN\"], [\"CryptoNight\"], [\"Quark\"], [\"Quark\"], [\"Argon2d\"], [\"Blake\"], [\"Blake\"], [\"Equihash\"], [\"Exosis\"], [\"Scrypt\"], [\"Equihash\"], [\"TRC10\"], [\"Equihash\"], [\"Quark\"], [\"Quark\"], [\"Scrypt\"], [\"ERC20 + BEP-2\"], [\"Lyra2REv2\"], [\"QuBit\"], [\"Equihash+Scrypt\"], [\"SHA-256\"], [\"Scrypt\"], [\"PHI2\"], [\"XEVAN\"], [\"SHA-256D\"], [\"Equihash\"], [\"SHA-256\"], [\"X13\"], [\"Ethash\"], [\"SHA-256\"], [\"CryptoNight\"], [\"SHA-256\"], [\"Cryptonight Haven\"], [\"Eaglesong\"], [\"Quark\"], [\"C11\"], [\"Quark\"], [\"VeChainThor Authority\"], [\"SHA-256\"], [\"NeoScrypt\"], [\"YespowerR16\"], [\"Tribus\"], [\"Quark\"], [\"Scrypt\"], [\"X11\"], [\"YespowerR16\"], [\"Quark\"], [\"Scrypt\"], [\"SkunkHash v2 Raptor\"], [\"Scrypt\"], [\"Quark\"], [\"X11\"], [\"X13\"], [\"SHA-256\"], [\"C31\"], [\"NeoScrypt\"], [\"X11\"], [\"SHA-256\"], [\"Ed25519\"], [\"Scrypt\"], [\"Scrypt\"], [\"NeoScrypt\"], [\"Lyra2Z\"], [\"Equihash\"], [\"Multiple\"], [\"VBFT\"], [\"X11\"], [\"Ethash\"], [\"Scrypt\"], [\"BEP2 BNB\"], [\"SHA-256\"], [\"SHA-256\"], [\"Quark\"], [\"Ethash\"], [\"Scrypt\"], [\"SHA-256\"], [\"Scrypt\"], [\"X11GOST\"], [\"Equihash\"], [\"Groestl\"], [\"BMW512 / Echo512\"], [\"Scrypt\"], [\"X11\"], [\"Ethash\"], [\"X16R\"], [\"CryptoNight\"], [\"Shabal256\"], [\"Proof-of-Authority\"], [\"Tensority\"], [\"VeChainThor Authority\"], [\"POS 3.0\"], [\"Lyra2REv2\"], [\"Blake2b\"], [\"DPoS\"], [\"Scrypt\"], [\"BLAKE256\"], [\"PoS\"], [\"SHA-512\"], [\"SHA-256\"], [\"Leased POS\"], [\"Ouroboros\"]], \"hovertemplate\": \"<b>%{hovertext}</b><br><br>Algorithm=%{customdata[0]}<extra></extra>\", \"hovertext\": [\"42 Coin\", \"404Coin\", \"EliteCoin\", \"Nxt\", \"ZCash\", \"BitcoinDark\", \"PayCoin\", \"ProsperCoin\", \"KoboCoin\", \"PetroDollar\", \"Argentum\", \"MyriadCoin\", \"MoonCoin\", \"ZetaCoin\", \"SexCoin\", \"Quatloo\", \"Riecoin\", \"Digitalcoin \", \"BitBar\", \"Catcoin\", \"CryptoBullion\", \"CannaCoin\", \"CryptCoin\", \"Verge\", \"DevCoin\", \"EarthCoin\", \"E-Gulden\", \"Emerald\", \"Franko\", \"GrandCoin\", \"GlobalCoin\", \"GoldCoin\", \"HoboNickels\", \"Infinite Coin\", \"IXcoin\", \"KrugerCoin\", \"LuckyCoin\", \"Litebar \", \"MaxCoin\", \"MediterraneanCoin\", \"MazaCoin\", \"Nautilus Coin\", \"NobleCoin\", \"NyanCoin\", \"Orbitcoin\", \"PotCoin\", \"PhoenixCoin\", \"RonPaulCoin\", \"StableCoin\", \"SmartCoin\", \"SyncCoin\", \"SysCoin\", \"TeslaCoin\", \"TigerCoin\", \"TorCoin\", \"TerraCoin\", \"UnbreakableCoin\", \"Unobtanium\", \"UnitaryStatus Dollar\", \"UltraCoin\", \"WorldCoin\", \"X11 Coin\", \"JouleCoin\", \"ZCC Coin\", \"StorjCoin\", \"MonaCoin\", \"Neutron\", \"PesetaCoin\", \"Wild Beast Coin\", \"Dnotes\", \"Flo\", \"Sativa Coin\", \"JoinCoin\", \"ArtByte\", \"LiteDoge\", \"Triangles Coin\", \"Folding Coin\", \"SolarCoin\", \"Ucoin\", \"UFO Coin\", \"OrangeCoin\", \"FriendshipCoin\", \"BlakeCoin\", \"OmniCron\", \"BitstarCoin\", \"NeosCoin\", \"Vtorrent\", \"PinkCoin\", \"GreenCoin\", \"Cryptonite\", \"BitcoinPlus\", \"MasterCoin\", \"SoonCoin\", \"1Credit\", \"Nexus\", \"Crypto Escudo\", \"AudioCoin\", \"MarsCoin \", \"Crypto\", \"Anarchists Prime\", \"Droidz\", \"BowsCoin\", \"IncaKoin\", \"Piggy Coin\", \"Crown Coin\", \"Genstake\", \"Song Coin\", \"SmileyCoin\", \"UnCoin\", \"BitZeny\", \"Diggits\", \"XiaoMiCoin\", \"Paycon\", \"CapriCoin\", \" ClubCoin\", \"Radium\", \"Emercoin\", \"EverGreenCoin\", \"MindCoin\", \"I0coin\", \"Pakcoin\", \"Creditbit \", \"OKCash\", \"Revolution VR\", \"HOdlcoin\", \"EDRCoin\", \"Hitcoin\", \"DubaiCoin\", \"HiCoin\", \"CarpeDiemCoin\", \"BitCrystals\", \"BillaryCoin\", \"Scotcoin\", \"Influxcoin\", \"SoulCoin\", \"GPU Coin\", \"Adzcoin\", \"SoilCoin\", \"YoCoin\", \"EuropeCoin\", \"ZeitCoin\", \"SwingCoin\", \"SafeExchangeCoin\", \"Nebuchadnezzar\", \"Francs\", \"BolivarCoin\", \"Ratecoin\", \"Clockcoin\", \"VIP Tokens\", \"Omni\", \"Let it Ride\", \"iBankCoin\", \"Frankywillcoin\", \"MudraCoin\", \"PizzaCoin\", \"Lutetium Coin\", \"Komodo\", \"GoldBlocks\", \"Karbo\", \"BitTokens\", \"ZayedCoin\", \"MustangCoin\", \"ZoneCoin\", \"Circuits of Value\", \"DopeCoin\", \"DollarCoin\", \"Swiscoin\", \"Shilling\", \"BuzzCoin\", \"Opair\", \"Halloween Coin\", \"CoffeeCoin\", \"RoyalCoin\", \"GanjaCoin V2\", \"TeamUP\", \"LanaCoin\", \"Elementrem\", \"ZClassic\", \"InsaneCoin\", \"KiloCoin\", \"ArtexCoin\", \"EmberCoin\", \"XenixCoin\", \"FreeCoin\", \"PLNCoin\", \"AquariusCoin\", \"Kurrent\", \"Creatio\", \"Eternity\", \"Eurocoin\", \"BitcoinFast\", \"Stakenet\", \"BitConnect Coin\", \"MoneyCoin\", \"Enigma\", \"Cannabis Industry Coin\", \"Russiacoin\", \"PandaCoin\", \"GameUnits\", \"GAKHcoin\", \"LiteCreed\", \"OsmiumCoin\", \"Bikercoins\", \"HexxCoin\", \"Klingon Empire Darsek\", \"Internet of People\", \"KushCoin\", \"Printerium\", \"PAC Global\", \"Impeach\", \"Citadel\", \"Zilbercoin\", \"FirstCoin\", \"BeaverCoin\", \"FindCoin\", \"VaultCoin\", \"Zero\", \"OpenChat\", \"Netko\", \"Zoin\", \"RenosCoin\", \"DubaiCoin\", \"VirtacoinPlus\", \"TajCoin\", \"Impact\", \"EB3coin\", \"Atmos\", \"HappyCoin\", \"Coinonat\", \"MacronCoin\", \"Condensate\", \"Independent Money System\", \"ArgusCoin\", \"LomoCoin\", \"ProCurrency\", \"GoldReserve\", \"BenjiRolls\", \"ParallelCoin\", \"GrowthCoin\", \"ILCOIN\", \"Phreak\", \"Degas Coin\", \"HTML5 Coin\", \"Ultimate Secure Cash\", \"EquiTrader\", \"Insane Coin\", \"Quantum Resistant Ledger\", \"Espers\", \"ChanCoin\", \"Dinastycoin\", \"DigitalPrice\", \"Virta Unique Coin\", \"Bitcoin Planet\", \"Unify\", \"BritCoin\", \"SocialCoin\", \"ArcticCoin\", \"DAS\", \"Metrix\", \"Reality Clash\", \"LeviarCoin\", \"DeepOnion\", \"Bitcore\", \"gCn Coin\", \"Signatum\", \"Onix\", \"Cream\", \"Bitcoin Cash\", \"Growers International\", \"Monoeci\", \"Draftcoin\", \"Sojourn Coin\", \"Stakecoin\", \"FrazCoin\", \"Kronecoin\", \"AdCoin\", \"Linx\", \"CoinonatX\", \"Ethereum Dark\", \"Sumokoin\", \"Obsidian\", \"Regalcoin\", \"BitcoinZ\", \"TrezarCoin\", \"ATC Coin\", \"Elements\", \"TerraNovaCoin\", \"VIVO Coin\", \"Red Pulse Phoenix\", \"Aureus\", \"Rupee\", \"WomenCoin\", \"Theresa May Coin\", \"NamoCoin\", \"LUXCoin\", \"Pirl\", \"Xios\", \"Bitcloud 2.0\", \"BlackholeCoin\", \"Pura\", \"Innova\", \"Zeph\", \"Ellaism\", \"MinexCoin\", \"Magnet\", \"Lamden Tau\", \"Electra\", \"Bitcoin Diamond\", \"SHIELD\", \"Cash & Back Coin\", \"UltraNote\", \"GlobalToken\", \"BitCoal\", \"DaxxCoin\", \"Bulwark\", \"Kalkulus\", \"AC3\", \"Lethean\", \"GermanCoin\", \"LiteCoin Ultra\", \"DeepBrain Chain\", \"PopularCoin\", \"Copico\", \"Photon\", \"Sucre\", \"SparksPay\", \"Digiwage\", \"GunCoin\", \"IrishCoin\", \"Bodhi Network\", \"Trollcoin\", \"Litecoin Plus\", \"Monkey Project\", \"Pioneer Coin\", \"UnitedBitcoin\", \"Interzone\", \"TokenPay\", \"1717 Masonic Commemorative Token\", \"THEKEY Token\", \"Dorado\", \"MUNcoin\", \"Unified Society USDEX\", \"Logarithm\", \"ShareChain\", \"KREDS\", \"Tokyo Coin\", \"BiblePay\", \"LitecoinCash\", \"BitFlip\", \"ALAX\", \"LottoCoin\", \"Crypto Improvement Fund\", \"Stipend\", \"Pushi\", \"Ellerium\", \"Callisto Network\", \"BitTube\", \"Poseidon\", \"ADAMANT Messenger\", \"Aidos Kuneen\", \"Bitspace\", \"Next.exchange Token\", \"Briacoin\", \"Ignition\", \"Bitrolium\", \"MedicCoin\", \"Alpenschillling\", \"BitGreen\", \"Deviant Coin\", \"Abjcoin\", \"Semux\", \"FuturoCoin\", \"Carebit\", \"Zealium\", \"Monero Classic\", \"Proton\", \"iDealCash\", \"Jumpcoin\", \"Bitcoin Incognito\", \"KEYCO\", \"HollyWoodCoin\", \"PlatinCoin\", \"Loki\", \"Newton Coin\", \"Reliance\", \"Xt3ch\", \"MassGrid\", \"TheVig\", \"PluraCoin\", \"EmaratCoin\", \"Dekado\", \"Lynx\", \"Poseidon Quark\", \"BitcoinWSpectrum\", \"Muse\", \"Motion\", \"PlusOneCoin\", \"Axe\", \"Trivechain\", \"Dystem\", \"Giant\", \"Absolute Coin\", \"Vitae\", \"TPCash\", \"Webchain\", \"Ryo\", \"Urals Coin\", \"Qwertycoin\", \"MMOCoin\", \"Ketan\", \"Project Pai\", \"XDNA\", \"PAXEX\", \"Aenco\", \"Zipper\", \"Kcash\", \"Xchange\", \"Acute Angle Cloud\", \"RoBet\", \"CrypticCoin\", \"Bettex coin\", \"DAPS Coin\", \"TigerCash\", \"HyperCash\", \"ABBC Coin\", \"BitMoney\", \"FREDEnergy\", \"Zenad\", \"HerbCoin\", \"URANIUMX\", \"Universal Molecule\", \"Lithium\", \"PirateCash\", \"Exosis\", \"Oduwa\", \"Beam\", \"BitTorrent\", \"Bithereum\", \"Stakinglab\", \"Crypto Sports\", \"Credit\", \"Atomic Wallet Coin\", \"Scribe Network\", \"SLICE\", \"Vollar\", \"REDi\", \"Nasdacoin\", \"Gexan\", \"Beetle Coin\", \"Titan Coin\", \"Pirate Chain\", \"BLAST\", \"Bitcoin Rhodium\", \"Monarch Token\", \"Foin\", \"Beldex\", \"eXPerience Chain\", \"BLOC.MONEY\", \"Nervos Network\", \"Lobstex\", \"SpectreSecurityCoin\", \"Bitcoin Turbo Koin\", \"VeChain Old\", \"Kahsh\", \"01coin\", \"YENTEN\", \"SCRIV\", \"PEPS Coin\", \"Neetcoin\", \"OMEGA\", \"Cranepay\", \"ZCore\", \"Always Evolving\", \"Dextro\", \"Graviocoin\", \"Rapids\", \"PENG\", \"X42 Protocol\", \"Wincash Coin\", \"MimbleWimbleCoin\", \"IQ.cash\", \"Rhypton Club\", \"Largo Coin\", \"DDKoin\", \"MegaCoin\", \"Gulden\", \"FeatherCoin\", \"Zcoin\", \"Horizen\", \"DigiByte\", \"Ontology\", \"Dash\", \"Ethereum Classic\", \"Buxcoin\", \"Binance Coin\", \"Bitcoin SV\", \"Infinity Economics\", \"QuarkCoin\", \"Expanse\", \"Aurora Coin\", \"Namecoin\", \"Einsteinium\", \"SibCoin\", \"Bitcoin Gold\", \"Groestlcoin\", \"DigitalNote \", \"ViaCoin\", \"IOCoin\", \"Metaverse\", \"Ravencoin\", \"ByteCoin\", \"BurstCoin\", \"Poa Network\", \"Bytom\", \"VeChain\", \"QTUM\", \"Vertcoin\", \"Nano\", \"Lisk\", \"Litecoin\", \"Decred\", \"Steem\", \"Bitshares\", \"Bitcoin\", \"Waves\", \"Cardano\"], \"legendgroup\": \"\", \"marker\": {\"color\": \"#636efa\", \"symbol\": \"circle\"}, \"mode\": \"markers\", \"name\": \"\", \"scene\": \"scene\", \"showlegend\": false, \"type\": \"scatter3d\"}],                        {\"legend\": {\"tracegroupgap\": 0}, \"margin\": {\"t\": 60}, \"scene\": {\"domain\": {\"x\": [0.0, 1.0], \"y\": [0.0, 1.0]}}, \"template\": {\"data\": {\"bar\": [{\"error_x\": {\"color\": \"#2a3f5f\"}, \"error_y\": {\"color\": \"#2a3f5f\"}, \"marker\": {\"line\": {\"color\": \"#E5ECF6\", \"width\": 0.5}}, \"type\": \"bar\"}], \"barpolar\": [{\"marker\": {\"line\": {\"color\": \"#E5ECF6\", \"width\": 0.5}}, \"type\": \"barpolar\"}], \"carpet\": [{\"aaxis\": {\"endlinecolor\": \"#2a3f5f\", \"gridcolor\": \"white\", \"linecolor\": \"white\", \"minorgridcolor\": \"white\", \"startlinecolor\": \"#2a3f5f\"}, \"baxis\": {\"endlinecolor\": \"#2a3f5f\", \"gridcolor\": \"white\", \"linecolor\": \"white\", \"minorgridcolor\": \"white\", \"startlinecolor\": \"#2a3f5f\"}, \"type\": \"carpet\"}], \"choropleth\": [{\"colorbar\": {\"outlinewidth\": 0, \"ticks\": \"\"}, \"type\": \"choropleth\"}], \"contour\": [{\"colorbar\": {\"outlinewidth\": 0, \"ticks\": \"\"}, \"colorscale\": [[0.0, \"#0d0887\"], [0.1111111111111111, \"#46039f\"], [0.2222222222222222, \"#7201a8\"], [0.3333333333333333, \"#9c179e\"], [0.4444444444444444, \"#bd3786\"], [0.5555555555555556, \"#d8576b\"], [0.6666666666666666, \"#ed7953\"], [0.7777777777777778, \"#fb9f3a\"], [0.8888888888888888, \"#fdca26\"], [1.0, \"#f0f921\"]], \"type\": \"contour\"}], \"contourcarpet\": [{\"colorbar\": {\"outlinewidth\": 0, \"ticks\": \"\"}, \"type\": \"contourcarpet\"}], \"heatmap\": [{\"colorbar\": {\"outlinewidth\": 0, \"ticks\": \"\"}, \"colorscale\": [[0.0, \"#0d0887\"], [0.1111111111111111, \"#46039f\"], [0.2222222222222222, \"#7201a8\"], [0.3333333333333333, \"#9c179e\"], [0.4444444444444444, \"#bd3786\"], [0.5555555555555556, \"#d8576b\"], [0.6666666666666666, \"#ed7953\"], [0.7777777777777778, \"#fb9f3a\"], [0.8888888888888888, \"#fdca26\"], [1.0, \"#f0f921\"]], \"type\": \"heatmap\"}], \"heatmapgl\": [{\"colorbar\": {\"outlinewidth\": 0, \"ticks\": \"\"}, \"colorscale\": [[0.0, \"#0d0887\"], [0.1111111111111111, \"#46039f\"], [0.2222222222222222, \"#7201a8\"], [0.3333333333333333, \"#9c179e\"], [0.4444444444444444, \"#bd3786\"], [0.5555555555555556, \"#d8576b\"], [0.6666666666666666, \"#ed7953\"], [0.7777777777777778, \"#fb9f3a\"], [0.8888888888888888, \"#fdca26\"], [1.0, \"#f0f921\"]], \"type\": \"heatmapgl\"}], \"histogram\": [{\"marker\": {\"colorbar\": {\"outlinewidth\": 0, \"ticks\": \"\"}}, \"type\": \"histogram\"}], \"histogram2d\": [{\"colorbar\": {\"outlinewidth\": 0, \"ticks\": \"\"}, \"colorscale\": [[0.0, \"#0d0887\"], [0.1111111111111111, \"#46039f\"], [0.2222222222222222, \"#7201a8\"], [0.3333333333333333, \"#9c179e\"], [0.4444444444444444, \"#bd3786\"], [0.5555555555555556, \"#d8576b\"], [0.6666666666666666, \"#ed7953\"], [0.7777777777777778, \"#fb9f3a\"], [0.8888888888888888, \"#fdca26\"], [1.0, \"#f0f921\"]], \"type\": \"histogram2d\"}], \"histogram2dcontour\": [{\"colorbar\": {\"outlinewidth\": 0, \"ticks\": \"\"}, \"colorscale\": [[0.0, \"#0d0887\"], [0.1111111111111111, \"#46039f\"], [0.2222222222222222, \"#7201a8\"], [0.3333333333333333, \"#9c179e\"], [0.4444444444444444, \"#bd3786\"], [0.5555555555555556, \"#d8576b\"], [0.6666666666666666, \"#ed7953\"], [0.7777777777777778, \"#fb9f3a\"], [0.8888888888888888, \"#fdca26\"], [1.0, \"#f0f921\"]], \"type\": \"histogram2dcontour\"}], \"mesh3d\": [{\"colorbar\": {\"outlinewidth\": 0, \"ticks\": \"\"}, \"type\": \"mesh3d\"}], \"parcoords\": [{\"line\": {\"colorbar\": {\"outlinewidth\": 0, \"ticks\": \"\"}}, \"type\": \"parcoords\"}], \"pie\": [{\"automargin\": true, \"type\": \"pie\"}], \"scatter\": [{\"marker\": {\"colorbar\": {\"outlinewidth\": 0, \"ticks\": \"\"}}, \"type\": \"scatter\"}], \"scatter3d\": [{\"line\": {\"colorbar\": {\"outlinewidth\": 0, \"ticks\": \"\"}}, \"marker\": {\"colorbar\": {\"outlinewidth\": 0, \"ticks\": \"\"}}, \"type\": \"scatter3d\"}], \"scattercarpet\": [{\"marker\": {\"colorbar\": {\"outlinewidth\": 0, \"ticks\": \"\"}}, \"type\": \"scattercarpet\"}], \"scattergeo\": [{\"marker\": {\"colorbar\": {\"outlinewidth\": 0, \"ticks\": \"\"}}, \"type\": \"scattergeo\"}], \"scattergl\": [{\"marker\": {\"colorbar\": {\"outlinewidth\": 0, \"ticks\": \"\"}}, \"type\": \"scattergl\"}], \"scattermapbox\": [{\"marker\": {\"colorbar\": {\"outlinewidth\": 0, \"ticks\": \"\"}}, \"type\": \"scattermapbox\"}], \"scatterpolar\": [{\"marker\": {\"colorbar\": {\"outlinewidth\": 0, \"ticks\": \"\"}}, \"type\": \"scatterpolar\"}], \"scatterpolargl\": [{\"marker\": {\"colorbar\": {\"outlinewidth\": 0, \"ticks\": \"\"}}, \"type\": \"scatterpolargl\"}], \"scatterternary\": [{\"marker\": {\"colorbar\": {\"outlinewidth\": 0, \"ticks\": \"\"}}, \"type\": \"scatterternary\"}], \"surface\": [{\"colorbar\": {\"outlinewidth\": 0, \"ticks\": \"\"}, \"colorscale\": [[0.0, \"#0d0887\"], [0.1111111111111111, \"#46039f\"], [0.2222222222222222, \"#7201a8\"], [0.3333333333333333, \"#9c179e\"], [0.4444444444444444, \"#bd3786\"], [0.5555555555555556, \"#d8576b\"], [0.6666666666666666, \"#ed7953\"], [0.7777777777777778, \"#fb9f3a\"], [0.8888888888888888, \"#fdca26\"], [1.0, \"#f0f921\"]], \"type\": \"surface\"}], \"table\": [{\"cells\": {\"fill\": {\"color\": \"#EBF0F8\"}, \"line\": {\"color\": \"white\"}}, \"header\": {\"fill\": {\"color\": \"#C8D4E3\"}, \"line\": {\"color\": \"white\"}}, \"type\": \"table\"}]}, \"layout\": {\"annotationdefaults\": {\"arrowcolor\": \"#2a3f5f\", \"arrowhead\": 0, \"arrowwidth\": 1}, \"coloraxis\": {\"colorbar\": {\"outlinewidth\": 0, \"ticks\": \"\"}}, \"colorscale\": {\"diverging\": [[0, \"#8e0152\"], [0.1, \"#c51b7d\"], [0.2, \"#de77ae\"], [0.3, \"#f1b6da\"], [0.4, \"#fde0ef\"], [0.5, \"#f7f7f7\"], [0.6, \"#e6f5d0\"], [0.7, \"#b8e186\"], [0.8, \"#7fbc41\"], [0.9, \"#4d9221\"], [1, \"#276419\"]], \"sequential\": [[0.0, \"#0d0887\"], [0.1111111111111111, \"#46039f\"], [0.2222222222222222, \"#7201a8\"], [0.3333333333333333, \"#9c179e\"], [0.4444444444444444, \"#bd3786\"], [0.5555555555555556, \"#d8576b\"], [0.6666666666666666, \"#ed7953\"], [0.7777777777777778, \"#fb9f3a\"], [0.8888888888888888, \"#fdca26\"], [1.0, \"#f0f921\"]], \"sequentialminus\": [[0.0, \"#0d0887\"], [0.1111111111111111, \"#46039f\"], [0.2222222222222222, \"#7201a8\"], [0.3333333333333333, \"#9c179e\"], [0.4444444444444444, \"#bd3786\"], [0.5555555555555556, \"#d8576b\"], [0.6666666666666666, \"#ed7953\"], [0.7777777777777778, \"#fb9f3a\"], [0.8888888888888888, \"#fdca26\"], [1.0, \"#f0f921\"]]}, \"colorway\": [\"#636efa\", \"#EF553B\", \"#00cc96\", \"#ab63fa\", \"#FFA15A\", \"#19d3f3\", \"#FF6692\", \"#B6E880\", \"#FF97FF\", \"#FECB52\"], \"font\": {\"color\": \"#2a3f5f\"}, \"geo\": {\"bgcolor\": \"white\", \"lakecolor\": \"white\", \"landcolor\": \"#E5ECF6\", \"showlakes\": true, \"showland\": true, \"subunitcolor\": \"white\"}, \"hoverlabel\": {\"align\": \"left\"}, \"hovermode\": \"closest\", \"mapbox\": {\"style\": \"light\"}, \"paper_bgcolor\": \"white\", \"plot_bgcolor\": \"#E5ECF6\", \"polar\": {\"angularaxis\": {\"gridcolor\": \"white\", \"linecolor\": \"white\", \"ticks\": \"\"}, \"bgcolor\": \"#E5ECF6\", \"radialaxis\": {\"gridcolor\": \"white\", \"linecolor\": \"white\", \"ticks\": \"\"}}, \"scene\": {\"xaxis\": {\"backgroundcolor\": \"#E5ECF6\", \"gridcolor\": \"white\", \"gridwidth\": 2, \"linecolor\": \"white\", \"showbackground\": true, \"ticks\": \"\", \"zerolinecolor\": \"white\"}, \"yaxis\": {\"backgroundcolor\": \"#E5ECF6\", \"gridcolor\": \"white\", \"gridwidth\": 2, \"linecolor\": \"white\", \"showbackground\": true, \"ticks\": \"\", \"zerolinecolor\": \"white\"}, \"zaxis\": {\"backgroundcolor\": \"#E5ECF6\", \"gridcolor\": \"white\", \"gridwidth\": 2, \"linecolor\": \"white\", \"showbackground\": true, \"ticks\": \"\", \"zerolinecolor\": \"white\"}}, \"shapedefaults\": {\"line\": {\"color\": \"#2a3f5f\"}}, \"ternary\": {\"aaxis\": {\"gridcolor\": \"white\", \"linecolor\": \"white\", \"ticks\": \"\"}, \"baxis\": {\"gridcolor\": \"white\", \"linecolor\": \"white\", \"ticks\": \"\"}, \"bgcolor\": \"#E5ECF6\", \"caxis\": {\"gridcolor\": \"white\", \"linecolor\": \"white\", \"ticks\": \"\"}}, \"title\": {\"x\": 0.05}, \"xaxis\": {\"automargin\": true, \"gridcolor\": \"white\", \"linecolor\": \"white\", \"ticks\": \"\", \"title\": {\"standoff\": 15}, \"zerolinecolor\": \"white\", \"zerolinewidth\": 2}, \"yaxis\": {\"automargin\": true, \"gridcolor\": \"white\", \"linecolor\": \"white\", \"ticks\": \"\", \"title\": {\"standoff\": 15}, \"zerolinecolor\": \"white\", \"zerolinewidth\": 2}}}},                        {\"responsive\": true}                    ).then(function(){\n",
       "                            \n",
       "var gd = document.getElementById('48658acd-2dea-464e-a47f-798030ab29dc');\n",
       "var x = new MutationObserver(function (mutations, observer) {{\n",
       "        var display = window.getComputedStyle(gd).display;\n",
       "        if (!display || display === 'none') {{\n",
       "            console.log([gd, 'removed!']);\n",
       "            Plotly.purge(gd);\n",
       "            observer.disconnect();\n",
       "        }}\n",
       "}});\n",
       "\n",
       "// Listen for the removal of the full notebook cells\n",
       "var notebookContainer = gd.closest('#notebook-container');\n",
       "if (notebookContainer) {{\n",
       "    x.observe(notebookContainer, {childList: true});\n",
       "}}\n",
       "\n",
       "// Listen for the clearing of the current output cell\n",
       "var outputEl = gd.closest('.output');\n",
       "if (outputEl) {{\n",
       "    x.observe(outputEl, {childList: true});\n",
       "}}\n",
       "\n",
       "                        })                };                });            </script>        </div>"
      ]
     },
     "metadata": {},
     "output_type": "display_data"
    }
   ],
   "source": [
    "# Create a 3D-Scatter with the PCA data and the clusters\n",
    "fig = px.scatter_3d(data_frame=clustered_df, hover_name=\"CoinName\", hover_data=['Algorithm'])\n",
    "fig.show()"
   ]
  },
  {
   "cell_type": "markdown",
   "metadata": {},
   "source": [
    "#### Table of Tradable Cryptocurrencies"
   ]
  },
  {
   "cell_type": "code",
   "execution_count": 122,
   "metadata": {},
   "outputs": [
    {
     "data": {},
     "metadata": {},
     "output_type": "display_data"
    },
    {
     "data": {
      "application/vnd.holoviews_exec.v0+json": "",
      "text/html": [
       "<div id='1408'>\n",
       "\n",
       "\n",
       "\n",
       "\n",
       "\n",
       "  <div class=\"bk-root\" id=\"5542afc3-5c8b-4289-b564-2a99aebd6d67\" data-root-id=\"1408\"></div>\n",
       "</div>\n",
       "<script type=\"application/javascript\">(function(root) {\n",
       "  function embed_document(root) {\n",
       "  var docs_json = {\"1786f6b3-2b33-4e7f-b39d-7f2422221f30\":{\"roots\":{\"references\":[{\"attributes\":{},\"id\":\"1417\",\"type\":\"StringFormatter\"},{\"attributes\":{\"margin\":[5,5,5,5],\"name\":\"HSpacer02293\",\"sizing_mode\":\"stretch_width\"},\"id\":\"1448\",\"type\":\"Spacer\"},{\"attributes\":{},\"id\":\"1427\",\"type\":\"StringFormatter\"},{\"attributes\":{\"margin\":[5,5,5,5],\"name\":\"HSpacer02292\",\"sizing_mode\":\"stretch_width\"},\"id\":\"1409\",\"type\":\"Spacer\"},{\"attributes\":{\"editor\":{\"id\":\"1438\"},\"field\":\"Class\",\"formatter\":{\"id\":\"1437\"},\"title\":\"Class\"},\"id\":\"1439\",\"type\":\"TableColumn\"},{\"attributes\":{},\"id\":\"1433\",\"type\":\"StringEditor\"},{\"attributes\":{},\"id\":\"1418\",\"type\":\"StringEditor\"},{\"attributes\":{},\"id\":\"1438\",\"type\":\"IntEditor\"},{\"attributes\":{},\"id\":\"1444\",\"type\":\"UnionRenderers\"},{\"attributes\":{\"editor\":{\"id\":\"1413\"},\"field\":\"CoinName\",\"formatter\":{\"id\":\"1412\"},\"title\":\"CoinName\"},\"id\":\"1414\",\"type\":\"TableColumn\"},{\"attributes\":{\"editor\":{\"id\":\"1418\"},\"field\":\"Algorithm\",\"formatter\":{\"id\":\"1417\"},\"title\":\"Algorithm\"},\"id\":\"1419\",\"type\":\"TableColumn\"},{\"attributes\":{},\"id\":\"1432\",\"type\":\"StringFormatter\"},{\"attributes\":{\"editor\":{\"id\":\"1428\"},\"field\":\"TotalCoinSupply\",\"formatter\":{\"id\":\"1427\"},\"title\":\"TotalCoinSupply\"},\"id\":\"1429\",\"type\":\"TableColumn\"},{\"attributes\":{\"source\":{\"id\":\"1410\"}},\"id\":\"1443\",\"type\":\"CDSView\"},{\"attributes\":{},\"id\":\"1413\",\"type\":\"StringEditor\"},{\"attributes\":{\"children\":[{\"id\":\"1409\"},{\"id\":\"1442\"},{\"id\":\"1448\"}],\"margin\":[0,0,0,0],\"name\":\"Row02288\",\"tags\":[\"embedded\"]},\"id\":\"1408\",\"type\":\"Row\"},{\"attributes\":{},\"id\":\"1428\",\"type\":\"StringEditor\"},{\"attributes\":{\"editor\":{\"id\":\"1423\"},\"field\":\"ProofType\",\"formatter\":{\"id\":\"1422\"},\"title\":\"ProofType\"},\"id\":\"1424\",\"type\":\"TableColumn\"},{\"attributes\":{\"columns\":[{\"id\":\"1414\"},{\"id\":\"1419\"},{\"id\":\"1424\"},{\"id\":\"1429\"},{\"id\":\"1434\"},{\"id\":\"1439\"}],\"height\":300,\"reorderable\":false,\"source\":{\"id\":\"1410\"},\"view\":{\"id\":\"1443\"},\"width\":700},\"id\":\"1442\",\"type\":\"DataTable\"},{\"attributes\":{},\"id\":\"1412\",\"type\":\"StringFormatter\"},{\"attributes\":{},\"id\":\"1423\",\"type\":\"StringEditor\"},{\"attributes\":{\"editor\":{\"id\":\"1433\"},\"field\":\"TotalCoinsMined\",\"formatter\":{\"id\":\"1432\"},\"title\":\"TotalCoinsMined\"},\"id\":\"1434\",\"type\":\"TableColumn\"},{\"attributes\":{},\"id\":\"1437\",\"type\":\"NumberFormatter\"},{\"attributes\":{},\"id\":\"1411\",\"type\":\"Selection\"},{\"attributes\":{\"data\":{\"Algorithm\":[\"Scrypt\",\"Scrypt\",\"X13\",\"PoS\",\"Equihash\",\"SHA-256\",\"SHA-256\",\"Scrypt\",\"X15\",\"SHA-256D\",\"Scrypt\",\"Multiple\",\"Scrypt\",\"SHA-256\",\"Scrypt\",\"Scrypt\",\"Groestl\",\"Scrypt\",\"Scrypt\",\"Scrypt\",\"Scrypt\",\"Scrypt\",\"X11\",\"Multiple\",\"SHA-256\",\"Scrypt\",\"Scrypt\",\"Scrypt\",\"Scrypt\",\"Scrypt\",\"Scrypt\",\"Scrypt\",\"Scrypt\",\"Scrypt\",\"SHA-256\",\"Scrypt\",\"Scrypt\",\"Scrypt\",\"SHA3\",\"HybridScryptHash256\",\"SHA-256\",\"Scrypt\",\"Scrypt\",\"Scrypt\",\"NeoScrypt\",\"Scrypt\",\"Scrypt\",\"Scrypt\",\"Scrypt\",\"Scrypt\",\"X11\",\"SHA-256\",\"Multiple\",\"SHA-256\",\"X11\",\"SHA-256\",\"SHA-256\",\"SHA-256\",\"Scrypt\",\"Scrypt\",\"Scrypt\",\"X11\",\"SHA-256\",\"Scrypt\",\"Counterparty\",\"Scrypt\",\"SHA-256\",\"Scrypt\",\"Scrypt\",\"Scrypt\",\"Scrypt\",\"X13\",\"Multiple\",\"Scrypt\",\"Scrypt\",\"X13\",\"Stanford Folding\",\"Scrypt\",\"X11\",\"NeoScrypt\",\"Scrypt\",\"NeoScrypt\",\"Blake\",\"Scrypt\",\"Scrypt\",\"SHA-256\",\"Scrypt\",\"X11\",\"Scrypt\",\"M7 POW\",\"Scrypt\",\"Scrypt\",\"SHA-256\",\"Scrypt\",\"SHA3\",\"Scrypt\",\"Scrypt\",\"X11\",\"Lyra2RE\",\"SHA-256\",\"QUAIT\",\"X11\",\"SHA-256\",\"X11\",\"Multiple\",\"Scrypt\",\"Scrypt\",\"Scrypt\",\"X11\",\"Scrypt\",\"Scrypt\",\"Scrypt\",\"X13\",\"X11\",\"Scrypt\",\"PoS\",\"SHA-256\",\"X15\",\"X11\",\"SHA-256\",\"Scrypt\",\"X11\",\"SHA-256\",\"Scrypt\",\"1GB AES Pattern Search\",\"SHA-256\",\"X11\",\"SHA-256\",\"Scrypt\",\"SHA-256\",\"Counterparty\",\"Scrypt\",\"Counterparty\",\"X11\",\"Scrypt\",\"Scrypt\",\"X11\",\"Dagger\",\"Scrypt\",\"X11\",\"Scrypt\",\"SHA-256\",\"Scrypt\",\"PoS\",\"Scrypt\",\"X11\",\"X11\",\"SHA-256\",\"NIST5\",\"Scrypt\",\"POS 3.0\",\"Scrypt\",\"Scrypt\",\"X13\",\"X11\",\"X11\",\"Equihash\",\"X11\",\"CryptoNight\",\"SHA-256\",\"SHA-256\",\"X11\",\"Scrypt\",\"Multiple\",\"Scrypt\",\"SHA-256\",\"Scrypt\",\"Scrypt\",\"SHA-256D\",\"PoS\",\"X11\",\"PoS\",\"X13\",\"X14\",\"PoS\",\"SHA-256D\",\"Ethash\",\"Equihash\",\"X11\",\"Scrypt\",\"X11\",\"X13\",\"X11\",\"PoS\",\"Scrypt\",\"Scrypt\",\"X11\",\"PoS\",\"X11\",\"SHA-256\",\"Scrypt\",\"X11\",\"Scrypt\",\"Scrypt\",\"X11\",\"CryptoNight\",\"Scrypt\",\"Scrypt\",\"Scrypt\",\"Scrypt\",\"QuBit\",\"Scrypt\",\"CryptoNight\",\"Lyra2RE\",\"Scrypt\",\"SHA-256\",\"X11\",\"Scrypt\",\"X11\",\"Scrypt\",\"CryptoNight-V7\",\"Scrypt\",\"Scrypt\",\"Scrypt\",\"X13\",\"X11\",\"Equihash\",\"Scrypt\",\"Blake\",\"Lyra2RE\",\"Scrypt\",\"Dagger-Hashimoto\",\"X11\",\"Blake2S\",\"X11\",\"Scrypt\",\"PoS\",\"X11\",\"NIST5\",\"PoS\",\"X11\",\"Scrypt\",\"Scrypt\",\"Scrypt\",\"SHA-256\",\"X11\",\"Scrypt\",\"Scrypt\",\"Scrypt\",\"SHA-256\",\"PoS\",\"Scrypt\",\"X15\",\"SHA-256\",\"Scrypt\",\"X11\",\"RandomX\",\"536\",\"Cloverhash\",\"CryptoNight\",\"X11\",\"NIST5\",\"Skein\",\"Scrypt\",\"X13\",\"Scrypt\",\"X11\",\"X11\",\"Scrypt\",\"Ethash\",\"CryptoNight\",\"X13\",\"Time Travel\",\"Scrypt\",\"SkunkHash v2 Raptor\",\"X11\",\"Skein\",\"SHA-256\",\"DPoS\",\"X11\",\"Scrypt\",\"Scrypt\",\"PoS\",\"Scrypt\",\"Scrypt\",\"Scrypt\",\"Scrypt\",\"X11\",\"Scrypt\",\"CryptoNight\",\"SHA-512\",\"X11\",\"Equihash\",\"NeoScrypt\",\"Scrypt\",\"X11\",\"Scrypt\",\"NeoScrypt\",\"NEP-5\",\"Scrypt\",\"Lyra2REv2\",\"Scrypt\",\"SHA-256\",\"NIST5\",\"PHI1612\",\"Dagger\",\"Scrypt\",\"Quark\",\"Scrypt\",\"X11\",\"NeoScrypt\",\"SHA-256\",\"Ethash\",\"Mars\",\"X11\",\"DPoS\",\"NIST5\",\"X13\",\"Multiple\",\"Scrypt\",\"CryptoNight\",\"SHA-256\",\"CryptoNight\",\"Ethash\",\"NIST5\",\"Quark\",\"X11\",\"CryptoNight-V7\",\"Scrypt\",\"Scrypt\",\"NEP-5\",\"Scrypt\",\"PoS\",\"BLAKE256\",\"X11\",\"NeoScrypt\",\"Quark\",\"NeoScrypt\",\"Scrypt\",\"QRC20 Token\",\"Scrypt\",\"Scrypt\",\"X11\",\"X11\",\"SHA-256\",\"C11\",\"POS 3.0\",\"Ethash\",\"NeoScrypt\",\"Ethash\",\"SkunkHash\",\"Scrypt\",\"Ethash\",\"Scrypt\",\"Lyra2REv2\",\"X13\",\"Proof-of-BibleHash\",\"SHA-256 + Hive\",\"Scrypt\",\"DPoS\",\"Scrypt\",\"X11\",\"C11\",\"X11\",\"XEVAN\",\"Ethash\",\"CryptoNight\",\"Scrypt\",\"DPoS\",\"IMesh\",\"NIST5\",\"SHA-256\",\"Scrypt\",\"Scrypt\",\"Equihash\",\"Scrypt\",\"Lyra2Z\",\"Green Protocol\",\"PoS\",\"Scrypt\",\"Semux BFT consensus\",\"X11\",\"Quark\",\"PoS\",\"CryptoNight\",\"X16R\",\"Scrypt\",\"NIST5\",\"XEVAN\",\"Tribus\",\"Scrypt\",\"CryptoNight\",\"CryptoNight-Heavy\",\"CryptoNight\",\"X11\",\"Scrypt\",\"Jump Consistent Hash\",\"SHA-256D\",\"CryptoNight\",\"Scrypt\",\"X15\",\"Scrypt\",\"Quark\",\"SHA-256\",\"DPoS\",\"X16R\",\"HMQ1725\",\"X11\",\"X16R\",\"Quark\",\"Quark\",\"Lyra2REv2\",\"Quark\",\"Scrypt\",\"CryptoNight-V7\",\"Cryptonight-GPU\",\"XEVAN\",\"CryptoNight Heavy\",\"Scrypt\",\"PoS\",\"SHA-256\",\"HEX\",\"X11\",\"Ethash\",\"DPoS\",\"SHA-512\",\"X16R\",\"ECC 256K1\",\"Keccak\",\"Equihash\",\"XEVAN\",\"Dagger\",\"SHA-256\",\"BLAKE256\",\"X13\",\"XEVAN\",\"CryptoNight\",\"Quark\",\"Quark\",\"Argon2d\",\"Blake\",\"Blake\",\"Equihash\",\"Exosis\",\"Scrypt\",\"Equihash\",\"TRC10\",\"Equihash\",\"Quark\",\"Quark\",\"Scrypt\",\"ERC20 + BEP-2\",\"Lyra2REv2\",\"QuBit\",\"Equihash+Scrypt\",\"SHA-256\",\"Scrypt\",\"PHI2\",\"XEVAN\",\"SHA-256D\",\"Equihash\",\"SHA-256\",\"X13\",\"Ethash\",\"SHA-256\",\"CryptoNight\",\"SHA-256\",\"Cryptonight Haven\",\"Eaglesong\",\"Quark\",\"C11\",\"Quark\",\"VeChainThor Authority\",\"SHA-256\",\"NeoScrypt\",\"YespowerR16\",\"Tribus\",\"Quark\",\"Scrypt\",\"X11\",\"YespowerR16\",\"Quark\",\"Scrypt\",\"SkunkHash v2 Raptor\",\"Scrypt\",\"Quark\",\"X11\",\"X13\",\"SHA-256\",\"C31\",\"NeoScrypt\",\"X11\",\"SHA-256\",\"Ed25519\",\"Scrypt\",\"Scrypt\",\"NeoScrypt\",\"Lyra2Z\",\"Equihash\",\"Multiple\",\"VBFT\",\"X11\",\"Ethash\",\"Scrypt\",\"BEP2 BNB\",\"SHA-256\",\"SHA-256\",\"Quark\",\"Ethash\",\"Scrypt\",\"SHA-256\",\"Scrypt\",\"X11GOST\",\"Equihash\",\"Groestl\",\"BMW512 / Echo512\",\"Scrypt\",\"X11\",\"Ethash\",\"X16R\",\"CryptoNight\",\"Shabal256\",\"Proof-of-Authority\",\"Tensority\",\"VeChainThor Authority\",\"POS 3.0\",\"Lyra2REv2\",\"Blake2b\",\"DPoS\",\"Scrypt\",\"BLAKE256\",\"PoS\",\"SHA-512\",\"SHA-256\",\"Leased POS\",\"Ouroboros\"],\"Class\":{\"__ndarray__\":\"AAAAAAAAAAAEAAAAAAAAAAUAAAAAAAAAAAAAAAUAAAAAAAAAAAAAAAUAAAAFAAAABAAAAAUAAAAFAAAABQAAAAUAAAAFAAAAAAAAAAUAAAAAAAAABQAAAAUAAAAFAAAABQAAAAUAAAAFAAAABQAAAAUAAAAFAAAABQAAAAUAAAAAAAAABAAAAAUAAAAFAAAABQAAAAUAAAAAAAAABQAAAAAAAAAAAAAABQAAAAUAAAAAAAAAAAAAAAAAAAAFAAAABQAAAAUAAAAAAAAABQAAAAAAAAAFAAAAAAAAAAUAAAAFAAAABQAAAAAAAAAAAAAABQAAAAAAAAAFAAAAAAAAAAAAAAAFAAAAAAAAAAUAAAAFAAAAAAAAAAUAAAAAAAAABQAAAAUAAAAAAAAAAAAAAAUAAAAFAAAAAAAAAAUAAAAAAAAAAAAAAAUAAAAFAAAAAAAAAAAAAAAAAAAAAAAAAAUAAAAFAAAAAAAAAAUAAAAFAAAABQAAAAAAAAAFAAAAAAAAAAUAAAAFAAAABQAAAAAAAAAFAAAAAAAAAAAAAAAAAAAAAAAAAAUAAAAFAAAAAAAAAAUAAAAAAAAAAAAAAAAAAAAAAAAAAAAAAAAAAAAAAAAAAAAAAAUAAAAFAAAABQAAAAAAAAAAAAAABQAAAAUAAAAAAAAAAAAAAAAAAAAAAAAABQAAAAAAAAAAAAAAAAAAAAAAAAAAAAAAAAAAAAUAAAAFAAAABQAAAAAAAAAAAAAAAAAAAAAAAAAAAAAABQAAAAUAAAAAAAAAAAAAAAAAAAAFAAAAAAAAAAAAAAAAAAAAAAAAAAUAAAAAAAAABQAAAAAAAAAFAAAAAAAAAAUAAAAAAAAAAAAAAAUAAAAFAAAABQAAAAUAAAAFAAAAAAAAAAAAAAAAAAAAAAAAAAAAAAAAAAAAAAAAAAAAAAAFAAAABQAAAAAAAAAFAAAABQAAAAAAAAAAAAAAAAAAAAAAAAAAAAAABQAAAAAAAAAAAAAAAAAAAAAAAAAAAAAAAAAAAAAAAAAAAAAABQAAAAAAAAAAAAAAAAAAAAAAAAAAAAAABQAAAAUAAAAFAAAAAAAAAAAAAAAAAAAAAAAAAAAAAAAAAAAABQAAAAAAAAAFAAAABQAAAAAAAAAFAAAABQAAAAAAAAAAAAAABQAAAAAAAAAFAAAAAAAAAAAAAAAAAAAABQAAAAAAAAAAAAAABQAAAAAAAAAAAAAAAAAAAAAAAAAAAAAAAAAAAAAAAAAFAAAABQAAAAAAAAAFAAAAAAAAAAAAAAAAAAAAAAAAAAUAAAAAAAAABQAAAAAAAAAFAAAABQAAAAUAAAAAAAAAAAAAAAUAAAAAAAAABQAAAAUAAAAFAAAAAAAAAAUAAAAFAAAAAAAAAAUAAAAEAAAAAAAAAAUAAAAAAAAABQAAAAAAAAAAAAAAAAAAAAUAAAAAAAAABQAAAAUAAAAFAAAABQAAAAAAAAAAAAAABQAAAAAAAAAAAAAABQAAAAAAAAAFAAAABQAAAAAAAAAFAAAAAAAAAAAAAAAAAAAAAAAAAAAAAAAAAAAAAAAAAAUAAAAAAAAAAAAAAAAAAAAFAAAABQAAAAQAAAAFAAAAAAAAAAAAAAAEAAAAAAAAAAAAAAAFAAAAAAAAAAUAAAAFAAAABQAAAAUAAAAAAAAAAAAAAAUAAAAFAAAAAAAAAAAAAAAAAAAABQAAAAAAAAAFAAAABQAAAAUAAAAAAAAABQAAAAUAAAAAAAAAAAAAAAAAAAAAAAAABQAAAAUAAAAFAAAAAAAAAAAAAAAAAAAAAAAAAAUAAAAAAAAAAAAAAAUAAAAFAAAAAAAAAAMAAAACAAAABQAAAAQAAAAFAAAABQAAAAAAAAAAAAAAAAAAAAUAAAAFAAAABQAAAAQAAAAFAAAAAAAAAAAAAAAAAAAAAAAAAAUAAAAAAAAABQAAAAAAAAAAAAAAAAAAAAQAAAAFAAAAAAAAAAAAAAAFAAAAAAAAAAAAAAAFAAAAAAAAAAUAAAAAAAAABQAAAAUAAAAEAAAAAAAAAAAAAAAFAAAAAAAAAAUAAAAAAAAAAAAAAAQAAAAAAAAAAAAAAAAAAAAFAAAABQAAAAUAAAAAAAAAAAAAAAAAAAAAAAAAAAAAAAAAAAAFAAAABQAAAAUAAAAEAAAAAAAAAAAAAAAFAAAAAAAAAAAAAAAAAAAABAAAAAAAAAAFAAAAAwAAAAAAAAAFAAAAAAAAAAUAAAAAAAAAAAAAAAAAAAAFAAAABQAAAAAAAAAAAAAAAAAAAAUAAAAFAAAAAAAAAAUAAAAAAAAABQAAAAEAAAAFAAAAAAAAAAAAAAAAAAAAAAAAAAUAAAAFAAAABQAAAAAAAAAAAAAAAAAAAAAAAAAAAAAABQAAAAUAAAAFAAAAAAAAAAAAAAAFAAAABAAAAAUAAAAFAAAAAAAAAAAAAAAAAAAAAwAAAAAAAAAAAAAABQAAAAAAAAAFAAAAAAAAAAAAAAAAAAAAAAAAAAAAAAAAAAAABQAAAAAAAAAAAAAAAAAAAAAAAAAFAAAAAAAAAAUAAAAAAAAABAAAAAUAAAAFAAAABQAAAAUAAAAFAAAABQAAAAAAAAAAAAAABQAAAAAAAAADAAAABQAAAAAAAAAFAAAABQAAAAAAAAAFAAAABQAAAAUAAAAFAAAABQAAAAAAAAAFAAAAAAAAAAAAAAAAAAAABAAAAAAAAAACAAAABQAAAAMAAAAAAAAABQAAAAUAAAAEAAAABQAAAAAAAAAFAAAAAAAAAAUAAAAAAAAAAAAAAA==\",\"dtype\":\"int32\",\"order\":\"little\",\"shape\":[526]},\"CoinName\":[\"42 Coin\",\"404Coin\",\"EliteCoin\",\"Nxt\",\"ZCash\",\"BitcoinDark\",\"PayCoin\",\"ProsperCoin\",\"KoboCoin\",\"PetroDollar\",\"Argentum\",\"MyriadCoin\",\"MoonCoin\",\"ZetaCoin\",\"SexCoin\",\"Quatloo\",\"Riecoin\",\"Digitalcoin \",\"BitBar\",\"Catcoin\",\"CryptoBullion\",\"CannaCoin\",\"CryptCoin\",\"Verge\",\"DevCoin\",\"EarthCoin\",\"E-Gulden\",\"Emerald\",\"Franko\",\"GrandCoin\",\"GlobalCoin\",\"GoldCoin\",\"HoboNickels\",\"Infinite Coin\",\"IXcoin\",\"KrugerCoin\",\"LuckyCoin\",\"Litebar \",\"MaxCoin\",\"MediterraneanCoin\",\"MazaCoin\",\"Nautilus Coin\",\"NobleCoin\",\"NyanCoin\",\"Orbitcoin\",\"PotCoin\",\"PhoenixCoin\",\"RonPaulCoin\",\"StableCoin\",\"SmartCoin\",\"SyncCoin\",\"SysCoin\",\"TeslaCoin\",\"TigerCoin\",\"TorCoin\",\"TerraCoin\",\"UnbreakableCoin\",\"Unobtanium\",\"UnitaryStatus Dollar\",\"UltraCoin\",\"WorldCoin\",\"X11 Coin\",\"JouleCoin\",\"ZCC Coin\",\"StorjCoin\",\"MonaCoin\",\"Neutron\",\"PesetaCoin\",\"Wild Beast Coin\",\"Dnotes\",\"Flo\",\"Sativa Coin\",\"JoinCoin\",\"ArtByte\",\"LiteDoge\",\"Triangles Coin\",\"Folding Coin\",\"SolarCoin\",\"Ucoin\",\"UFO Coin\",\"OrangeCoin\",\"FriendshipCoin\",\"BlakeCoin\",\"OmniCron\",\"BitstarCoin\",\"NeosCoin\",\"Vtorrent\",\"PinkCoin\",\"GreenCoin\",\"Cryptonite\",\"BitcoinPlus\",\"MasterCoin\",\"SoonCoin\",\"1Credit\",\"Nexus\",\"Crypto Escudo\",\"AudioCoin\",\"MarsCoin \",\"Crypto\",\"Anarchists Prime\",\"Droidz\",\"BowsCoin\",\"IncaKoin\",\"Piggy Coin\",\"Crown Coin\",\"Genstake\",\"Song Coin\",\"SmileyCoin\",\"UnCoin\",\"BitZeny\",\"Diggits\",\"XiaoMiCoin\",\"Paycon\",\"CapriCoin\",\" ClubCoin\",\"Radium\",\"Emercoin\",\"EverGreenCoin\",\"MindCoin\",\"I0coin\",\"Pakcoin\",\"Creditbit \",\"OKCash\",\"Revolution VR\",\"HOdlcoin\",\"EDRCoin\",\"Hitcoin\",\"DubaiCoin\",\"HiCoin\",\"CarpeDiemCoin\",\"BitCrystals\",\"BillaryCoin\",\"Scotcoin\",\"Influxcoin\",\"SoulCoin\",\"GPU Coin\",\"Adzcoin\",\"SoilCoin\",\"YoCoin\",\"EuropeCoin\",\"ZeitCoin\",\"SwingCoin\",\"SafeExchangeCoin\",\"Nebuchadnezzar\",\"Francs\",\"BolivarCoin\",\"Ratecoin\",\"Clockcoin\",\"VIP Tokens\",\"Omni\",\"Let it Ride\",\"iBankCoin\",\"Frankywillcoin\",\"MudraCoin\",\"PizzaCoin\",\"Lutetium Coin\",\"Komodo\",\"GoldBlocks\",\"Karbo\",\"BitTokens\",\"ZayedCoin\",\"MustangCoin\",\"ZoneCoin\",\"Circuits of Value\",\"DopeCoin\",\"DollarCoin\",\"Swiscoin\",\"Shilling\",\"BuzzCoin\",\"Opair\",\"Halloween Coin\",\"CoffeeCoin\",\"RoyalCoin\",\"GanjaCoin V2\",\"TeamUP\",\"LanaCoin\",\"Elementrem\",\"ZClassic\",\"InsaneCoin\",\"KiloCoin\",\"ArtexCoin\",\"EmberCoin\",\"XenixCoin\",\"FreeCoin\",\"PLNCoin\",\"AquariusCoin\",\"Kurrent\",\"Creatio\",\"Eternity\",\"Eurocoin\",\"BitcoinFast\",\"Stakenet\",\"BitConnect Coin\",\"MoneyCoin\",\"Enigma\",\"Cannabis Industry Coin\",\"Russiacoin\",\"PandaCoin\",\"GameUnits\",\"GAKHcoin\",\"LiteCreed\",\"OsmiumCoin\",\"Bikercoins\",\"HexxCoin\",\"Klingon Empire Darsek\",\"Internet of People\",\"KushCoin\",\"Printerium\",\"PAC Global\",\"Impeach\",\"Citadel\",\"Zilbercoin\",\"FirstCoin\",\"BeaverCoin\",\"FindCoin\",\"VaultCoin\",\"Zero\",\"OpenChat\",\"Netko\",\"Zoin\",\"RenosCoin\",\"DubaiCoin\",\"VirtacoinPlus\",\"TajCoin\",\"Impact\",\"EB3coin\",\"Atmos\",\"HappyCoin\",\"Coinonat\",\"MacronCoin\",\"Condensate\",\"Independent Money System\",\"ArgusCoin\",\"LomoCoin\",\"ProCurrency\",\"GoldReserve\",\"BenjiRolls\",\"ParallelCoin\",\"GrowthCoin\",\"ILCOIN\",\"Phreak\",\"Degas Coin\",\"HTML5 Coin\",\"Ultimate Secure Cash\",\"EquiTrader\",\"Insane Coin\",\"Quantum Resistant Ledger\",\"Espers\",\"ChanCoin\",\"Dinastycoin\",\"DigitalPrice\",\"Virta Unique Coin\",\"Bitcoin Planet\",\"Unify\",\"BritCoin\",\"SocialCoin\",\"ArcticCoin\",\"DAS\",\"Metrix\",\"Reality Clash\",\"LeviarCoin\",\"DeepOnion\",\"Bitcore\",\"gCn Coin\",\"Signatum\",\"Onix\",\"Cream\",\"Bitcoin Cash\",\"Growers International\",\"Monoeci\",\"Draftcoin\",\"Sojourn Coin\",\"Stakecoin\",\"FrazCoin\",\"Kronecoin\",\"AdCoin\",\"Linx\",\"CoinonatX\",\"Ethereum Dark\",\"Sumokoin\",\"Obsidian\",\"Regalcoin\",\"BitcoinZ\",\"TrezarCoin\",\"ATC Coin\",\"Elements\",\"TerraNovaCoin\",\"VIVO Coin\",\"Red Pulse Phoenix\",\"Aureus\",\"Rupee\",\"WomenCoin\",\"Theresa May Coin\",\"NamoCoin\",\"LUXCoin\",\"Pirl\",\"Xios\",\"Bitcloud 2.0\",\"BlackholeCoin\",\"Pura\",\"Innova\",\"Zeph\",\"Ellaism\",\"MinexCoin\",\"Magnet\",\"Lamden Tau\",\"Electra\",\"Bitcoin Diamond\",\"SHIELD\",\"Cash & Back Coin\",\"UltraNote\",\"GlobalToken\",\"BitCoal\",\"DaxxCoin\",\"Bulwark\",\"Kalkulus\",\"AC3\",\"Lethean\",\"GermanCoin\",\"LiteCoin Ultra\",\"DeepBrain Chain\",\"PopularCoin\",\"Copico\",\"Photon\",\"Sucre\",\"SparksPay\",\"Digiwage\",\"GunCoin\",\"IrishCoin\",\"Bodhi Network\",\"Trollcoin\",\"Litecoin Plus\",\"Monkey Project\",\"Pioneer Coin\",\"UnitedBitcoin\",\"Interzone\",\"TokenPay\",\"1717 Masonic Commemorative Token\",\"THEKEY Token\",\"Dorado\",\"MUNcoin\",\"Unified Society USDEX\",\"Logarithm\",\"ShareChain\",\"KREDS\",\"Tokyo Coin\",\"BiblePay\",\"LitecoinCash\",\"BitFlip\",\"ALAX\",\"LottoCoin\",\"Crypto Improvement Fund\",\"Stipend\",\"Pushi\",\"Ellerium\",\"Callisto Network\",\"BitTube\",\"Poseidon\",\"ADAMANT Messenger\",\"Aidos Kuneen\",\"Bitspace\",\"Next.exchange Token\",\"Briacoin\",\"Ignition\",\"Bitrolium\",\"MedicCoin\",\"Alpenschillling\",\"BitGreen\",\"Deviant Coin\",\"Abjcoin\",\"Semux\",\"FuturoCoin\",\"Carebit\",\"Zealium\",\"Monero Classic\",\"Proton\",\"iDealCash\",\"Jumpcoin\",\"Bitcoin Incognito\",\"KEYCO\",\"HollyWoodCoin\",\"PlatinCoin\",\"Loki\",\"Newton Coin\",\"Reliance\",\"Xt3ch\",\"MassGrid\",\"TheVig\",\"PluraCoin\",\"EmaratCoin\",\"Dekado\",\"Lynx\",\"Poseidon Quark\",\"BitcoinWSpectrum\",\"Muse\",\"Motion\",\"PlusOneCoin\",\"Axe\",\"Trivechain\",\"Dystem\",\"Giant\",\"Absolute Coin\",\"Vitae\",\"TPCash\",\"Webchain\",\"Ryo\",\"Urals Coin\",\"Qwertycoin\",\"MMOCoin\",\"Ketan\",\"Project Pai\",\"XDNA\",\"PAXEX\",\"Aenco\",\"Zipper\",\"Kcash\",\"Xchange\",\"Acute Angle Cloud\",\"RoBet\",\"CrypticCoin\",\"Bettex coin\",\"DAPS Coin\",\"TigerCash\",\"HyperCash\",\"ABBC Coin\",\"BitMoney\",\"FREDEnergy\",\"Zenad\",\"HerbCoin\",\"URANIUMX\",\"Universal Molecule\",\"Lithium\",\"PirateCash\",\"Exosis\",\"Oduwa\",\"Beam\",\"BitTorrent\",\"Bithereum\",\"Stakinglab\",\"Crypto Sports\",\"Credit\",\"Atomic Wallet Coin\",\"Scribe Network\",\"SLICE\",\"Vollar\",\"REDi\",\"Nasdacoin\",\"Gexan\",\"Beetle Coin\",\"Titan Coin\",\"Pirate Chain\",\"BLAST\",\"Bitcoin Rhodium\",\"Monarch Token\",\"Foin\",\"Beldex\",\"eXPerience Chain\",\"BLOC.MONEY\",\"Nervos Network\",\"Lobstex\",\"SpectreSecurityCoin\",\"Bitcoin Turbo Koin\",\"VeChain Old\",\"Kahsh\",\"01coin\",\"YENTEN\",\"SCRIV\",\"PEPS Coin\",\"Neetcoin\",\"OMEGA\",\"Cranepay\",\"ZCore\",\"Always Evolving\",\"Dextro\",\"Graviocoin\",\"Rapids\",\"PENG\",\"X42 Protocol\",\"Wincash Coin\",\"MimbleWimbleCoin\",\"IQ.cash\",\"Rhypton Club\",\"Largo Coin\",\"DDKoin\",\"MegaCoin\",\"Gulden\",\"FeatherCoin\",\"Zcoin\",\"Horizen\",\"DigiByte\",\"Ontology\",\"Dash\",\"Ethereum Classic\",\"Buxcoin\",\"Binance Coin\",\"Bitcoin SV\",\"Infinity Economics\",\"QuarkCoin\",\"Expanse\",\"Aurora Coin\",\"Namecoin\",\"Einsteinium\",\"SibCoin\",\"Bitcoin Gold\",\"Groestlcoin\",\"DigitalNote \",\"ViaCoin\",\"IOCoin\",\"Metaverse\",\"Ravencoin\",\"ByteCoin\",\"BurstCoin\",\"Poa Network\",\"Bytom\",\"VeChain\",\"QTUM\",\"Vertcoin\",\"Nano\",\"Lisk\",\"Litecoin\",\"Decred\",\"Steem\",\"Bitshares\",\"Bitcoin\",\"Waves\",\"Cardano\"],\"ProofType\":[\"PoW/PoS\",\"PoW/PoS\",\"PoW/PoS\",\"PoS/LPoS\",\"PoW\",\"PoW/PoS\",\"PoS\",\"PoW\",\"PoW/PoS\",\"N/A\",\"PoW\",\"PoW\",\"PoW\",\"PoW\",\"PoW\",\"PoW\",\"PoW\",\"PoW\",\"PoW/PoS\",\"PoW\",\"PoW/PoS\",\"PoW\",\"PoW\",\"PoW\",\"PoW\",\"PoW\",\"PoW\",\"PoW\",\"PoW\",\"PoW\",\"PoW\",\"PoW\",\"PoW/PoS\",\"PoW\",\"PoW\",\"PoW\",\"PoW\",\"PoW\",\"PoW/PoS\",\"PoW\",\"PoW/PoS\",\"PoS\",\"PoW\",\"PoW\",\"PoW/PoS\",\"PoW/PoS\",\"PoW/PoS\",\"PoW\",\"PoW\",\"PoW\",\"PoW/PoS\",\"PoW\",\"PoS\",\"PoW\",\"PoW/PoS\",\"PoW\",\"PoW\",\"PoW\",\"PoW/PoS\",\"PoW/PoS\",\"PoW\",\"PoW/PoS\",\"PoW\",\"PoW/PoS\",\"PoS\",\"PoW\",\"PoW/PoS\",\"PoW\",\"PoW\",\"PoS\",\"PoW\",\"PoW/PoS\",\"PoW\",\"PoW\",\"PoW/PoS\",\"PoW/PoS\",\"PoW\",\"PoW\",\"PoS\",\"PoW\",\"PoW/PoS\",\"PoW/PoS\",\"PoW\",\"PoW\",\"PoW/PoS\",\"PoS\",\"PoW/PoS\",\"PoW/PoS\",\"PoW\",\"PoW\",\"PoS\",\"PoW\",\"PoW\",\"PoW\",\"PoW/nPoS\",\"PoW\",\"PoW/PoS\",\"PoW\",\"PoW\",\"PoW\",\"PoW/PoS\",\"PoW\",\"PoW/PoS\",\"PoW/PoS\",\"PoS\",\"PoW/PoS\",\"PoW\",\"PoW\",\"N/A\",\"PoW\",\"PoS\",\"PoW/PoS\",\"PoW/PoS\",\"PoW/PoS\",\"PoW/PoS\",\"PoS\",\"PoW/PoS\",\"PoW/PoS\",\"PoW\",\"PoW\",\"PoW\",\"Proof of Trust\",\"PoW/PoS\",\"PoW\",\"PoW\",\"PoW/PoS\",\"PoW/PoS\",\"PoW/PoS\",\"PoS\",\"PoW\",\"N/A\",\"PoW/PoS\",\"N/A\",\"PoW/PoS\",\"PoW/PoS\",\"PoS\",\"PoW\",\"PoW\",\"PoW\",\"PoW/PoS\",\"PoS\",\"PoW/PoS\",\"PoC\",\"PoS\",\"PoW\",\"PoW\",\"PoW/PoS\",\"PoW/PoS\",\"PoW/PoS\",\"PoW\",\"PoS\",\"PoW/PoS\",\"PoW/PoS\",\"PoS\",\"PoW\",\"PoS\",\"dPoW/PoW\",\"PoW/PoS\",\"PoW\",\"PoW/PoS\",\"PoW\",\"PoW/PoS\",\"PoW/PoS\",\"PoW\",\"PoW\",\"PoW\",\"PoW/PoW\",\"PoW\",\"PoW/PoS\",\"PoS\",\"PoW/PoS\",\"PoS\",\"PoS\",\"PoW/PoS\",\"PoS\",\"PoW/PoS\",\"PoW\",\"PoW\",\"PoW/PoS\",\"PoW\",\"PoW\",\"PoW/PoS\",\"PoW/PoS\",\"PoS\",\"PoW/PoS\",\"PoW/PoS\",\"PoW\",\"PoS\",\"PoW/PoS\",\"PoW/PoS\",\"PoW/PoS\",\"TPoS\",\"PoW/PoS\",\"PoW/PoS\",\"PoW/PoS\",\"PoW\",\"PoW/PoS\",\"PoS\",\"PoW/PoS\",\"PoW/PoS\",\"PoW/PoS\",\"PoW\",\"PoW\",\"PoW\",\"PoW/PoS\",\"PoW/PoS\",\"PoW/PoS\",\"PoW/PoS\",\"PoS\",\"PoW/PoS\",\"PoW\",\"PoS\",\"PoW/PoS \",\"PoW\",\"PoS\",\"PoW\",\"PoW\",\"PoW/PoS\",\"N/A\",\"PoW\",\"PoS\",\"PoW\",\"PoW/PoS\",\"PoW/PoS\",\"PoW/PoS\",\"PoW\",\"PoS\",\"PoW/PoS\",\"PoW\",\"PoS\",\"PoW/PoS\",\"PoW/PoS\",\"PoW/PoS\",\"PoW/PoS\",\"PoS\",\"PoW/PoS\",\"PoW\",\"PoW\",\"PoS\",\"PoW\",\"PoS\",\"PoW/PoS\",\"PoW/PoS\",\"PoS\",\"PoW\",\"PoW/PoS\",\"PoW\",\"PoW/PoS\",\"PoW\",\"PoW\",\"PoW\",\"PoW/PoS\",\"PoW/PoS\",\"PoW\",\"PoW/PoS\",\"PoW\",\"PoW\",\"PoW\",\"PoS\",\"PoW\",\"PoW\",\"PoW/PoS\",\"PoW\",\"PoW\",\"PoS\",\"PoW\",\"PoW/PoS\",\"PoW\",\"N/A\",\"PoW/PoS\",\"PoS\",\"PoW\",\"PoS\",\"PoW\",\"PoW\",\"PoW\",\"PoW\",\"PoW/PoS\",\"PoW/PoS\",\"PoW\",\"PoS\",\"PoW/PoS\",\"PoW\",\"PoW/PoS\",\"PoW\",\"PoW\",\"PoW/PoS\",\"PoW\",\"N/A\",\"N/A\",\"PoS\",\"PoW/PoS\",\"PoW/PoS\",\"PoW/PoS\",\"PoW/PoS\",\"PoW\",\"PoW/PoS\",\"PoW/PoS\",\"PoW/PoS\",\"PoW\",\"PoW\",\"DPoS\",\"PoW\",\"N/A\",\"PoW/PoS\",\"DPoS\",\"PoW/PoS\",\"PoW/PoS\",\"PoW\",\"PoW/PoS\",\"PoW\",\"PoW\",\"PoW\",\"PoW\",\"PoS\",\"PoS\",\"PoW\",\"PoW\",\"PoW/PoS\",\"PoW/PoS\",\"N/A\",\"PoW\",\"N/A\",\"PoW\",\"PoW\",\"PoW\",\"PoS\",\"PoW\",\"PoW\",\"N/A\",\"PoW/PoS\",\"PoW/PoS\",\"PoS\",\"PoW\",\"PoW\",\"PoW\",\"PoS\",\"PoS\",\"N/A\",\"N/A\",\"PoW\",\"PoW/PoS\",\"N/A\",\"PoW\",\"PoW\",\"PoS\",\"POBh\",\"PoW + Hive\",\"PoW\",\"DPoS\",\"PoW\",\"PoW\",\"PoW/PoS\",\"PoW/PoS\",\"PoW/PoS\",\"PoW\",\"PoW\",\"PoW\",\"DPoS\",\"PoW\",\"PoW/PoS\",\"PoS/PoW\",\"PoW/PoS\",\"PoW/PoS\",\"PoW\",\"PoS\",\"PoW\",\"PoS\",\"PoS\",\"PoW/PoS\",\"DPoS\",\"PoW\",\"PoW/PoS\",\"PoS\",\"PoW\",\"PoS\",\"PoW/PoS\",\"PoW\",\"PoS/PoW\",\"PoW\",\"PoS\",\"PoW\",\"PoW\",\"PoW\",\"PoS\",\"PoS\",\"PoW\",\"PoW/PoS\",\"PoW\",\"PoW/PoS\",\"PoS\",\"HPoW\",\"PoS\",\"PoS\",\"PoS\",\"PoW\",\"PoW\",\"PoW\",\"PoW/PoS\",\"PoS\",\"PoW/PoS\",\"PoW/PoS\",\"PoS\",\"PoW/PoS\",\"PoW\",\"PoW\",\"PoW\",\"PoW\",\"PoS\",\"PoS\",\"PoW\",\"PoW/PoS\",\"PoS\",\"N/A\",\"N/A\",\"Zero-Knowledge Proof\",\"PoW\",\"DPOS\",\"N/A\",\"PoW\",\"PoS\",\" PoW/PoS/PoA\",\"PoS\",\"PoW/PoS\",\"N/A\",\"Pos\",\"PoW\",\"POS / MN\",\"PoW/PoS\",\"N/A\",\"PoW\",\"PoW\",\"PoS\",\"PoW\",\"PoW/PoS\",\"PoW\",\"DPoS\",\"PoW\",\"N/A\",\"PoS\",\"PoW/PoS\",\"N/A\",\"PoW\",\"PoW\",\"PoW\",\"N/A\",\"PoW/PoS\",\"PoW/PoS\",\"PoW/PoS\",\"PoW/PoS\",\"PoW\",\"PoW\",\"PoW\",\"N/A\",\"N/A\",\"PoW\",\"N/A\",\"PoW\",\"PoW\",\"PoS\",\"N/A\",\"PoS\",\"Proof of Authority\",\"PoS\",\"N/A\",\"PoW\",\"N/A\",\"PoW\",\"PoW/PoS\",\"N/A\",\"N/A\",\"PoS\",\"PoW/PoS\",\"PoS\",\"PoW\",\"PoS\",\"PoS\",\"PoS\",\"PoW/PoS\",\"PoW\",\"N/A\",\"PoW\",\"N/A\",\"DPoS\",\"PoW\",\"PoW\",\"PoW\",\"PoW\",\"PoW\",\"PoW\",\"PoS\",\"PoW/PoS\",\"PoW\",\"PoW/PoS\",\"PoSA\",\"PoW\",\"PoS\",\"PoW\",\"PoW\",\"PoW/PoS\",\"PoW\",\"PoW\",\"PoW\",\"PoW\",\"PoW\",\"PoW/PoS\",\"PoW\",\"PoW/PoS\",\"N/A\",\"N/A\",\"PoW\",\"PoC\",\"PoA\",\"PoW\",\"Proof of Authority\",\"PoS\",\"PoW\",\"PoW\",\"DPoS\",\"PoW\",\"PoW/PoS\",\"PoW\",\"PoS\",\"PoW\",\"LPoS\",\"PoS\"],\"TotalCoinSupply\":[\"42\",\"532000000\",\"314159265359\",\"1000000000\",\"21000000\",\"22000000\",\"12500000\",\"21000000\",\"350000000\",\"122107462\",\"64000000\",\"2000000000\",\"384000000000\",\"169795588\",\"250000000\",\"100000000\",\"84000000\",\"48166000\",\"500000\",\"21000000 \",\"1000000\",\"13140000\",\"18000000\",\"16555000000\",\"21000000000\",\"13500000000\",\"21000000 \",\"32000000\",\"11235813\",\"1420609614\",\"70000000\",\"72245700\",\"120000000\",\"90600000000\",\"21000000\",\"265420800\",\"20000000\",\"1350000\",\"100000000\",\"200000000\",\"2419200000\",\"16180000\",\"15000000000\",\"337000000\",\"3770000\",\"420000000\",\"98000000\",\"21000000\",\"250000000\",\"51200000\",\"1000\",\"888000000\",\"100000000\",\"47011968\",\"10000000\",\"42000000\",\"80000000\",\"250000\",\"1600000000\",\"100000000\",\"265420800\",\"5500000\",\"45000000\",\"1000000000\",\"500000000\",\"105120000\",\"68000000\",\"166386000\",\"2628000\",\"500000000\",\"160000000\",\"10000000\",\"2800000\",\"1000000000\",\"35000000000\",\"120000\",\"1000000000\",\"98100000000\",\"20000000\",\"4000000000\",\"200000000\",\"60168145\",\"7000000000\",\"3371337\",\"54256119\",\"21000000\",\"20000000\",\"500000000\",\"10000000000\",\"1840000000\",\"1000000\",\"619478\",\"21000000\",\"92000000000\",\"78000000\",\"1000000000\",\"10500000000\",\"33000000\",\"65789100\",\"53760000\",\"5060000\",\"21000000\",\"190000000\",\"1000000000\",\"42000000\",\"15000000\",\"210240000\",\"50000000000\",\"144000000000\",\"250000000\",\"100000000\",\"400000000\",\"50000000\",\"208000000\",\"160000000\",\"9000000\",\"1000000000\",\"26298000\",\"16000000\",\"21000000\",\"182000000\",\"16504333\",\"105000000\",\"210000000\",\"81962100\",\"22000000\",\"26550000000\",\"10500000\",\"10008835635\",\"21626280000 \",\"100000000\",\"42000000\",\"1000000000\",\"12000000\",\"1400000000\",\"221052632\",\"84000000\",\"30000000\",\"168351300\",\"384000000\",\" 99000000000\",\"40000000\",\"2147483647\",\"20000000\",\"20000000\",\"25000000\",\"75000000\",\"525000000\",\"90000000\",\"616448\",\"33500000\",\"44333333\",\"100000000\",\"200000000\",\"25000000\",\"657000000\",\"200000000\",\"50000000\",\"10000000\",\"21000000\",\"9736000\",\"3000000\",\"21000000\",\"1200000000\",\"200000000\",\"10638298\",\"3100000000\",\"30000000\",\"20000000000\",\"74000000\",\"1500000000\",\"39999898\",\"2500124\",\"100000000\",\"301000000\",\"7506000000\",\"26205539\",\"21000000\",\"30000000\",\"10000000000\",\"500000000\",\"850000000\",\"3853326.77707314\",\"50000000\",\"38540000 \",\"42000000\",\"228000000\",\"20000000\",\"60000000\",\"20000000\",\"33000000\",\"76500000\",\"28000000\",\"650659833\",\"5000000\",\"21000000\",\"144000000\",\"32514916898\",\"13000000\",\"3315789\",\"78835200\",\"2714286\",\"25000000\",\"9999999\",\"500000000\",\"21000000\",\"9354000\",\"20000000\",\"100000000000\",\"21933333\",\"185000000\",\"55000000\",\"110000000\",\"3360000\",\"14524851.4827\",\"1000000000\",\"17000000\",\"1000000000\",\"25534140\",\"21000000\",\"34426423\",\"2232901\",\"100000000\",\"36900000\",\"110000000\",\"4000000000\",\"110290030\",\"100000000\",\"48252000\",\"400000000\",\"500000000\",\"21212121\",\"28600000\",\"1000000000\",\"75000000000\",\"40000000\",\"35520400\",\"1000000\",\"2000000000\",\"2500000000\",\"30000000\",\"105000000\",\"90000000000\",\"200084200\",\"72000000\",\"30000000\",\"105000000\",\"50000000000\",\"30000000\",\"2000000000\",\"100000000\",\"120000000\",\"100000000\",\"19276800\",\"30000000\",\" 75000000\",\"60000000\",\"18900000\",\"50000000000\",\"24487944\",\"54000000\",\"18898187.6216583\",\"21000000\",\"200000000000\",\"137500000\",\"1100000000\",\"100000000\",\"21000000\",\"1000420\",\"9507271\",\"17405891.19707116\",\"10500000000\",\"61599965\",\"20000000\",\"84000000\",\"100000000\",\"100000000\",\"48252000\",\"4200000\",\"88888888\",\"91388946\",\"27000000\",\"21000000000\",\"400000000\",\"410000000\",\"1800000000\",\"15733333\",\"27000000\",\"1358371250\",\"21000000\",\"24000000\",\"90000000000\",\"100000000\",\"1200000000\",\"60000000\",\"156306732.71\",\"21000000\",\"200000000\",\"14788275.991\",\"350000000\",\"45000000\",\"2000000000\",\"280000000\",\"19000000\",\"144000000\",\"500000000\",\"30000000000\",\"210000000\",\"660000000\",\"210000000\",\"85000000000\",\"168000000\",\"12500000\",\"10000000000\",\"27716121\",\"20000000\",\"550000000\",\"999481516\",\"50000000000\",\"150000000\",\"10000000000\",\"4999999999\",\"122500000\",\" 90000000000\",\"19800000\",\"21000000\",\"120000000\",\"500000000\",\"64000000\",\"100000000\",\"900000000\",\"4000000\",\"21000000\",\"23000000\",\"20166000\",\"23000000\",\"25000000\",\"1618033\",\"10000000000\",\"510000000\",\"16600000\",\"232000000\",\" 66666670\",\"10000000000\",\"1100000000\",\"800000000\",\"5200000000\",\"840000000\",\"40000000\",\"1000000000\",\"18406979840\",\"500000000\",\"19340594\",\"25000000\",\"60000000\",\"6500000000\",\"1000000000\",\"21000000\",\"200000000\",\"25000000\",\"50000000\",\"120000000\",\"3000000\",\"5000000\",\"70000000\",\"500000000\",\"300000000\",\"21000000\",\"88000000\",\"30000000\",\"100000000\",\"100000000\",\"200000000\",\"80000000\",\"18400000\",\"45000000\",\"5121951220\",\"21000000\",\"21000000\",\"18000000\",\"26000000\",\"600000518\",\"150000000\",\"184000000000\",\"62000000\",\"44000000\",\"168000000\",\"100000000\",\"1000000000\",\"84000000\",\"90000000\",\"92000000000\",\"650000000 \",\"100262205\",\"18081806 \",\"22075700\",\"21000000\",\"21000000\",\"82546564\",\"21000000\",\"5151000\",\"52500000\",\"100000000\",\"1000000000\",\"1750000000\",\"88188888\",\"210000000\",\"184470000000\",\"260000000\",\"210000000\",\"2100000000\",\"21000000\",\"100000000\",\"4000000000\",\"100000000000\",\"1000000000\",\"100000000\",\"1000000000\",\"102102102\",\"7600000000\",\"50000000\",\"70000000000\",\"1000000000\",\"84000000\",\"1500000000\",\"70000000000\",\"8080000000\",\"46000000\",\"54000000\",\"235000\",\"105120001.44\",\"25228800\",\"105000000\",\"21000000\",\"21000000\",\"262800000\",\"990000000000\",\"30886000\",\"21000000\",\"13370000\",\"74800000000\",\"100000000\",\"32700000\",\"100000000\",\"2100000000\",\"10000000000\",\"84000000\",\"21000000\",\"500000000\",\"5000000000\",\"200000000\",\"64000000\",\"2100000\",\"1000000000\",\"100000000\",\"1400222610\",\"113215461333\",\"50000000\",\"25200000000\",\"78600000\",\"500000000\",\"21461354\",\"86712634466\",\"1000000000\",\"66000000\",\"84000000\",\"150000000\",\"75000000\",\"2100000000\",\"33000000\",\"84000000\",\"18000000\",\"425000000\",\"25000000\",\"2000000000\",\"35000000000\",\"16000000000\",\"42000000\",\"20000000\",\"20000000\",\"56900000\",\"2100000000\",\"200000000\",\"45000000\",\"42000000\",\"1680000000\",\"336000000\",\"21400000\",\"21000000\",\"21000000000\",\"1000000000\",\"22000000\",\"210000000\",\"500000000\",\"189175490\",\"21000000\",\"9000000000\",\"247000000\",\"16906397\",\"16768584\",\"21000000\",\"299792458\",\"24000000\",\"21000000\",\"105000000\",\"6999999982\",\"23000000\",\"22000000\",\"100000000\",\"21000000000\",\"184467440735\",\"2158812800\",\"252460800\",\"1407000000\",\"86712634466\",\"100000000\",\"84000000\",\"340282367\",\"159918400\",\"84000000\",\"21000000\",\"99692126\",\"3600570502\",\"21000000\",\"100000000\",\"45000000000\"],\"TotalCoinsMined\":{\"__ndarray__\":\"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\",\"dtype\":\"float64\",\"order\":\"little\",\"shape\":[526]}},\"selected\":{\"id\":\"1411\"},\"selection_policy\":{\"id\":\"1444\"}},\"id\":\"1410\",\"type\":\"ColumnDataSource\"},{\"attributes\":{},\"id\":\"1422\",\"type\":\"StringFormatter\"}],\"root_ids\":[\"1408\"]},\"title\":\"Bokeh Application\",\"version\":\"2.2.2\"}};\n",
       "  var render_items = [{\"docid\":\"1786f6b3-2b33-4e7f-b39d-7f2422221f30\",\"root_ids\":[\"1408\"],\"roots\":{\"1408\":\"5542afc3-5c8b-4289-b564-2a99aebd6d67\"}}];\n",
       "  root.Bokeh.embed.embed_items_notebook(docs_json, render_items);\n",
       "  }\n",
       "if (root.Bokeh !== undefined) {\n",
       "    embed_document(root);\n",
       "  } else {\n",
       "    var attempts = 0;\n",
       "    var timer = setInterval(function(root) {\n",
       "      if (root.Bokeh !== undefined) {\n",
       "        clearInterval(timer);\n",
       "        embed_document(root);\n",
       "      } else if (document.readyState == \"complete\") {\n",
       "        attempts++;\n",
       "        if (attempts > 100) {\n",
       "          clearInterval(timer);\n",
       "          console.log(\"Bokeh: ERROR: Unable to run BokehJS code because BokehJS library is missing\");\n",
       "        }\n",
       "      }\n",
       "    }, 10, root)\n",
       "  }\n",
       "})(window);</script>"
      ],
      "text/plain": [
       ":Table   [CoinName,Algorithm,ProofType,TotalCoinSupply,TotalCoinsMined,Class]"
      ]
     },
     "execution_count": 122,
     "metadata": {
      "application/vnd.holoviews_exec.v0+json": {
       "id": "1408"
      }
     },
     "output_type": "execute_result"
    }
   ],
   "source": [
    "# Table with tradable cryptos\n",
    "clustered_df.hvplot.table(columns=['CoinName','Algorithm','ProofType','TotalCoinSupply','TotalCoinsMined','Class'])"
   ]
  },
  {
   "cell_type": "code",
   "execution_count": 123,
   "metadata": {},
   "outputs": [
    {
     "name": "stdout",
     "output_type": "stream",
     "text": [
      "526\n"
     ]
    }
   ],
   "source": [
    "# Print the total number of tradable cryptocurrencies\n",
    "print(len(clustered_df[\"CoinName\"]))"
   ]
  },
  {
   "cell_type": "markdown",
   "metadata": {},
   "source": [
    "#### Scatter Plot with Tradable Cryptocurrencies"
   ]
  },
  {
   "cell_type": "code",
   "execution_count": 131,
   "metadata": {},
   "outputs": [],
   "source": [
    "# Scale data to create the scatter plot\n",
    "scaled_coin_obj = StandardScaler().fit_transform(clustered_df[[\"TotalCoinSupply\",\"TotalCoinsMined\"]])"
   ]
  },
  {
   "cell_type": "code",
   "execution_count": 132,
   "metadata": {},
   "outputs": [],
   "source": [
    "scaled_coin_df = pd.DataFrame(data=scaled_coin_obj, columns=[\"TotalCoinsMined\",\"TotalCoinSupply\"])"
   ]
  },
  {
   "cell_type": "code",
   "execution_count": 133,
   "metadata": {},
   "outputs": [
    {
     "data": {
      "application/vnd.plotly.v1+json": {
       "config": {
        "plotlyServerURL": "https://plot.ly"
       },
       "data": [
        {
         "hovertemplate": "TotalCoinsMined=%{x}<br>TotalCoinSupply=%{y}<extra></extra>",
         "legendgroup": "",
         "marker": {
          "color": "#636efa",
          "symbol": "circle"
         },
         "mode": "markers",
         "name": "",
         "orientation": "v",
         "showlegend": false,
         "type": "scatter",
         "x": [
          -0.18231769393595906,
          -0.17237914111447505,
          5.686646026379993,
          -0.16363620297977974,
          -0.18192538339402486,
          -0.18190670190228406,
          -0.18208417607382169,
          -0.18192538339402486,
          -0.17577917261130102,
          -0.18003654517773843,
          -0.18112207924917037,
          -0.14495471123897777,
          6.991375133747376,
          -0.1791456598457351,
          -0.17764732178538123,
          -0.1804495455465015,
          -0.18074844941435433,
          -0.18141788198939424,
          -0.18230835397471132,
          -0.18192538339402486,
          -0.1822990132288409,
          -0.18207221991910758,
          -0.1819814278692473,
          0.126954401048395,
          0.2099936318362598,
          0.06988244378024498,
          -0.18192538339402486,
          -0.18171988698487604,
          -0.182107792972821,
          -0.1557785879497368,
          -0.18100999029872558,
          -0.18096803727272326,
          -0.18007591571168546,
          1.5102254569960774,
          -0.18192538339402486,
          -0.17735923823754465,
          -0.18194406488576567,
          -0.18229247470673163,
          -0.1804495455465015,
          -0.17858139637242132,
          -0.13712342990123358,
          -0.18201542818421554,
          0.09790468139144794,
          -0.17602203200393143,
          -0.18224726549671888,
          -0.17447146818944487,
          -0.18048690852998311,
          -0.18192538339402486,
          -0.17764732178538123,
          -0.18136120234345265,
          -0.18231767603908997,
          -0.16572853005474955,
          -0.1804495455465015,
          -0.18143944102867085,
          -0.1821308798031737,
          -0.18153307206746802,
          -0.18082317538131756,
          -0.1823130243476465,
          -0.15242730793529854,
          -0.1804495455465015,
          -0.17735923823754465,
          -0.1822149465160073,
          -0.18147702759224563,
          -0.16363620297977974,
          -0.17297694885018072,
          -0.18035389630878862,
          -0.18104735328220717,
          -0.17920935603579663,
          -0.1822685997602869,
          -0.17297694885018072,
          -0.1793286560420534,
          -0.1821308798031737,
          -0.18226538654370747,
          -0.16363620297977974,
          0.4715345162074875,
          -0.1823154529415728,
          -0.16363620297977974,
          1.6503366450520922,
          -0.18194406488576567,
          -0.1075917277573738,
          -0.17858139637242132,
          -0.18119366401670484,
          -0.05154725253496787,
          -0.18225471311626074,
          -0.18130410948159523,
          -0.18192538339402486,
          -0.18194406488576567,
          -0.17297694885018072,
          0.004497222687438058,
          -0.14794374991750608,
          -0.1822990132288409,
          -0.1823061219474411,
          -0.18192538339402486,
          1.5363795454332,
          -0.18086053836479915,
          -0.16363620297977974,
          0.013837968557839047,
          -0.18170120549313523,
          -0.18108865619229692,
          -0.1813133777245962,
          -0.18222316637237326,
          -0.18192538339402486,
          -0.17876821128982934,
          -0.16363620297977974,
          -0.18153307206746802,
          -0.18203747234446968,
          -0.1783900978969955,
          0.7517568923195171,
          2.507817115954903,
          -0.17764732178538123,
          -0.1804495455465015,
          -0.17484509802426093,
          -0.18138362013354162,
          -0.1784319444384949,
          -0.1793286560420534,
          -0.1821495612949145,
          -0.16363620297977974,
          -0.1818264088507821,
          -0.18201879085272887,
          -0.18192538339402486,
          -0.17891766322375574,
          -0.18200936915995478,
          -0.1803561380877975,
          -0.1783945814550133,
          -0.18078652042637292,
          -0.18190670190228406,
          0.31367591099771075,
          -0.1821215390573033,
          0.004662285529715299,
          0.22169347648368926,
          -0.1804495455465015,
          -0.18153307206746802,
          -0.16363620297977974,
          -0.18209351681969208,
          -0.15616360628345893,
          -0.17818810180159117,
          -0.18074844941435433,
          -0.18175724996835765,
          -0.17917264130007843,
          -0.17514400189211374,
          1.667149987618814,
          -0.18157043505094964,
          -0.1421994967056439,
          -0.18194406488576567,
          -0.18194406488576567,
          -0.18185065742706166,
          -0.18091658284002157,
          -0.17250991155666068,
          -0.18063636046390955,
          -0.1823061785523611,
          -0.18169186474726484,
          -0.1814894819263,
          -0.1804495455465015,
          -0.17858139637242132,
          -0.18185065742706166,
          -0.1700439546468748,
          -0.17858139637242132,
          -0.18138362013354162,
          -0.1821308798031737,
          -0.18192538339402486,
          -0.18213581171699325,
          -0.1822616502453593,
          -0.18192538339402486,
          -0.15989990463161935,
          -0.17858139637242132,
          -0.18211895544435852,
          -0.12440507032409558,
          -0.18175724996835765,
          0.19131214009545783,
          -0.18093526433176235,
          -0.15429545710937875,
          -0.1815704369564618,
          -0.18227098867472472,
          -0.1804495455465015,
          -0.1766945657066003,
          -0.04209441771412207,
          -0.18182813616018995,
          -0.18192538339402486,
          -0.18175724996835765,
          0.004497222687438058,
          -0.17297694885018072,
          -0.16643842674090004,
          -0.18224570882822122,
          -0.18138362013354162,
          -0.1815977100288912,
          -0.18153307206746802,
          -0.17805831460367885,
          -0.18194406488576567,
          -0.1811968052161336,
          -0.18194406488576567,
          -0.18170120549313523,
          -0.18088856060241035,
          -0.18179461295183924,
          -0.17016239842432063,
          -0.1822242872618777,
          -0.18192538339402486,
          -0.17962755990990623,
          0.42510945676226797,
          -0.1820748353279513,
          -0.18225575083576398,
          -0.18084493558289724,
          -0.18226698780909054,
          -0.18185065742706166,
          -0.1821308798218552,
          -0.17297694885018072,
          -0.18192538339402486,
          -0.18214294804683825,
          -0.18194406488576567,
          1.685831479359616,
          -0.18190794734129395,
          -0.17886161874853335,
          -0.1812902126748376,
          -0.18026273062909348,
          -0.18225492490833262,
          -0.18204634882757126,
          -0.16363620297977974,
          -0.18200010936098807,
          -0.16363620297977974,
          -0.18184067889506322,
          -0.18192538339402486,
          -0.18167455778364186,
          -0.18227598079899218,
          -0.1804495455465015,
          -0.1816283476753461,
          -0.18026273062909348,
          -0.1075917277573738,
          -0.1802573124360439,
          -0.1804495455465015,
          -0.18141627538110452,
          -0.17484509802426093,
          -0.17297694885018072,
          -0.1819214206573153,
          -0.18178340405679477,
          -0.16363620297977974,
          1.2187941858395666,
          -0.18157043505094964,
          -0.18165412066135173,
          -0.1822990132288409,
          -0.14495471123897777,
          -0.13561396536857676,
          -0.18175724996835765,
          -0.1803561380877975,
          1.4990165619515963,
          -0.17857982339081674,
          -0.18097262731524397,
          -0.18175724996835765,
          -0.1803561380877975,
          0.7517568923195171,
          -0.18175724996835765,
          -0.14495471123897777,
          -0.1804495455465015,
          -0.18007591571168546,
          -0.1804495455465015,
          -0.18195757534059262,
          -0.18175724996835765,
          -0.18091658284002157,
          -0.1811968052161336,
          -0.18196461452668056,
          0.7517568923195171,
          -0.18186022339699648,
          -0.18130889416657842,
          -0.18196464838461157,
          -0.18192538339402486,
          3.5539806534398135,
          -0.17974898960622143,
          -0.16176805380569953,
          -0.1804495455465015,
          -0.18192538339402486,
          -0.18229900538261437,
          -0.18214008471591764,
          -0.18199252670794233,
          0.013837968557839047,
          -0.18116691548320052,
          -0.18194406488576567,
          -0.18074844941435433,
          -0.1804495455465015,
          -0.1804495455465015,
          -0.18141627538110452,
          -0.18223923245527035,
          -0.18065711769356063,
          -0.1806104128806821,
          -0.18181329444358005,
          0.2099936318362598,
          -0.17484509802426093,
          -0.1746582831068529,
          -0.14869100958713816,
          -0.18202377259008692,
          -0.18181329444358005,
          -0.15694129343276386,
          -0.18192538339402486,
          -0.18186933891880247,
          1.4990165619515963,
          -0.1804495455465015,
          -0.15989990463161935,
          -0.1811968052161336,
          -0.17939765178442812,
          -0.18192538339402486,
          -0.17858139637242132,
          -0.18204142766479517,
          -0.17577917261130102,
          -0.18147702759224563,
          -0.14495471123897777,
          -0.17708687703315715,
          -0.18196274637750648,
          -0.17962755990990623,
          -0.17297694885018072,
          0.37812705750347764,
          -0.1783945814550133,
          -0.1699879101716524,
          -0.1783945814550133,
          1.4056091032475864,
          -0.179179204108127,
          -0.18208417607382169,
          0.004497222687438058,
          -0.18179991623503314,
          -0.18194406488576567,
          -0.17204287426314063,
          -0.16364588903434346,
          0.7517568923195171,
          -0.1795154709594614,
          0.004497222687438058,
          -0.08891023603525332,
          -0.18002921198233346,
          1.4990165619515963,
          -0.18194780118411383,
          -0.18192538339402486,
          -0.18007591571168546,
          -0.17297694885018072,
          -0.18112207924917037,
          -0.1804495455465015,
          -0.16550435215385992,
          -0.1822429687536185,
          -0.18192538339402486,
          -0.18188802041054328,
          -0.1819409637581367,
          -0.18188802041054328,
          -0.18185065742706166,
          -0.18228746745045588,
          0.004497222687438058,
          -0.1727901339327727,
          -0.1820075819576844,
          -0.17798358863671565,
          -0.18107226187558995,
          0.004497222687438058,
          -0.16176805380569953,
          -0.16737250132794013,
          -0.08517393766841143,
          -0.16662524165830805,
          -0.18157043505094964,
          -0.16363620297977974,
          0.16155214713348678,
          -0.17297694885018072,
          -0.18195638357350852,
          -0.18185065742706166,
          -0.1811968052161336,
          -0.06088799840536886,
          -0.16363620297977974,
          -0.18192538339402486,
          -0.17858139637242132,
          -0.18185065742706166,
          -0.18138362013354162,
          -0.18007591571168546,
          -0.1822616502453593,
          -0.1822242872618777,
          -0.18100999029872558,
          -0.17297694885018072,
          -0.1767132471983411,
          -0.18192538339402486,
          -0.18067372344739113,
          -0.18175724996835765,
          -0.1804495455465015,
          -0.1804495455465015,
          -0.17858139637242132,
          -0.18082317538131756,
          -0.18197395527255095,
          -0.18147702759224563,
          -0.0866320053073611,
          -0.18192538339402486,
          -0.18192538339402486,
          -0.1819814278692473,
          -0.18183197593532086,
          -0.1711087899990878,
          -0.1795154709594614,
          3.255076785586982,
          -0.18115944223265198,
          -0.18149570908398643,
          -0.179179204108127,
          -0.1804495455465015,
          -0.16363620297977974,
          -0.18074844941435433,
          -0.18063636046390955,
          1.5363795454332,
          -0.17017472508906042,
          -0.18044464716595962,
          -0.18197989961113392,
          -0.1819052877133593,
          -0.18192538339402486,
          -0.18192538339402486,
          -0.18077560176698412,
          -0.18192538339402486,
          -0.18222146635662484,
          -0.1813369164041896,
          -0.1804495455465015,
          -0.16363620297977974,
          -0.14962508417417825,
          -0.1806701947377792,
          -0.1783945814550133,
          3.263857086705159,
          -0.17746050686797318,
          -0.1783945814550133,
          -0.14308656206489756,
          -0.18192538339402486,
          -0.1804495455465015,
          -0.1075917277573738,
          1.685831479359616,
          -0.16363620297977974,
          -0.1804495455465015,
          -0.16363620297977974,
          -0.18041027514535019,
          -0.040338357490486684,
          -0.18138362013354162,
          1.1253867271355567,
          -0.16363620297977974,
          -0.18074844941435433,
          -0.15429545710937875,
          1.1253867271355567,
          -0.031371241454901735,
          -0.18145834610050482,
          -0.18130889416657842,
          -0.18231330457002262,
          -0.18035389628188725,
          -0.18184638310175136,
          -0.1803561380877975,
          -0.18192538339402486,
          -0.18192538339402486,
          -0.17740819869109895,
          18.312359128673375,
          -0.1817406981666753,
          -0.18192538339402486,
          -0.18206792317600717,
          1.2150578874914062,
          -0.1804495455465015,
          -0.1817068099406575,
          -0.1804495455465015,
          -0.14308656206489756,
          0.004497222687438058,
          -0.18074844941435433,
          -0.18192538339402486,
          -0.17297694885018072,
          -0.08891023601657183,
          -0.17858139637242132,
          -0.18112207924917037,
          -0.18227846358792602,
          -0.16363620297977974,
          -0.1804495455465015,
          -0.1561594475965825,
          1.9327160111029433,
          -0.18138362013354162,
          0.2884558971476281,
          -0.18084932946975468,
          -0.17297694885018072,
          -0.1819167646130843,
          1.437603669879178,
          -0.16363620297977974,
          -0.18108471626568878,
          -0.18074844941435433,
          -0.1795154709594614,
          -0.18091658284002157,
          -0.14308656206489756,
          -0.18170120549313523,
          -0.18074844941435433,
          -0.1819814278692473,
          -0.17437806073074086,
          -0.18185065742706166,
          -0.14495471123897777,
          0.4715345162074875,
          0.11658617313224992,
          -0.18153307206746802,
          -0.18194406488576567,
          -0.18194406488576567,
          -0.18125471784053007,
          -0.14308656206489756,
          -0.17858139637242132,
          -0.18147702759224563,
          -0.18153307206746802,
          -0.1509327885960344,
          -0.17604071349567224,
          -0.18191791079732855,
          -0.18192538339402486,
          0.2099936318362598,
          -0.16363620297977974,
          -0.18190670190228406,
          -0.1783945814550133,
          -0.17297694885018072,
          -0.17878361436658455,
          -0.18192538339402486,
          -0.014184269053363919,
          -0.17770336626060362,
          -0.18200185800465948,
          -0.18200443255708076,
          -0.18192538339402486,
          -0.17671712439249998,
          -0.18186933891880247,
          -0.18192538339402486,
          -0.1803561380877975,
          -0.051547252871234725,
          -0.18188802041054328,
          -0.18190670190228406,
          -0.1804495455465015,
          0.2099936318362598,
          3.263809275817199,
          -0.14198785122744412,
          -0.17760135037050545,
          -0.15603283584127334,
          1.437603669879178,
          -0.1804495455465015,
          -0.18074844941435433,
          -0.17596071249193065,
          -0.17933018045177945,
          -0.18074844941435433,
          -0.18192538339402486,
          -0.1804552970920897,
          -0.11505366662529348,
          -0.18192538339402486,
          -0.1804495455465015,
          0.6583494336155072
         ],
         "xaxis": "x",
         "y": [
          -0.11677226162944854,
          -0.11672938993408295,
          0.5249915316438423,
          -0.09502116291618341,
          -0.11654673884945618,
          -0.11674422837722648,
          -0.1165113508188589,
          -0.11663572817174875,
          -0.11621472878445535,
          -0.11538033844302283,
          -0.11646949125046366,
          -0.07859009405602088,
          -0.11677226062889692,
          -0.11301593110174511,
          -0.11396765506783557,
          -0.1166122224154284,
          -0.11555764992393402,
          -0.11597978334147602,
          -0.11677122603421883,
          -0.11661522054667961,
          -0.11674916432490659,
          -0.11666994015891449,
          -0.1166632627413221,
          0.23952798368359443,
          0.3519979205079345,
          0.16056801868273382,
          -0.11631621377524402,
          -0.11634448874964223,
          -0.11674130020832436,
          -0.09754155414105815,
          -0.11534380865726802,
          -0.11586614114002809,
          -0.11435027411919911,
          1.853784987131155,
          -0.11631229082112395,
          -0.11347810962394761,
          -0.11635189384987844,
          -0.11674431283104948,
          -0.11543574871678913,
          -0.11589282519546486,
          -0.07818917017481487,
          -0.11642032975103189,
          -0.06521239894023902,
          -0.10941517681586695,
          -0.11670221059744453,
          -0.11188021012616207,
          -0.1151635669922987,
          -0.1167475430181262,
          -0.1162455557128119,
          -0.11614006366963366,
          -0.11677223694194942,
          -0.10375439612559635,
          -0.1149673191969907,
          -0.11582528926876118,
          -0.1167411182092414,
          -0.11627339245961735,
          -0.11672271027537887,
          -0.11676784872173242,
          -0.09286883521620966,
          -0.11567959146067151,
          -0.11417068005324467,
          -0.11660783095763103,
          -0.11589042908427903,
          -0.11290714963188926,
          -0.11565919038963259,
          -0.11528895337585297,
          -0.1159213226792301,
          -0.11378110234139016,
          -0.11676830559940217,
          -0.10894890216360258,
          -0.11338406130739749,
          -0.11661789859962475,
          -0.11669798879120927,
          -0.09953370586028545,
          0.24043693275062378,
          -0.11676873277361756,
          -0.10112415192028372,
          -0.11544207086453707,
          -0.11671375617420429,
          -0.03155105126603047,
          -0.11669532564094871,
          -0.11674789293712912,
          -0.1161660939960151,
          -0.11655170542609307,
          -0.11631233332277262,
          -0.11667672609628786,
          -0.11651984707863025,
          -0.10703905801708305,
          -0.01649228394946299,
          -0.10136146664022905,
          -0.11676903117001929,
          -0.11675878821529907,
          -0.11650118685376261,
          -0.1167703438132423,
          -0.11538764800880791,
          -0.09967092898010008,
          -0.09544025159790177,
          -0.11607140785892947,
          -0.11647334287961053,
          -0.11645149472657283,
          -0.11658588210798565,
          -0.11642720663306766,
          0.2734364841956495,
          -0.10599780523426967,
          -0.11621073272193391,
          -0.11546719656538507,
          -0.11606393145831673,
          0.570405860757577,
          -0.11658980109465543,
          -0.11512756402026224,
          -0.11459715258031267,
          -0.10797793460264347,
          -0.00801676440894235,
          -0.11239166024279007,
          -0.11451837279096713,
          -0.11668194012651933,
          -0.11583566465628495,
          -0.11647795806233795,
          -0.11642712272820085,
          -0.1163155068184024,
          -0.1151968280039961,
          -0.11640464684580643,
          -0.11508878702900692,
          -0.11220453162136353,
          -0.11652323531267242,
          -0.11669244271007455,
          0.12240974795645221,
          -0.11666070084849238,
          0.10074405573414248,
          0.3560960327687439,
          -0.11459715258031267,
          -0.11657652998223846,
          -0.09502116291618341,
          -0.11670555286898793,
          -0.11478250927402005,
          -0.1158918423698531,
          -0.115791063391472,
          -0.11664823672886883,
          -0.11675841878244601,
          -0.11654042870651937,
          0.687393292381134,
          -0.11666600646103181,
          -0.07006213179015083,
          -0.11633724055045748,
          -0.11662934025102253,
          -0.11644808396385968,
          -0.11384554461273456,
          -0.11640982788511008,
          -0.11495712451344323,
          -0.11675885412113093,
          -0.11593289177012411,
          -0.11667381001872647,
          -0.11459715258031267,
          -0.11666350704485963,
          -0.11674229133304921,
          -0.10248179008817934,
          -0.11419123157972706,
          -0.11643373119079166,
          -0.11658162744815162,
          -0.116759311307494,
          -0.11663645215709982,
          -0.11675790773048168,
          -0.11671610185629025,
          -0.09502116291618341,
          -0.11423075034784833,
          -0.11657418149950682,
          -0.10230342983142682,
          -0.11653040771602326,
          0.30906613860001203,
          -0.1151619458356443,
          -0.1110152150276874,
          -0.11353750826199567,
          -0.1167178820967903,
          -0.11459715258031267,
          -0.11638468661199561,
          -0.07587833758901363,
          -0.11620226325343043,
          -0.1166501616576836,
          -0.11637328618999473,
          -0.11250256581923197,
          -0.09884935645050202,
          1.8885230093818366,
          -0.11668844844837092,
          -0.11568470756165318,
          -0.11640054495081135,
          -0.11670430738864285,
          -0.1154375103818501,
          -0.11633724055045748,
          -0.11658157008824586,
          -0.11650218883991802,
          -0.1162225482374779,
          -0.11512808889604734,
          -0.1165287129516689,
          -0.11653486194970704,
          -0.11675454255290961,
          -0.11675098681364922,
          -0.11659003459270992,
          0.623633426660265,
          -0.11669672134375847,
          -0.1167001404861132,
          -0.11611477574124937,
          -0.11675281649439873,
          -0.11656873558968886,
          -0.11673145429478454,
          -0.11625098934902812,
          -0.11671731755841329,
          -0.11664917096127794,
          -0.11651512695950464,
          -0.10509231195360848,
          -0.1167655593108618,
          -0.1165336678029627,
          -0.11670673354751186,
          -0.11437964158404455,
          -0.11670450225587246,
          -0.11645633105132885,
          -0.11611134363523926,
          -0.11659008176849206,
          -0.09502116291618341,
          -0.1165281262431834,
          -0.11636887192395652,
          -0.11598812746229581,
          -0.11672369449088588,
          -0.1164638145454426,
          -0.11636156016826145,
          -0.11436592995510544,
          -0.11537810293025648,
          -0.11435368212757853,
          -0.11619826784143093,
          -0.11655207181125156,
          -0.10804090565750893,
          -0.11412590518314687,
          -0.11665548232466992,
          -0.11674728523326583,
          -0.11676138699318028,
          -0.11458528202644683,
          -0.11639876610238167,
          -0.11633123509041456,
          -0.11676541705867023,
          -0.10492918569573403,
          -0.08092084944985646,
          -0.1165245126030553,
          -0.11630768593932415,
          0.7676061322054775,
          -0.11654728846167933,
          -0.11645250492946803,
          -0.11623096497521959,
          -0.1151960961985635,
          0.37919376346298583,
          -0.11629399288016222,
          -0.07741436244416094,
          -0.11592496803302096,
          -0.11540320319895052,
          -0.1166242601872348,
          -0.11637784561199631,
          -0.11630965815502953,
          -0.11665985775411974,
          -0.11614639343116068,
          -0.11671521188829792,
          0.07996493152109137,
          -0.11623962283130973,
          -0.11646422775504543,
          -0.11628656065663148,
          -0.11637109546740708,
          3.429855407838768,
          -0.11442373615274541,
          -0.11405184896700946,
          -0.11570352206567398,
          -0.11636858424615758,
          -0.11674571547217573,
          -0.11649883088894829,
          -0.11634754329522382,
          -0.11676170860493937,
          -0.11668525814448645,
          -0.11656118895866893,
          -0.11623283854747586,
          -0.11604604432890671,
          -0.11603889102689775,
          -0.11634725501773886,
          -0.11668090792456108,
          -0.11657766300226419,
          -0.11622848505232343,
          -0.11661429731263409,
          0.05973378195767386,
          -0.11157556377389491,
          -0.10785431169600147,
          -0.05798217961288579,
          -0.11674745030417051,
          -0.11668164816722788,
          -0.09872779636278196,
          -0.11631548945083067,
          -0.11625023615195024,
          0.9372745506666281,
          -0.11477005642146611,
          -0.10457939609764813,
          -0.11653252494518879,
          -0.11603300835499927,
          -0.11672550446513913,
          -0.11601448523780013,
          -0.11641635919672454,
          -0.11296112493768755,
          -0.11663359364846793,
          -0.07327006339148151,
          -0.11649479753350053,
          -0.11666774779150058,
          -0.11594140110115062,
          -0.11050597590788984,
          0.5009404829479639,
          -0.11278019568270603,
          -0.10629409299633302,
          -0.11435839125360313,
          -0.11675915054511665,
          -0.11428905586698386,
          -0.11667438259467304,
          -0.10544229354142715,
          -0.11648412183538479,
          -0.1163633525696595,
          -0.11502529672288916,
          -0.10717458475645729,
          -0.009941730865951312,
          -0.11658913128431142,
          -0.08414561310277828,
          -0.026987665719971885,
          -0.11604781899296109,
          0.6783709024923884,
          -0.11668027626166678,
          -0.11659292287047192,
          -0.11617846448353365,
          -0.10986891098506563,
          -0.11561757498212467,
          -0.11459715258031267,
          -0.10366366638568386,
          -0.11670928147693188,
          -0.11667639996566123,
          -0.1165631252692099,
          -0.11633362986791942,
          -0.11649707857612082,
          -0.116301314545222,
          -0.11673706854601122,
          0.09629813117270336,
          -0.11495124740982626,
          -0.11666745837159732,
          -0.1115201167088048,
          -0.115322189162036,
          0.10073873372510898,
          -0.11659774763835909,
          -0.11176300768137139,
          -0.06122906233252278,
          -0.10162588268743468,
          -0.11650154618186798,
          -0.09502116291618341,
          0.1984232358217216,
          -0.11217630655705996,
          -0.1165216640070436,
          -0.11672510991976788,
          -0.11676314284243224,
          -0.11138641940895182,
          -0.11503110696567655,
          -0.11668373095303197,
          -0.11447813276436604,
          -0.11622848505232343,
          -0.11646807470227663,
          -0.11416213058777645,
          -0.1167538689906646,
          -0.11674265110276237,
          -0.11522020245384812,
          -0.11095824415550562,
          -0.1161775765677254,
          -0.11651595130442939,
          -0.11611527657317836,
          -0.11655735075154197,
          -0.11674548374194144,
          -0.11608054579244179,
          -0.11326077586963702,
          -0.1164262459159154,
          -0.11642387813842062,
          -0.11667647505045714,
          -0.07909964837430586,
          -0.11631158896155007,
          -0.1164375226045453,
          -0.11675496069604883,
          -0.11593034687405113,
          -0.11677042892529514,
          -0.11635564998514643,
          0.7814289563880842,
          -0.11661442394846377,
          -0.11660630165250616,
          -0.11370897425116605,
          -0.11604929549742954,
          -0.10044690793309542,
          -0.1163024531538973,
          -0.11611354797065088,
          1.5770339871793393,
          -0.11671318079338755,
          -0.11551480970069773,
          -0.11637650267735425,
          -0.11658549313538079,
          -0.11658010122073081,
          -0.1166438130999574,
          -0.11596914406784244,
          -0.11658615948423785,
          -0.11658572055542119,
          -0.11639988800362457,
          -0.11631457867824127,
          -0.11665472389654159,
          -0.11643337607562353,
          -0.11666588015508222,
          -0.11644769419005357,
          2.710596032238572,
          -0.11436008436164034,
          -0.11656938717439308,
          -0.07109495332669212,
          -0.11659200563755334,
          -0.11667428169132187,
          -0.029767864035752618,
          2.0583377001380327,
          -0.09502116291618341,
          -0.1165601076763751,
          -0.09502116291618341,
          -0.11455142955028494,
          -0.024653930288839415,
          -0.11662212723821834,
          -0.1165071307721589,
          -0.09502116291618341,
          -0.11579658043780337,
          -0.09494984649804492,
          -0.11223681320336916,
          -0.07616176598547243,
          -0.115994881456215,
          -0.11600418367284152,
          -0.11677111188690718,
          -0.11672869153853639,
          -0.11642172703745059,
          -0.11620664107550122,
          -0.11676342959707536,
          -0.11645028853909702,
          -0.11516878104898907,
          21.41656989446849,
          -0.11620972853533774,
          -0.11676317614125613,
          -0.11670495283425146,
          0.5537208267348116,
          -0.11459715258031267,
          -0.11659049357294592,
          -0.11648787231020333,
          -0.11459715258031267,
          0.10073873372510898,
          -0.11627242033000648,
          -0.11669518358612203,
          -0.11146820503796899,
          -0.0969609214097115,
          -0.11304571536908993,
          -0.1157664073767422,
          -0.11674388986486299,
          -0.09502116291618341,
          -0.11477105575798738,
          -0.0954513432226982,
          2.4132284878541133,
          -0.11641097835133629,
          0.1786289464229496,
          -0.11632531220627049,
          -0.11254303501252981,
          -0.11626343565502427,
          -0.09502116291618341,
          -0.11509257504054071,
          -0.11644111377461128,
          -0.11593719918442648,
          -0.11481662927578941,
          -0.11550083488145327,
          -0.11659578019809716,
          -0.11620967724683362,
          -0.11522793272717133,
          -0.11660134643032821,
          -0.11625514094887812,
          -0.11672036372882104,
          -0.08541554381798641,
          0.28861627329452055,
          0.10551275989065464,
          -0.11634209783201735,
          -0.1166852240948497,
          -0.11654040970781049,
          -0.11632639228982498,
          -0.07101846394129895,
          -0.11578154936828819,
          -0.11654098246070395,
          -0.11591908150589016,
          -0.10774485102721752,
          -0.1117262502151796,
          -0.1166085634168395,
          -0.11654887575905015,
          0.18119773524542576,
          -0.1029091737470596,
          -0.11655931680553719,
          -0.11411505418087033,
          -0.10698283692121674,
          -0.11338916800290409,
          -0.11636861783534486,
          0.07898763388078772,
          -0.11096516244324392,
          -0.11654397870560462,
          -0.11636092698151561,
          -0.11645172963845316,
          -0.11197118285554203,
          -0.1163967655884957,
          -0.11639809227313061,
          -0.1151150708653706,
          -0.00617021575780926,
          -0.11626825439347825,
          -0.11637029357638615,
          -0.11513138419431453,
          -0.10012092192501675,
          3.886883668981351,
          -0.07733678112228733,
          -0.11232461859411026,
          -0.08616846536807164,
          1.0894291988701488,
          -0.11459715258031267,
          -0.11552844605634119,
          -0.11387396555984389,
          -0.11329386149243359,
          -0.11533168323432934,
          -0.1165071307721589,
          -0.11460384917835917,
          -0.03845589484063743,
          -0.11636920977291147,
          -0.11459715258031267,
          0.8620272206634684
         ],
         "yaxis": "y"
        }
       ],
       "layout": {
        "legend": {
         "tracegroupgap": 0
        },
        "margin": {
         "t": 60
        },
        "template": {
         "data": {
          "bar": [
           {
            "error_x": {
             "color": "#2a3f5f"
            },
            "error_y": {
             "color": "#2a3f5f"
            },
            "marker": {
             "line": {
              "color": "#E5ECF6",
              "width": 0.5
             }
            },
            "type": "bar"
           }
          ],
          "barpolar": [
           {
            "marker": {
             "line": {
              "color": "#E5ECF6",
              "width": 0.5
             }
            },
            "type": "barpolar"
           }
          ],
          "carpet": [
           {
            "aaxis": {
             "endlinecolor": "#2a3f5f",
             "gridcolor": "white",
             "linecolor": "white",
             "minorgridcolor": "white",
             "startlinecolor": "#2a3f5f"
            },
            "baxis": {
             "endlinecolor": "#2a3f5f",
             "gridcolor": "white",
             "linecolor": "white",
             "minorgridcolor": "white",
             "startlinecolor": "#2a3f5f"
            },
            "type": "carpet"
           }
          ],
          "choropleth": [
           {
            "colorbar": {
             "outlinewidth": 0,
             "ticks": ""
            },
            "type": "choropleth"
           }
          ],
          "contour": [
           {
            "colorbar": {
             "outlinewidth": 0,
             "ticks": ""
            },
            "colorscale": [
             [
              0,
              "#0d0887"
             ],
             [
              0.1111111111111111,
              "#46039f"
             ],
             [
              0.2222222222222222,
              "#7201a8"
             ],
             [
              0.3333333333333333,
              "#9c179e"
             ],
             [
              0.4444444444444444,
              "#bd3786"
             ],
             [
              0.5555555555555556,
              "#d8576b"
             ],
             [
              0.6666666666666666,
              "#ed7953"
             ],
             [
              0.7777777777777778,
              "#fb9f3a"
             ],
             [
              0.8888888888888888,
              "#fdca26"
             ],
             [
              1,
              "#f0f921"
             ]
            ],
            "type": "contour"
           }
          ],
          "contourcarpet": [
           {
            "colorbar": {
             "outlinewidth": 0,
             "ticks": ""
            },
            "type": "contourcarpet"
           }
          ],
          "heatmap": [
           {
            "colorbar": {
             "outlinewidth": 0,
             "ticks": ""
            },
            "colorscale": [
             [
              0,
              "#0d0887"
             ],
             [
              0.1111111111111111,
              "#46039f"
             ],
             [
              0.2222222222222222,
              "#7201a8"
             ],
             [
              0.3333333333333333,
              "#9c179e"
             ],
             [
              0.4444444444444444,
              "#bd3786"
             ],
             [
              0.5555555555555556,
              "#d8576b"
             ],
             [
              0.6666666666666666,
              "#ed7953"
             ],
             [
              0.7777777777777778,
              "#fb9f3a"
             ],
             [
              0.8888888888888888,
              "#fdca26"
             ],
             [
              1,
              "#f0f921"
             ]
            ],
            "type": "heatmap"
           }
          ],
          "heatmapgl": [
           {
            "colorbar": {
             "outlinewidth": 0,
             "ticks": ""
            },
            "colorscale": [
             [
              0,
              "#0d0887"
             ],
             [
              0.1111111111111111,
              "#46039f"
             ],
             [
              0.2222222222222222,
              "#7201a8"
             ],
             [
              0.3333333333333333,
              "#9c179e"
             ],
             [
              0.4444444444444444,
              "#bd3786"
             ],
             [
              0.5555555555555556,
              "#d8576b"
             ],
             [
              0.6666666666666666,
              "#ed7953"
             ],
             [
              0.7777777777777778,
              "#fb9f3a"
             ],
             [
              0.8888888888888888,
              "#fdca26"
             ],
             [
              1,
              "#f0f921"
             ]
            ],
            "type": "heatmapgl"
           }
          ],
          "histogram": [
           {
            "marker": {
             "colorbar": {
              "outlinewidth": 0,
              "ticks": ""
             }
            },
            "type": "histogram"
           }
          ],
          "histogram2d": [
           {
            "colorbar": {
             "outlinewidth": 0,
             "ticks": ""
            },
            "colorscale": [
             [
              0,
              "#0d0887"
             ],
             [
              0.1111111111111111,
              "#46039f"
             ],
             [
              0.2222222222222222,
              "#7201a8"
             ],
             [
              0.3333333333333333,
              "#9c179e"
             ],
             [
              0.4444444444444444,
              "#bd3786"
             ],
             [
              0.5555555555555556,
              "#d8576b"
             ],
             [
              0.6666666666666666,
              "#ed7953"
             ],
             [
              0.7777777777777778,
              "#fb9f3a"
             ],
             [
              0.8888888888888888,
              "#fdca26"
             ],
             [
              1,
              "#f0f921"
             ]
            ],
            "type": "histogram2d"
           }
          ],
          "histogram2dcontour": [
           {
            "colorbar": {
             "outlinewidth": 0,
             "ticks": ""
            },
            "colorscale": [
             [
              0,
              "#0d0887"
             ],
             [
              0.1111111111111111,
              "#46039f"
             ],
             [
              0.2222222222222222,
              "#7201a8"
             ],
             [
              0.3333333333333333,
              "#9c179e"
             ],
             [
              0.4444444444444444,
              "#bd3786"
             ],
             [
              0.5555555555555556,
              "#d8576b"
             ],
             [
              0.6666666666666666,
              "#ed7953"
             ],
             [
              0.7777777777777778,
              "#fb9f3a"
             ],
             [
              0.8888888888888888,
              "#fdca26"
             ],
             [
              1,
              "#f0f921"
             ]
            ],
            "type": "histogram2dcontour"
           }
          ],
          "mesh3d": [
           {
            "colorbar": {
             "outlinewidth": 0,
             "ticks": ""
            },
            "type": "mesh3d"
           }
          ],
          "parcoords": [
           {
            "line": {
             "colorbar": {
              "outlinewidth": 0,
              "ticks": ""
             }
            },
            "type": "parcoords"
           }
          ],
          "pie": [
           {
            "automargin": true,
            "type": "pie"
           }
          ],
          "scatter": [
           {
            "marker": {
             "colorbar": {
              "outlinewidth": 0,
              "ticks": ""
             }
            },
            "type": "scatter"
           }
          ],
          "scatter3d": [
           {
            "line": {
             "colorbar": {
              "outlinewidth": 0,
              "ticks": ""
             }
            },
            "marker": {
             "colorbar": {
              "outlinewidth": 0,
              "ticks": ""
             }
            },
            "type": "scatter3d"
           }
          ],
          "scattercarpet": [
           {
            "marker": {
             "colorbar": {
              "outlinewidth": 0,
              "ticks": ""
             }
            },
            "type": "scattercarpet"
           }
          ],
          "scattergeo": [
           {
            "marker": {
             "colorbar": {
              "outlinewidth": 0,
              "ticks": ""
             }
            },
            "type": "scattergeo"
           }
          ],
          "scattergl": [
           {
            "marker": {
             "colorbar": {
              "outlinewidth": 0,
              "ticks": ""
             }
            },
            "type": "scattergl"
           }
          ],
          "scattermapbox": [
           {
            "marker": {
             "colorbar": {
              "outlinewidth": 0,
              "ticks": ""
             }
            },
            "type": "scattermapbox"
           }
          ],
          "scatterpolar": [
           {
            "marker": {
             "colorbar": {
              "outlinewidth": 0,
              "ticks": ""
             }
            },
            "type": "scatterpolar"
           }
          ],
          "scatterpolargl": [
           {
            "marker": {
             "colorbar": {
              "outlinewidth": 0,
              "ticks": ""
             }
            },
            "type": "scatterpolargl"
           }
          ],
          "scatterternary": [
           {
            "marker": {
             "colorbar": {
              "outlinewidth": 0,
              "ticks": ""
             }
            },
            "type": "scatterternary"
           }
          ],
          "surface": [
           {
            "colorbar": {
             "outlinewidth": 0,
             "ticks": ""
            },
            "colorscale": [
             [
              0,
              "#0d0887"
             ],
             [
              0.1111111111111111,
              "#46039f"
             ],
             [
              0.2222222222222222,
              "#7201a8"
             ],
             [
              0.3333333333333333,
              "#9c179e"
             ],
             [
              0.4444444444444444,
              "#bd3786"
             ],
             [
              0.5555555555555556,
              "#d8576b"
             ],
             [
              0.6666666666666666,
              "#ed7953"
             ],
             [
              0.7777777777777778,
              "#fb9f3a"
             ],
             [
              0.8888888888888888,
              "#fdca26"
             ],
             [
              1,
              "#f0f921"
             ]
            ],
            "type": "surface"
           }
          ],
          "table": [
           {
            "cells": {
             "fill": {
              "color": "#EBF0F8"
             },
             "line": {
              "color": "white"
             }
            },
            "header": {
             "fill": {
              "color": "#C8D4E3"
             },
             "line": {
              "color": "white"
             }
            },
            "type": "table"
           }
          ]
         },
         "layout": {
          "annotationdefaults": {
           "arrowcolor": "#2a3f5f",
           "arrowhead": 0,
           "arrowwidth": 1
          },
          "coloraxis": {
           "colorbar": {
            "outlinewidth": 0,
            "ticks": ""
           }
          },
          "colorscale": {
           "diverging": [
            [
             0,
             "#8e0152"
            ],
            [
             0.1,
             "#c51b7d"
            ],
            [
             0.2,
             "#de77ae"
            ],
            [
             0.3,
             "#f1b6da"
            ],
            [
             0.4,
             "#fde0ef"
            ],
            [
             0.5,
             "#f7f7f7"
            ],
            [
             0.6,
             "#e6f5d0"
            ],
            [
             0.7,
             "#b8e186"
            ],
            [
             0.8,
             "#7fbc41"
            ],
            [
             0.9,
             "#4d9221"
            ],
            [
             1,
             "#276419"
            ]
           ],
           "sequential": [
            [
             0,
             "#0d0887"
            ],
            [
             0.1111111111111111,
             "#46039f"
            ],
            [
             0.2222222222222222,
             "#7201a8"
            ],
            [
             0.3333333333333333,
             "#9c179e"
            ],
            [
             0.4444444444444444,
             "#bd3786"
            ],
            [
             0.5555555555555556,
             "#d8576b"
            ],
            [
             0.6666666666666666,
             "#ed7953"
            ],
            [
             0.7777777777777778,
             "#fb9f3a"
            ],
            [
             0.8888888888888888,
             "#fdca26"
            ],
            [
             1,
             "#f0f921"
            ]
           ],
           "sequentialminus": [
            [
             0,
             "#0d0887"
            ],
            [
             0.1111111111111111,
             "#46039f"
            ],
            [
             0.2222222222222222,
             "#7201a8"
            ],
            [
             0.3333333333333333,
             "#9c179e"
            ],
            [
             0.4444444444444444,
             "#bd3786"
            ],
            [
             0.5555555555555556,
             "#d8576b"
            ],
            [
             0.6666666666666666,
             "#ed7953"
            ],
            [
             0.7777777777777778,
             "#fb9f3a"
            ],
            [
             0.8888888888888888,
             "#fdca26"
            ],
            [
             1,
             "#f0f921"
            ]
           ]
          },
          "colorway": [
           "#636efa",
           "#EF553B",
           "#00cc96",
           "#ab63fa",
           "#FFA15A",
           "#19d3f3",
           "#FF6692",
           "#B6E880",
           "#FF97FF",
           "#FECB52"
          ],
          "font": {
           "color": "#2a3f5f"
          },
          "geo": {
           "bgcolor": "white",
           "lakecolor": "white",
           "landcolor": "#E5ECF6",
           "showlakes": true,
           "showland": true,
           "subunitcolor": "white"
          },
          "hoverlabel": {
           "align": "left"
          },
          "hovermode": "closest",
          "mapbox": {
           "style": "light"
          },
          "paper_bgcolor": "white",
          "plot_bgcolor": "#E5ECF6",
          "polar": {
           "angularaxis": {
            "gridcolor": "white",
            "linecolor": "white",
            "ticks": ""
           },
           "bgcolor": "#E5ECF6",
           "radialaxis": {
            "gridcolor": "white",
            "linecolor": "white",
            "ticks": ""
           }
          },
          "scene": {
           "xaxis": {
            "backgroundcolor": "#E5ECF6",
            "gridcolor": "white",
            "gridwidth": 2,
            "linecolor": "white",
            "showbackground": true,
            "ticks": "",
            "zerolinecolor": "white"
           },
           "yaxis": {
            "backgroundcolor": "#E5ECF6",
            "gridcolor": "white",
            "gridwidth": 2,
            "linecolor": "white",
            "showbackground": true,
            "ticks": "",
            "zerolinecolor": "white"
           },
           "zaxis": {
            "backgroundcolor": "#E5ECF6",
            "gridcolor": "white",
            "gridwidth": 2,
            "linecolor": "white",
            "showbackground": true,
            "ticks": "",
            "zerolinecolor": "white"
           }
          },
          "shapedefaults": {
           "line": {
            "color": "#2a3f5f"
           }
          },
          "ternary": {
           "aaxis": {
            "gridcolor": "white",
            "linecolor": "white",
            "ticks": ""
           },
           "baxis": {
            "gridcolor": "white",
            "linecolor": "white",
            "ticks": ""
           },
           "bgcolor": "#E5ECF6",
           "caxis": {
            "gridcolor": "white",
            "linecolor": "white",
            "ticks": ""
           }
          },
          "title": {
           "x": 0.05
          },
          "xaxis": {
           "automargin": true,
           "gridcolor": "white",
           "linecolor": "white",
           "ticks": "",
           "title": {
            "standoff": 15
           },
           "zerolinecolor": "white",
           "zerolinewidth": 2
          },
          "yaxis": {
           "automargin": true,
           "gridcolor": "white",
           "linecolor": "white",
           "ticks": "",
           "title": {
            "standoff": 15
           },
           "zerolinecolor": "white",
           "zerolinewidth": 2
          }
         }
        },
        "xaxis": {
         "anchor": "y",
         "domain": [
          0,
          1
         ],
         "title": {
          "text": "TotalCoinsMined"
         }
        },
        "yaxis": {
         "anchor": "x",
         "domain": [
          0,
          1
         ],
         "title": {
          "text": "TotalCoinSupply"
         }
        }
       }
      },
      "text/html": [
       "<div>                            <div id=\"c81e392e-319a-4ddf-a33e-d2a74c6936bb\" class=\"plotly-graph-div\" style=\"height:525px; width:100%;\"></div>            <script type=\"text/javascript\">                require([\"plotly\"], function(Plotly) {                    window.PLOTLYENV=window.PLOTLYENV || {};                                    if (document.getElementById(\"c81e392e-319a-4ddf-a33e-d2a74c6936bb\")) {                    Plotly.newPlot(                        \"c81e392e-319a-4ddf-a33e-d2a74c6936bb\",                        [{\"hovertemplate\": \"TotalCoinsMined=%{x}<br>TotalCoinSupply=%{y}<extra></extra>\", \"legendgroup\": \"\", \"marker\": {\"color\": \"#636efa\", \"symbol\": \"circle\"}, \"mode\": \"markers\", \"name\": \"\", \"orientation\": \"v\", \"showlegend\": false, \"type\": \"scatter\", \"x\": [-0.18231769393595906, -0.17237914111447505, 5.686646026379993, -0.16363620297977974, -0.18192538339402486, -0.18190670190228406, -0.18208417607382169, -0.18192538339402486, -0.17577917261130102, -0.18003654517773843, -0.18112207924917037, -0.14495471123897777, 6.991375133747376, -0.1791456598457351, -0.17764732178538123, -0.1804495455465015, -0.18074844941435433, -0.18141788198939424, -0.18230835397471132, -0.18192538339402486, -0.1822990132288409, -0.18207221991910758, -0.1819814278692473, 0.126954401048395, 0.2099936318362598, 0.06988244378024498, -0.18192538339402486, -0.18171988698487604, -0.182107792972821, -0.1557785879497368, -0.18100999029872558, -0.18096803727272326, -0.18007591571168546, 1.5102254569960774, -0.18192538339402486, -0.17735923823754465, -0.18194406488576567, -0.18229247470673163, -0.1804495455465015, -0.17858139637242132, -0.13712342990123358, -0.18201542818421554, 0.09790468139144794, -0.17602203200393143, -0.18224726549671888, -0.17447146818944487, -0.18048690852998311, -0.18192538339402486, -0.17764732178538123, -0.18136120234345265, -0.18231767603908997, -0.16572853005474955, -0.1804495455465015, -0.18143944102867085, -0.1821308798031737, -0.18153307206746802, -0.18082317538131756, -0.1823130243476465, -0.15242730793529854, -0.1804495455465015, -0.17735923823754465, -0.1822149465160073, -0.18147702759224563, -0.16363620297977974, -0.17297694885018072, -0.18035389630878862, -0.18104735328220717, -0.17920935603579663, -0.1822685997602869, -0.17297694885018072, -0.1793286560420534, -0.1821308798031737, -0.18226538654370747, -0.16363620297977974, 0.4715345162074875, -0.1823154529415728, -0.16363620297977974, 1.6503366450520922, -0.18194406488576567, -0.1075917277573738, -0.17858139637242132, -0.18119366401670484, -0.05154725253496787, -0.18225471311626074, -0.18130410948159523, -0.18192538339402486, -0.18194406488576567, -0.17297694885018072, 0.004497222687438058, -0.14794374991750608, -0.1822990132288409, -0.1823061219474411, -0.18192538339402486, 1.5363795454332, -0.18086053836479915, -0.16363620297977974, 0.013837968557839047, -0.18170120549313523, -0.18108865619229692, -0.1813133777245962, -0.18222316637237326, -0.18192538339402486, -0.17876821128982934, -0.16363620297977974, -0.18153307206746802, -0.18203747234446968, -0.1783900978969955, 0.7517568923195171, 2.507817115954903, -0.17764732178538123, -0.1804495455465015, -0.17484509802426093, -0.18138362013354162, -0.1784319444384949, -0.1793286560420534, -0.1821495612949145, -0.16363620297977974, -0.1818264088507821, -0.18201879085272887, -0.18192538339402486, -0.17891766322375574, -0.18200936915995478, -0.1803561380877975, -0.1783945814550133, -0.18078652042637292, -0.18190670190228406, 0.31367591099771075, -0.1821215390573033, 0.004662285529715299, 0.22169347648368926, -0.1804495455465015, -0.18153307206746802, -0.16363620297977974, -0.18209351681969208, -0.15616360628345893, -0.17818810180159117, -0.18074844941435433, -0.18175724996835765, -0.17917264130007843, -0.17514400189211374, 1.667149987618814, -0.18157043505094964, -0.1421994967056439, -0.18194406488576567, -0.18194406488576567, -0.18185065742706166, -0.18091658284002157, -0.17250991155666068, -0.18063636046390955, -0.1823061785523611, -0.18169186474726484, -0.1814894819263, -0.1804495455465015, -0.17858139637242132, -0.18185065742706166, -0.1700439546468748, -0.17858139637242132, -0.18138362013354162, -0.1821308798031737, -0.18192538339402486, -0.18213581171699325, -0.1822616502453593, -0.18192538339402486, -0.15989990463161935, -0.17858139637242132, -0.18211895544435852, -0.12440507032409558, -0.18175724996835765, 0.19131214009545783, -0.18093526433176235, -0.15429545710937875, -0.1815704369564618, -0.18227098867472472, -0.1804495455465015, -0.1766945657066003, -0.04209441771412207, -0.18182813616018995, -0.18192538339402486, -0.18175724996835765, 0.004497222687438058, -0.17297694885018072, -0.16643842674090004, -0.18224570882822122, -0.18138362013354162, -0.1815977100288912, -0.18153307206746802, -0.17805831460367885, -0.18194406488576567, -0.1811968052161336, -0.18194406488576567, -0.18170120549313523, -0.18088856060241035, -0.18179461295183924, -0.17016239842432063, -0.1822242872618777, -0.18192538339402486, -0.17962755990990623, 0.42510945676226797, -0.1820748353279513, -0.18225575083576398, -0.18084493558289724, -0.18226698780909054, -0.18185065742706166, -0.1821308798218552, -0.17297694885018072, -0.18192538339402486, -0.18214294804683825, -0.18194406488576567, 1.685831479359616, -0.18190794734129395, -0.17886161874853335, -0.1812902126748376, -0.18026273062909348, -0.18225492490833262, -0.18204634882757126, -0.16363620297977974, -0.18200010936098807, -0.16363620297977974, -0.18184067889506322, -0.18192538339402486, -0.18167455778364186, -0.18227598079899218, -0.1804495455465015, -0.1816283476753461, -0.18026273062909348, -0.1075917277573738, -0.1802573124360439, -0.1804495455465015, -0.18141627538110452, -0.17484509802426093, -0.17297694885018072, -0.1819214206573153, -0.18178340405679477, -0.16363620297977974, 1.2187941858395666, -0.18157043505094964, -0.18165412066135173, -0.1822990132288409, -0.14495471123897777, -0.13561396536857676, -0.18175724996835765, -0.1803561380877975, 1.4990165619515963, -0.17857982339081674, -0.18097262731524397, -0.18175724996835765, -0.1803561380877975, 0.7517568923195171, -0.18175724996835765, -0.14495471123897777, -0.1804495455465015, -0.18007591571168546, -0.1804495455465015, -0.18195757534059262, -0.18175724996835765, -0.18091658284002157, -0.1811968052161336, -0.18196461452668056, 0.7517568923195171, -0.18186022339699648, -0.18130889416657842, -0.18196464838461157, -0.18192538339402486, 3.5539806534398135, -0.17974898960622143, -0.16176805380569953, -0.1804495455465015, -0.18192538339402486, -0.18229900538261437, -0.18214008471591764, -0.18199252670794233, 0.013837968557839047, -0.18116691548320052, -0.18194406488576567, -0.18074844941435433, -0.1804495455465015, -0.1804495455465015, -0.18141627538110452, -0.18223923245527035, -0.18065711769356063, -0.1806104128806821, -0.18181329444358005, 0.2099936318362598, -0.17484509802426093, -0.1746582831068529, -0.14869100958713816, -0.18202377259008692, -0.18181329444358005, -0.15694129343276386, -0.18192538339402486, -0.18186933891880247, 1.4990165619515963, -0.1804495455465015, -0.15989990463161935, -0.1811968052161336, -0.17939765178442812, -0.18192538339402486, -0.17858139637242132, -0.18204142766479517, -0.17577917261130102, -0.18147702759224563, -0.14495471123897777, -0.17708687703315715, -0.18196274637750648, -0.17962755990990623, -0.17297694885018072, 0.37812705750347764, -0.1783945814550133, -0.1699879101716524, -0.1783945814550133, 1.4056091032475864, -0.179179204108127, -0.18208417607382169, 0.004497222687438058, -0.18179991623503314, -0.18194406488576567, -0.17204287426314063, -0.16364588903434346, 0.7517568923195171, -0.1795154709594614, 0.004497222687438058, -0.08891023603525332, -0.18002921198233346, 1.4990165619515963, -0.18194780118411383, -0.18192538339402486, -0.18007591571168546, -0.17297694885018072, -0.18112207924917037, -0.1804495455465015, -0.16550435215385992, -0.1822429687536185, -0.18192538339402486, -0.18188802041054328, -0.1819409637581367, -0.18188802041054328, -0.18185065742706166, -0.18228746745045588, 0.004497222687438058, -0.1727901339327727, -0.1820075819576844, -0.17798358863671565, -0.18107226187558995, 0.004497222687438058, -0.16176805380569953, -0.16737250132794013, -0.08517393766841143, -0.16662524165830805, -0.18157043505094964, -0.16363620297977974, 0.16155214713348678, -0.17297694885018072, -0.18195638357350852, -0.18185065742706166, -0.1811968052161336, -0.06088799840536886, -0.16363620297977974, -0.18192538339402486, -0.17858139637242132, -0.18185065742706166, -0.18138362013354162, -0.18007591571168546, -0.1822616502453593, -0.1822242872618777, -0.18100999029872558, -0.17297694885018072, -0.1767132471983411, -0.18192538339402486, -0.18067372344739113, -0.18175724996835765, -0.1804495455465015, -0.1804495455465015, -0.17858139637242132, -0.18082317538131756, -0.18197395527255095, -0.18147702759224563, -0.0866320053073611, -0.18192538339402486, -0.18192538339402486, -0.1819814278692473, -0.18183197593532086, -0.1711087899990878, -0.1795154709594614, 3.255076785586982, -0.18115944223265198, -0.18149570908398643, -0.179179204108127, -0.1804495455465015, -0.16363620297977974, -0.18074844941435433, -0.18063636046390955, 1.5363795454332, -0.17017472508906042, -0.18044464716595962, -0.18197989961113392, -0.1819052877133593, -0.18192538339402486, -0.18192538339402486, -0.18077560176698412, -0.18192538339402486, -0.18222146635662484, -0.1813369164041896, -0.1804495455465015, -0.16363620297977974, -0.14962508417417825, -0.1806701947377792, -0.1783945814550133, 3.263857086705159, -0.17746050686797318, -0.1783945814550133, -0.14308656206489756, -0.18192538339402486, -0.1804495455465015, -0.1075917277573738, 1.685831479359616, -0.16363620297977974, -0.1804495455465015, -0.16363620297977974, -0.18041027514535019, -0.040338357490486684, -0.18138362013354162, 1.1253867271355567, -0.16363620297977974, -0.18074844941435433, -0.15429545710937875, 1.1253867271355567, -0.031371241454901735, -0.18145834610050482, -0.18130889416657842, -0.18231330457002262, -0.18035389628188725, -0.18184638310175136, -0.1803561380877975, -0.18192538339402486, -0.18192538339402486, -0.17740819869109895, 18.312359128673375, -0.1817406981666753, -0.18192538339402486, -0.18206792317600717, 1.2150578874914062, -0.1804495455465015, -0.1817068099406575, -0.1804495455465015, -0.14308656206489756, 0.004497222687438058, -0.18074844941435433, -0.18192538339402486, -0.17297694885018072, -0.08891023601657183, -0.17858139637242132, -0.18112207924917037, -0.18227846358792602, -0.16363620297977974, -0.1804495455465015, -0.1561594475965825, 1.9327160111029433, -0.18138362013354162, 0.2884558971476281, -0.18084932946975468, -0.17297694885018072, -0.1819167646130843, 1.437603669879178, -0.16363620297977974, -0.18108471626568878, -0.18074844941435433, -0.1795154709594614, -0.18091658284002157, -0.14308656206489756, -0.18170120549313523, -0.18074844941435433, -0.1819814278692473, -0.17437806073074086, -0.18185065742706166, -0.14495471123897777, 0.4715345162074875, 0.11658617313224992, -0.18153307206746802, -0.18194406488576567, -0.18194406488576567, -0.18125471784053007, -0.14308656206489756, -0.17858139637242132, -0.18147702759224563, -0.18153307206746802, -0.1509327885960344, -0.17604071349567224, -0.18191791079732855, -0.18192538339402486, 0.2099936318362598, -0.16363620297977974, -0.18190670190228406, -0.1783945814550133, -0.17297694885018072, -0.17878361436658455, -0.18192538339402486, -0.014184269053363919, -0.17770336626060362, -0.18200185800465948, -0.18200443255708076, -0.18192538339402486, -0.17671712439249998, -0.18186933891880247, -0.18192538339402486, -0.1803561380877975, -0.051547252871234725, -0.18188802041054328, -0.18190670190228406, -0.1804495455465015, 0.2099936318362598, 3.263809275817199, -0.14198785122744412, -0.17760135037050545, -0.15603283584127334, 1.437603669879178, -0.1804495455465015, -0.18074844941435433, -0.17596071249193065, -0.17933018045177945, -0.18074844941435433, -0.18192538339402486, -0.1804552970920897, -0.11505366662529348, -0.18192538339402486, -0.1804495455465015, 0.6583494336155072], \"xaxis\": \"x\", \"y\": [-0.11677226162944854, -0.11672938993408295, 0.5249915316438423, -0.09502116291618341, -0.11654673884945618, -0.11674422837722648, -0.1165113508188589, -0.11663572817174875, -0.11621472878445535, -0.11538033844302283, -0.11646949125046366, -0.07859009405602088, -0.11677226062889692, -0.11301593110174511, -0.11396765506783557, -0.1166122224154284, -0.11555764992393402, -0.11597978334147602, -0.11677122603421883, -0.11661522054667961, -0.11674916432490659, -0.11666994015891449, -0.1166632627413221, 0.23952798368359443, 0.3519979205079345, 0.16056801868273382, -0.11631621377524402, -0.11634448874964223, -0.11674130020832436, -0.09754155414105815, -0.11534380865726802, -0.11586614114002809, -0.11435027411919911, 1.853784987131155, -0.11631229082112395, -0.11347810962394761, -0.11635189384987844, -0.11674431283104948, -0.11543574871678913, -0.11589282519546486, -0.07818917017481487, -0.11642032975103189, -0.06521239894023902, -0.10941517681586695, -0.11670221059744453, -0.11188021012616207, -0.1151635669922987, -0.1167475430181262, -0.1162455557128119, -0.11614006366963366, -0.11677223694194942, -0.10375439612559635, -0.1149673191969907, -0.11582528926876118, -0.1167411182092414, -0.11627339245961735, -0.11672271027537887, -0.11676784872173242, -0.09286883521620966, -0.11567959146067151, -0.11417068005324467, -0.11660783095763103, -0.11589042908427903, -0.11290714963188926, -0.11565919038963259, -0.11528895337585297, -0.1159213226792301, -0.11378110234139016, -0.11676830559940217, -0.10894890216360258, -0.11338406130739749, -0.11661789859962475, -0.11669798879120927, -0.09953370586028545, 0.24043693275062378, -0.11676873277361756, -0.10112415192028372, -0.11544207086453707, -0.11671375617420429, -0.03155105126603047, -0.11669532564094871, -0.11674789293712912, -0.1161660939960151, -0.11655170542609307, -0.11631233332277262, -0.11667672609628786, -0.11651984707863025, -0.10703905801708305, -0.01649228394946299, -0.10136146664022905, -0.11676903117001929, -0.11675878821529907, -0.11650118685376261, -0.1167703438132423, -0.11538764800880791, -0.09967092898010008, -0.09544025159790177, -0.11607140785892947, -0.11647334287961053, -0.11645149472657283, -0.11658588210798565, -0.11642720663306766, 0.2734364841956495, -0.10599780523426967, -0.11621073272193391, -0.11546719656538507, -0.11606393145831673, 0.570405860757577, -0.11658980109465543, -0.11512756402026224, -0.11459715258031267, -0.10797793460264347, -0.00801676440894235, -0.11239166024279007, -0.11451837279096713, -0.11668194012651933, -0.11583566465628495, -0.11647795806233795, -0.11642712272820085, -0.1163155068184024, -0.1151968280039961, -0.11640464684580643, -0.11508878702900692, -0.11220453162136353, -0.11652323531267242, -0.11669244271007455, 0.12240974795645221, -0.11666070084849238, 0.10074405573414248, 0.3560960327687439, -0.11459715258031267, -0.11657652998223846, -0.09502116291618341, -0.11670555286898793, -0.11478250927402005, -0.1158918423698531, -0.115791063391472, -0.11664823672886883, -0.11675841878244601, -0.11654042870651937, 0.687393292381134, -0.11666600646103181, -0.07006213179015083, -0.11633724055045748, -0.11662934025102253, -0.11644808396385968, -0.11384554461273456, -0.11640982788511008, -0.11495712451344323, -0.11675885412113093, -0.11593289177012411, -0.11667381001872647, -0.11459715258031267, -0.11666350704485963, -0.11674229133304921, -0.10248179008817934, -0.11419123157972706, -0.11643373119079166, -0.11658162744815162, -0.116759311307494, -0.11663645215709982, -0.11675790773048168, -0.11671610185629025, -0.09502116291618341, -0.11423075034784833, -0.11657418149950682, -0.10230342983142682, -0.11653040771602326, 0.30906613860001203, -0.1151619458356443, -0.1110152150276874, -0.11353750826199567, -0.1167178820967903, -0.11459715258031267, -0.11638468661199561, -0.07587833758901363, -0.11620226325343043, -0.1166501616576836, -0.11637328618999473, -0.11250256581923197, -0.09884935645050202, 1.8885230093818366, -0.11668844844837092, -0.11568470756165318, -0.11640054495081135, -0.11670430738864285, -0.1154375103818501, -0.11633724055045748, -0.11658157008824586, -0.11650218883991802, -0.1162225482374779, -0.11512808889604734, -0.1165287129516689, -0.11653486194970704, -0.11675454255290961, -0.11675098681364922, -0.11659003459270992, 0.623633426660265, -0.11669672134375847, -0.1167001404861132, -0.11611477574124937, -0.11675281649439873, -0.11656873558968886, -0.11673145429478454, -0.11625098934902812, -0.11671731755841329, -0.11664917096127794, -0.11651512695950464, -0.10509231195360848, -0.1167655593108618, -0.1165336678029627, -0.11670673354751186, -0.11437964158404455, -0.11670450225587246, -0.11645633105132885, -0.11611134363523926, -0.11659008176849206, -0.09502116291618341, -0.1165281262431834, -0.11636887192395652, -0.11598812746229581, -0.11672369449088588, -0.1164638145454426, -0.11636156016826145, -0.11436592995510544, -0.11537810293025648, -0.11435368212757853, -0.11619826784143093, -0.11655207181125156, -0.10804090565750893, -0.11412590518314687, -0.11665548232466992, -0.11674728523326583, -0.11676138699318028, -0.11458528202644683, -0.11639876610238167, -0.11633123509041456, -0.11676541705867023, -0.10492918569573403, -0.08092084944985646, -0.1165245126030553, -0.11630768593932415, 0.7676061322054775, -0.11654728846167933, -0.11645250492946803, -0.11623096497521959, -0.1151960961985635, 0.37919376346298583, -0.11629399288016222, -0.07741436244416094, -0.11592496803302096, -0.11540320319895052, -0.1166242601872348, -0.11637784561199631, -0.11630965815502953, -0.11665985775411974, -0.11614639343116068, -0.11671521188829792, 0.07996493152109137, -0.11623962283130973, -0.11646422775504543, -0.11628656065663148, -0.11637109546740708, 3.429855407838768, -0.11442373615274541, -0.11405184896700946, -0.11570352206567398, -0.11636858424615758, -0.11674571547217573, -0.11649883088894829, -0.11634754329522382, -0.11676170860493937, -0.11668525814448645, -0.11656118895866893, -0.11623283854747586, -0.11604604432890671, -0.11603889102689775, -0.11634725501773886, -0.11668090792456108, -0.11657766300226419, -0.11622848505232343, -0.11661429731263409, 0.05973378195767386, -0.11157556377389491, -0.10785431169600147, -0.05798217961288579, -0.11674745030417051, -0.11668164816722788, -0.09872779636278196, -0.11631548945083067, -0.11625023615195024, 0.9372745506666281, -0.11477005642146611, -0.10457939609764813, -0.11653252494518879, -0.11603300835499927, -0.11672550446513913, -0.11601448523780013, -0.11641635919672454, -0.11296112493768755, -0.11663359364846793, -0.07327006339148151, -0.11649479753350053, -0.11666774779150058, -0.11594140110115062, -0.11050597590788984, 0.5009404829479639, -0.11278019568270603, -0.10629409299633302, -0.11435839125360313, -0.11675915054511665, -0.11428905586698386, -0.11667438259467304, -0.10544229354142715, -0.11648412183538479, -0.1163633525696595, -0.11502529672288916, -0.10717458475645729, -0.009941730865951312, -0.11658913128431142, -0.08414561310277828, -0.026987665719971885, -0.11604781899296109, 0.6783709024923884, -0.11668027626166678, -0.11659292287047192, -0.11617846448353365, -0.10986891098506563, -0.11561757498212467, -0.11459715258031267, -0.10366366638568386, -0.11670928147693188, -0.11667639996566123, -0.1165631252692099, -0.11633362986791942, -0.11649707857612082, -0.116301314545222, -0.11673706854601122, 0.09629813117270336, -0.11495124740982626, -0.11666745837159732, -0.1115201167088048, -0.115322189162036, 0.10073873372510898, -0.11659774763835909, -0.11176300768137139, -0.06122906233252278, -0.10162588268743468, -0.11650154618186798, -0.09502116291618341, 0.1984232358217216, -0.11217630655705996, -0.1165216640070436, -0.11672510991976788, -0.11676314284243224, -0.11138641940895182, -0.11503110696567655, -0.11668373095303197, -0.11447813276436604, -0.11622848505232343, -0.11646807470227663, -0.11416213058777645, -0.1167538689906646, -0.11674265110276237, -0.11522020245384812, -0.11095824415550562, -0.1161775765677254, -0.11651595130442939, -0.11611527657317836, -0.11655735075154197, -0.11674548374194144, -0.11608054579244179, -0.11326077586963702, -0.1164262459159154, -0.11642387813842062, -0.11667647505045714, -0.07909964837430586, -0.11631158896155007, -0.1164375226045453, -0.11675496069604883, -0.11593034687405113, -0.11677042892529514, -0.11635564998514643, 0.7814289563880842, -0.11661442394846377, -0.11660630165250616, -0.11370897425116605, -0.11604929549742954, -0.10044690793309542, -0.1163024531538973, -0.11611354797065088, 1.5770339871793393, -0.11671318079338755, -0.11551480970069773, -0.11637650267735425, -0.11658549313538079, -0.11658010122073081, -0.1166438130999574, -0.11596914406784244, -0.11658615948423785, -0.11658572055542119, -0.11639988800362457, -0.11631457867824127, -0.11665472389654159, -0.11643337607562353, -0.11666588015508222, -0.11644769419005357, 2.710596032238572, -0.11436008436164034, -0.11656938717439308, -0.07109495332669212, -0.11659200563755334, -0.11667428169132187, -0.029767864035752618, 2.0583377001380327, -0.09502116291618341, -0.1165601076763751, -0.09502116291618341, -0.11455142955028494, -0.024653930288839415, -0.11662212723821834, -0.1165071307721589, -0.09502116291618341, -0.11579658043780337, -0.09494984649804492, -0.11223681320336916, -0.07616176598547243, -0.115994881456215, -0.11600418367284152, -0.11677111188690718, -0.11672869153853639, -0.11642172703745059, -0.11620664107550122, -0.11676342959707536, -0.11645028853909702, -0.11516878104898907, 21.41656989446849, -0.11620972853533774, -0.11676317614125613, -0.11670495283425146, 0.5537208267348116, -0.11459715258031267, -0.11659049357294592, -0.11648787231020333, -0.11459715258031267, 0.10073873372510898, -0.11627242033000648, -0.11669518358612203, -0.11146820503796899, -0.0969609214097115, -0.11304571536908993, -0.1157664073767422, -0.11674388986486299, -0.09502116291618341, -0.11477105575798738, -0.0954513432226982, 2.4132284878541133, -0.11641097835133629, 0.1786289464229496, -0.11632531220627049, -0.11254303501252981, -0.11626343565502427, -0.09502116291618341, -0.11509257504054071, -0.11644111377461128, -0.11593719918442648, -0.11481662927578941, -0.11550083488145327, -0.11659578019809716, -0.11620967724683362, -0.11522793272717133, -0.11660134643032821, -0.11625514094887812, -0.11672036372882104, -0.08541554381798641, 0.28861627329452055, 0.10551275989065464, -0.11634209783201735, -0.1166852240948497, -0.11654040970781049, -0.11632639228982498, -0.07101846394129895, -0.11578154936828819, -0.11654098246070395, -0.11591908150589016, -0.10774485102721752, -0.1117262502151796, -0.1166085634168395, -0.11654887575905015, 0.18119773524542576, -0.1029091737470596, -0.11655931680553719, -0.11411505418087033, -0.10698283692121674, -0.11338916800290409, -0.11636861783534486, 0.07898763388078772, -0.11096516244324392, -0.11654397870560462, -0.11636092698151561, -0.11645172963845316, -0.11197118285554203, -0.1163967655884957, -0.11639809227313061, -0.1151150708653706, -0.00617021575780926, -0.11626825439347825, -0.11637029357638615, -0.11513138419431453, -0.10012092192501675, 3.886883668981351, -0.07733678112228733, -0.11232461859411026, -0.08616846536807164, 1.0894291988701488, -0.11459715258031267, -0.11552844605634119, -0.11387396555984389, -0.11329386149243359, -0.11533168323432934, -0.1165071307721589, -0.11460384917835917, -0.03845589484063743, -0.11636920977291147, -0.11459715258031267, 0.8620272206634684], \"yaxis\": \"y\"}],                        {\"legend\": {\"tracegroupgap\": 0}, \"margin\": {\"t\": 60}, \"template\": {\"data\": {\"bar\": [{\"error_x\": {\"color\": \"#2a3f5f\"}, \"error_y\": {\"color\": \"#2a3f5f\"}, \"marker\": {\"line\": {\"color\": \"#E5ECF6\", \"width\": 0.5}}, \"type\": \"bar\"}], \"barpolar\": [{\"marker\": {\"line\": {\"color\": \"#E5ECF6\", \"width\": 0.5}}, \"type\": \"barpolar\"}], \"carpet\": [{\"aaxis\": {\"endlinecolor\": \"#2a3f5f\", \"gridcolor\": \"white\", \"linecolor\": \"white\", \"minorgridcolor\": \"white\", \"startlinecolor\": \"#2a3f5f\"}, \"baxis\": {\"endlinecolor\": \"#2a3f5f\", \"gridcolor\": \"white\", \"linecolor\": \"white\", \"minorgridcolor\": \"white\", \"startlinecolor\": \"#2a3f5f\"}, \"type\": \"carpet\"}], \"choropleth\": [{\"colorbar\": {\"outlinewidth\": 0, \"ticks\": \"\"}, \"type\": \"choropleth\"}], \"contour\": [{\"colorbar\": {\"outlinewidth\": 0, \"ticks\": \"\"}, \"colorscale\": [[0.0, \"#0d0887\"], [0.1111111111111111, \"#46039f\"], [0.2222222222222222, \"#7201a8\"], [0.3333333333333333, \"#9c179e\"], [0.4444444444444444, \"#bd3786\"], [0.5555555555555556, \"#d8576b\"], [0.6666666666666666, \"#ed7953\"], [0.7777777777777778, \"#fb9f3a\"], [0.8888888888888888, \"#fdca26\"], [1.0, \"#f0f921\"]], \"type\": \"contour\"}], \"contourcarpet\": [{\"colorbar\": {\"outlinewidth\": 0, \"ticks\": \"\"}, \"type\": \"contourcarpet\"}], \"heatmap\": [{\"colorbar\": {\"outlinewidth\": 0, \"ticks\": \"\"}, \"colorscale\": [[0.0, \"#0d0887\"], [0.1111111111111111, \"#46039f\"], [0.2222222222222222, \"#7201a8\"], [0.3333333333333333, \"#9c179e\"], [0.4444444444444444, \"#bd3786\"], [0.5555555555555556, \"#d8576b\"], [0.6666666666666666, \"#ed7953\"], [0.7777777777777778, \"#fb9f3a\"], [0.8888888888888888, \"#fdca26\"], [1.0, \"#f0f921\"]], \"type\": \"heatmap\"}], \"heatmapgl\": [{\"colorbar\": {\"outlinewidth\": 0, \"ticks\": \"\"}, \"colorscale\": [[0.0, \"#0d0887\"], [0.1111111111111111, \"#46039f\"], [0.2222222222222222, \"#7201a8\"], [0.3333333333333333, \"#9c179e\"], [0.4444444444444444, \"#bd3786\"], [0.5555555555555556, \"#d8576b\"], [0.6666666666666666, \"#ed7953\"], [0.7777777777777778, \"#fb9f3a\"], [0.8888888888888888, \"#fdca26\"], [1.0, \"#f0f921\"]], \"type\": \"heatmapgl\"}], \"histogram\": [{\"marker\": {\"colorbar\": {\"outlinewidth\": 0, \"ticks\": \"\"}}, \"type\": \"histogram\"}], \"histogram2d\": [{\"colorbar\": {\"outlinewidth\": 0, \"ticks\": \"\"}, \"colorscale\": [[0.0, \"#0d0887\"], [0.1111111111111111, \"#46039f\"], [0.2222222222222222, \"#7201a8\"], [0.3333333333333333, \"#9c179e\"], [0.4444444444444444, \"#bd3786\"], [0.5555555555555556, \"#d8576b\"], [0.6666666666666666, \"#ed7953\"], [0.7777777777777778, \"#fb9f3a\"], [0.8888888888888888, \"#fdca26\"], [1.0, \"#f0f921\"]], \"type\": \"histogram2d\"}], \"histogram2dcontour\": [{\"colorbar\": {\"outlinewidth\": 0, \"ticks\": \"\"}, \"colorscale\": [[0.0, \"#0d0887\"], [0.1111111111111111, \"#46039f\"], [0.2222222222222222, \"#7201a8\"], [0.3333333333333333, \"#9c179e\"], [0.4444444444444444, \"#bd3786\"], [0.5555555555555556, \"#d8576b\"], [0.6666666666666666, \"#ed7953\"], [0.7777777777777778, \"#fb9f3a\"], [0.8888888888888888, \"#fdca26\"], [1.0, \"#f0f921\"]], \"type\": \"histogram2dcontour\"}], \"mesh3d\": [{\"colorbar\": {\"outlinewidth\": 0, \"ticks\": \"\"}, \"type\": \"mesh3d\"}], \"parcoords\": [{\"line\": {\"colorbar\": {\"outlinewidth\": 0, \"ticks\": \"\"}}, \"type\": \"parcoords\"}], \"pie\": [{\"automargin\": true, \"type\": \"pie\"}], \"scatter\": [{\"marker\": {\"colorbar\": {\"outlinewidth\": 0, \"ticks\": \"\"}}, \"type\": \"scatter\"}], \"scatter3d\": [{\"line\": {\"colorbar\": {\"outlinewidth\": 0, \"ticks\": \"\"}}, \"marker\": {\"colorbar\": {\"outlinewidth\": 0, \"ticks\": \"\"}}, \"type\": \"scatter3d\"}], \"scattercarpet\": [{\"marker\": {\"colorbar\": {\"outlinewidth\": 0, \"ticks\": \"\"}}, \"type\": \"scattercarpet\"}], \"scattergeo\": [{\"marker\": {\"colorbar\": {\"outlinewidth\": 0, \"ticks\": \"\"}}, \"type\": \"scattergeo\"}], \"scattergl\": [{\"marker\": {\"colorbar\": {\"outlinewidth\": 0, \"ticks\": \"\"}}, \"type\": \"scattergl\"}], \"scattermapbox\": [{\"marker\": {\"colorbar\": {\"outlinewidth\": 0, \"ticks\": \"\"}}, \"type\": \"scattermapbox\"}], \"scatterpolar\": [{\"marker\": {\"colorbar\": {\"outlinewidth\": 0, \"ticks\": \"\"}}, \"type\": \"scatterpolar\"}], \"scatterpolargl\": [{\"marker\": {\"colorbar\": {\"outlinewidth\": 0, \"ticks\": \"\"}}, \"type\": \"scatterpolargl\"}], \"scatterternary\": [{\"marker\": {\"colorbar\": {\"outlinewidth\": 0, \"ticks\": \"\"}}, \"type\": \"scatterternary\"}], \"surface\": [{\"colorbar\": {\"outlinewidth\": 0, \"ticks\": \"\"}, \"colorscale\": [[0.0, \"#0d0887\"], [0.1111111111111111, \"#46039f\"], [0.2222222222222222, \"#7201a8\"], [0.3333333333333333, \"#9c179e\"], [0.4444444444444444, \"#bd3786\"], [0.5555555555555556, \"#d8576b\"], [0.6666666666666666, \"#ed7953\"], [0.7777777777777778, \"#fb9f3a\"], [0.8888888888888888, \"#fdca26\"], [1.0, \"#f0f921\"]], \"type\": \"surface\"}], \"table\": [{\"cells\": {\"fill\": {\"color\": \"#EBF0F8\"}, \"line\": {\"color\": \"white\"}}, \"header\": {\"fill\": {\"color\": \"#C8D4E3\"}, \"line\": {\"color\": \"white\"}}, \"type\": \"table\"}]}, \"layout\": {\"annotationdefaults\": {\"arrowcolor\": \"#2a3f5f\", \"arrowhead\": 0, \"arrowwidth\": 1}, \"coloraxis\": {\"colorbar\": {\"outlinewidth\": 0, \"ticks\": \"\"}}, \"colorscale\": {\"diverging\": [[0, \"#8e0152\"], [0.1, \"#c51b7d\"], [0.2, \"#de77ae\"], [0.3, \"#f1b6da\"], [0.4, \"#fde0ef\"], [0.5, \"#f7f7f7\"], [0.6, \"#e6f5d0\"], [0.7, \"#b8e186\"], [0.8, \"#7fbc41\"], [0.9, \"#4d9221\"], [1, \"#276419\"]], \"sequential\": [[0.0, \"#0d0887\"], [0.1111111111111111, \"#46039f\"], [0.2222222222222222, \"#7201a8\"], [0.3333333333333333, \"#9c179e\"], [0.4444444444444444, \"#bd3786\"], [0.5555555555555556, \"#d8576b\"], [0.6666666666666666, \"#ed7953\"], [0.7777777777777778, \"#fb9f3a\"], [0.8888888888888888, \"#fdca26\"], [1.0, \"#f0f921\"]], \"sequentialminus\": [[0.0, \"#0d0887\"], [0.1111111111111111, \"#46039f\"], [0.2222222222222222, \"#7201a8\"], [0.3333333333333333, \"#9c179e\"], [0.4444444444444444, \"#bd3786\"], [0.5555555555555556, \"#d8576b\"], [0.6666666666666666, \"#ed7953\"], [0.7777777777777778, \"#fb9f3a\"], [0.8888888888888888, \"#fdca26\"], [1.0, \"#f0f921\"]]}, \"colorway\": [\"#636efa\", \"#EF553B\", \"#00cc96\", \"#ab63fa\", \"#FFA15A\", \"#19d3f3\", \"#FF6692\", \"#B6E880\", \"#FF97FF\", \"#FECB52\"], \"font\": {\"color\": \"#2a3f5f\"}, \"geo\": {\"bgcolor\": \"white\", \"lakecolor\": \"white\", \"landcolor\": \"#E5ECF6\", \"showlakes\": true, \"showland\": true, \"subunitcolor\": \"white\"}, \"hoverlabel\": {\"align\": \"left\"}, \"hovermode\": \"closest\", \"mapbox\": {\"style\": \"light\"}, \"paper_bgcolor\": \"white\", \"plot_bgcolor\": \"#E5ECF6\", \"polar\": {\"angularaxis\": {\"gridcolor\": \"white\", \"linecolor\": \"white\", \"ticks\": \"\"}, \"bgcolor\": \"#E5ECF6\", \"radialaxis\": {\"gridcolor\": \"white\", \"linecolor\": \"white\", \"ticks\": \"\"}}, \"scene\": {\"xaxis\": {\"backgroundcolor\": \"#E5ECF6\", \"gridcolor\": \"white\", \"gridwidth\": 2, \"linecolor\": \"white\", \"showbackground\": true, \"ticks\": \"\", \"zerolinecolor\": \"white\"}, \"yaxis\": {\"backgroundcolor\": \"#E5ECF6\", \"gridcolor\": \"white\", \"gridwidth\": 2, \"linecolor\": \"white\", \"showbackground\": true, \"ticks\": \"\", \"zerolinecolor\": \"white\"}, \"zaxis\": {\"backgroundcolor\": \"#E5ECF6\", \"gridcolor\": \"white\", \"gridwidth\": 2, \"linecolor\": \"white\", \"showbackground\": true, \"ticks\": \"\", \"zerolinecolor\": \"white\"}}, \"shapedefaults\": {\"line\": {\"color\": \"#2a3f5f\"}}, \"ternary\": {\"aaxis\": {\"gridcolor\": \"white\", \"linecolor\": \"white\", \"ticks\": \"\"}, \"baxis\": {\"gridcolor\": \"white\", \"linecolor\": \"white\", \"ticks\": \"\"}, \"bgcolor\": \"#E5ECF6\", \"caxis\": {\"gridcolor\": \"white\", \"linecolor\": \"white\", \"ticks\": \"\"}}, \"title\": {\"x\": 0.05}, \"xaxis\": {\"automargin\": true, \"gridcolor\": \"white\", \"linecolor\": \"white\", \"ticks\": \"\", \"title\": {\"standoff\": 15}, \"zerolinecolor\": \"white\", \"zerolinewidth\": 2}, \"yaxis\": {\"automargin\": true, \"gridcolor\": \"white\", \"linecolor\": \"white\", \"ticks\": \"\", \"title\": {\"standoff\": 15}, \"zerolinecolor\": \"white\", \"zerolinewidth\": 2}}}, \"xaxis\": {\"anchor\": \"y\", \"domain\": [0.0, 1.0], \"title\": {\"text\": \"TotalCoinsMined\"}}, \"yaxis\": {\"anchor\": \"x\", \"domain\": [0.0, 1.0], \"title\": {\"text\": \"TotalCoinSupply\"}}},                        {\"responsive\": true}                    ).then(function(){\n",
       "                            \n",
       "var gd = document.getElementById('c81e392e-319a-4ddf-a33e-d2a74c6936bb');\n",
       "var x = new MutationObserver(function (mutations, observer) {{\n",
       "        var display = window.getComputedStyle(gd).display;\n",
       "        if (!display || display === 'none') {{\n",
       "            console.log([gd, 'removed!']);\n",
       "            Plotly.purge(gd);\n",
       "            observer.disconnect();\n",
       "        }}\n",
       "}});\n",
       "\n",
       "// Listen for the removal of the full notebook cells\n",
       "var notebookContainer = gd.closest('#notebook-container');\n",
       "if (notebookContainer) {{\n",
       "    x.observe(notebookContainer, {childList: true});\n",
       "}}\n",
       "\n",
       "// Listen for the clearing of the current output cell\n",
       "var outputEl = gd.closest('.output');\n",
       "if (outputEl) {{\n",
       "    x.observe(outputEl, {childList: true});\n",
       "}}\n",
       "\n",
       "                        })                };                });            </script>        </div>"
      ]
     },
     "metadata": {},
     "output_type": "display_data"
    }
   ],
   "source": [
    "# Plot the scatter with x=\"TotalCoinsMined\" and y=\"TotalCoinSupply\"\n",
    "px.scatter(scaled_coin_df, x=\"TotalCoinsMined\",y=\"TotalCoinSupply\")"
   ]
  }
 ],
 "metadata": {
  "file_extension": ".py",
  "kernelspec": {
   "display_name": "Python 3",
   "language": "python",
   "name": "python3"
  },
  "language_info": {
   "codemirror_mode": {
    "name": "ipython",
    "version": 3
   },
   "file_extension": ".py",
   "mimetype": "text/x-python",
   "name": "python",
   "nbconvert_exporter": "python",
   "pygments_lexer": "ipython3",
   "version": "3.7.9"
  },
  "mimetype": "text/x-python",
  "name": "python",
  "npconvert_exporter": "python",
  "pygments_lexer": "ipython3",
  "version": 3
 },
 "nbformat": 4,
 "nbformat_minor": 4
}
